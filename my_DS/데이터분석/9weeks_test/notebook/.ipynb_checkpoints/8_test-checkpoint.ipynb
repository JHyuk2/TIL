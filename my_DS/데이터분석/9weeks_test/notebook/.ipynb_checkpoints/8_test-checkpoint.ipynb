{
 "cells": [
  {
   "cell_type": "code",
   "execution_count": 4,
   "metadata": {},
   "outputs": [],
   "source": [
    "# import numpy and pandas\n",
    "import numpy as np\n",
    "import pandas as pd\n",
    "\n",
    "# used for dates\n",
    "import datetime\n",
    "from datetime import datetime, date\n",
    "\n",
    "# Set some pandas options controlling output format\n",
    "pd.set_option('display.notebook_repr_html', False)\n",
    "pd.set_option('display.max_columns', 8)\n",
    "pd.set_option('display.max_rows', 10)\n",
    "pd.set_option('display.width', 80)\n",
    "\n",
    "# bring in matplotlib for graphics\n",
    "import matplotlib.pyplot as plt\n",
    "%matplotlib inline"
   ]
  },
  {
   "cell_type": "code",
   "execution_count": 9,
   "metadata": {},
   "outputs": [
    {
     "data": {
      "text/plain": [
       "    시군구별(1) 시군구별(2)  성별    대상인원   수검인원\n",
       "0        서울     종로구  남자   27770  19198\n",
       "1        서울     종로구  여자   28509  20276\n",
       "2        서울      중구  남자   24360  16573\n",
       "3        서울      중구  여자   24672  17476\n",
       "4        서울     용산구  남자   40684  28025\n",
       "..      ...     ...  ..     ...    ...\n",
       "525      제주      소계  여자  113405  83399\n",
       "526      제주     제주시  남자   88674  64133\n",
       "527      제주     제주시  여자   82360  61256\n",
       "528      제주    서귀포시  남자   33749  22877\n",
       "529      제주    서귀포시  여자   31045  22143\n",
       "\n",
       "[530 rows x 5 columns]"
      ]
     },
     "execution_count": 9,
     "metadata": {},
     "output_type": "execute_result"
    }
   ],
   "source": [
    "df = pd.read_csv('../data/건강검진자료.csv', encoding='cp949')\n",
    "df"
   ]
  },
  {
   "cell_type": "code",
   "execution_count": 11,
   "metadata": {},
   "outputs": [
    {
     "data": {
      "text/plain": [
       "Index(['시군구별(1)', '시군구별(2)', '성별', '대상인원', '수검인원'], dtype='object')"
      ]
     },
     "execution_count": 11,
     "metadata": {},
     "output_type": "execute_result"
    }
   ],
   "source": [
    "df.  # 열 이름"
   ]
  },
  {
   "cell_type": "code",
   "execution_count": 12,
   "metadata": {},
   "outputs": [
    {
     "data": {
      "text/plain": [
       "530"
      ]
     },
     "execution_count": 12,
     "metadata": {},
     "output_type": "execute_result"
    }
   ],
   "source": [
    "    (df) # 데이터 길이"
   ]
  },
  {
   "cell_type": "code",
   "execution_count": 13,
   "metadata": {},
   "outputs": [
    {
     "data": {
      "text/plain": [
       "(530, 5)"
      ]
     },
     "execution_count": 13,
     "metadata": {},
     "output_type": "execute_result"
    }
   ],
   "source": [
    "df.     # 행열 크기"
   ]
  },
  {
   "cell_type": "code",
   "execution_count": 24,
   "metadata": {},
   "outputs": [],
   "source": [
    "speed = pd.read_csv(\"../data/대중교통과_승용차_속도비교.csv\", encoding='cp949', )   # index_col ='권역'  usecols = [0, 1, 3, 4]"
   ]
  },
  {
   "cell_type": "code",
   "execution_count": 25,
   "metadata": {},
   "outputs": [
    {
     "data": {
      "text/plain": [
       "       구간  승용차   버스\n",
       "권역                 \n",
       "수도권  10km   30   49\n",
       "수도권  10km   28   49\n",
       "수도권  10km   35   49\n",
       "수도권  20km   47   69\n",
       "수도권  20km   44   69\n",
       "..    ...  ...  ...\n",
       "울산권  20km   30   57\n",
       "울산권  20km   39   57\n",
       "울산권  30km   42  104\n",
       "울산권  30km   41  101\n",
       "울산권  30km   46  103\n",
       "\n",
       "[54 rows x 3 columns]"
      ]
     },
     "execution_count": 25,
     "metadata": {},
     "output_type": "execute_result"
    }
   ],
   "source": [
    "speed"
   ]
  },
  {
   "cell_type": "code",
   "execution_count": 26,
   "metadata": {},
   "outputs": [
    {
     "data": {
      "text/plain": [
       "Index(['수도권', '수도권', '수도권', '수도권', '수도권', '수도권', '수도권', '수도권', '수도권', '대구권',\n",
       "       '대구권', '대구권', '대구권', '대구권', '대구권', '대구권', '대구권', '대구권', '대전권', '대전권',\n",
       "       '대전권', '대전권', '대전권', '대전권', '대전권', '대전권', '대전권', '광주권', '광주권', '광주권',\n",
       "       '광주권', '광주권', '광주권', '광주권', '광주권', '광주권', '부산권', '부산권', '부산권', '부산권',\n",
       "       '부산권', '부산권', '부산권', '부산권', '부산권', '울산권', '울산권', '울산권', '울산권', '울산권',\n",
       "       '울산권', '울산권', '울산권', '울산권'],\n",
       "      dtype='object', name='권역')"
      ]
     },
     "execution_count": 26,
     "metadata": {},
     "output_type": "execute_result"
    }
   ],
   "source": [
    "speed."
   ]
  },
  {
   "cell_type": "code",
   "execution_count": 27,
   "metadata": {},
   "outputs": [
    {
     "data": {
      "text/plain": [
       "Index(['구간', '승용차', '버스'], dtype='object')"
      ]
     },
     "execution_count": 27,
     "metadata": {},
     "output_type": "execute_result"
    }
   ],
   "source": [
    "speed."
   ]
  },
  {
   "cell_type": "code",
   "execution_count": 28,
   "metadata": {},
   "outputs": [
    {
     "data": {
      "text/plain": [
       "권역\n",
       "수도권    30\n",
       "수도권    28\n",
       "수도권    35\n",
       "수도권    47\n",
       "수도권    44\n",
       "Name: 승용차, dtype: int64"
      ]
     },
     "execution_count": 28,
     "metadata": {},
     "output_type": "execute_result"
    }
   ],
   "source": [
    "speed                # 승용차"
   ]
  },
  {
   "cell_type": "code",
   "execution_count": 30,
   "metadata": {},
   "outputs": [
    {
     "data": {
      "text/plain": [
       "     승용차  버스\n",
       "권역          \n",
       "수도권   30  49\n",
       "수도권   28  49\n",
       "수도권   35  49\n",
       "수도권   47  69\n",
       "수도권   44  69"
      ]
     },
     "execution_count": 30,
     "metadata": {},
     "output_type": "execute_result"
    }
   ],
   "source": [
    "speed              # 승용차, 버스 "
   ]
  },
  {
   "cell_type": "code",
   "execution_count": 31,
   "metadata": {},
   "outputs": [
    {
     "data": {
      "text/plain": [
       "pandas.core.frame.DataFrame"
      ]
     },
     "execution_count": 31,
     "metadata": {},
     "output_type": "execute_result"
    }
   ],
   "source": [
    "speed               # 승용차, 버스 type"
   ]
  },
  {
   "cell_type": "code",
   "execution_count": 34,
   "metadata": {},
   "outputs": [
    {
     "data": {
      "text/plain": [
       "       구간  승용차  버스\n",
       "권역                \n",
       "수도권  10km   30  49\n",
       "수도권  10km   28  49\n",
       "수도권  10km   35  49\n",
       "수도권  20km   47  69\n",
       "수도권  20km   44  69\n",
       "수도권  20km   56  69\n",
       "수도권  30km   56  83\n",
       "수도권  30km   51  82\n",
       "수도권  30km   68  83"
      ]
     },
     "execution_count": 34,
     "metadata": {},
     "output_type": "execute_result"
    }
   ],
   "source": [
    "ss = speed.             # 수도권 loc\n",
    "ss"
   ]
  },
  {
   "cell_type": "code",
   "execution_count": 39,
   "metadata": {},
   "outputs": [
    {
     "data": {
      "text/plain": [
       "       구간  승용차  버스\n",
       "권역                \n",
       "대구권  10km   24  47\n",
       "대구권  10km   25  46\n",
       "대구권  10km   29  46\n",
       "대구권  20km   36  63\n",
       "대구권  20km   35  61\n",
       "..    ...  ...  ..\n",
       "부산권  20km   39  69\n",
       "부산권  20km   46  71\n",
       "부산권  30km   46  87\n",
       "부산권  30km   46  87\n",
       "부산권  30km   55  87\n",
       "\n",
       "[18 rows x 3 columns]"
      ]
     },
     "execution_count": 39,
     "metadata": {},
     "output_type": "execute_result"
    }
   ],
   "source": [
    "speed.                      # 대구권, 부산권 loc"
   ]
  },
  {
   "cell_type": "code",
   "execution_count": 40,
   "metadata": {},
   "outputs": [
    {
     "data": {
      "text/plain": [
       "array([49, 49, 49, 69, 69, 69, 83, 82, 83], dtype=int64)"
      ]
     },
     "execution_count": 40,
     "metadata": {},
     "output_type": "execute_result"
    }
   ],
   "source": [
    "speed.                # at"
   ]
  },
  {
   "cell_type": "code",
   "execution_count": 41,
   "metadata": {},
   "outputs": [
    {
     "data": {
      "text/plain": [
       "       구간  승용차  버스\n",
       "권역                \n",
       "수도권  10km   30  49\n",
       "수도권  10km   28  49\n",
       "수도권  10km   35  49\n",
       "수도권  20km   47  69\n",
       "수도권  20km   44  69\n",
       "..    ...  ...  ..\n",
       "부산권  20km   39  69\n",
       "부산권  20km   46  71\n",
       "부산권  30km   46  87\n",
       "부산권  30km   46  87\n",
       "부산권  30km   55  87\n",
       "\n",
       "[45 rows x 3 columns]"
      ]
     },
     "execution_count": 41,
     "metadata": {},
     "output_type": "execute_result"
    }
   ],
   "source": [
    "speed              # 수도권부터 부산권까지 []"
   ]
  },
  {
   "cell_type": "code",
   "execution_count": 42,
   "metadata": {},
   "outputs": [
    {
     "data": {
      "text/plain": [
       "       구간  승용차  버스\n",
       "권역                \n",
       "수도권  10km   28  49\n",
       "대구권  10km   24  47\n",
       "대구권  10km   25  46\n",
       "대구권  10km   29  46\n",
       "대전권  10km   27  50\n",
       "..    ...  ...  ..\n",
       "부산권  10km   25  48\n",
       "부산권  10km   25  48\n",
       "울산권  10km   21  45\n",
       "울산권  10km   21  45\n",
       "울산권  10km   27  45\n",
       "\n",
       "[15 rows x 3 columns]"
      ]
     },
     "execution_count": 42,
     "metadata": {},
     "output_type": "execute_result"
    }
   ],
   "source": [
    "speed                    # 승용차 30보다 작음"
   ]
  },
  {
   "cell_type": "code",
   "execution_count": 43,
   "metadata": {},
   "outputs": [
    {
     "data": {
      "text/plain": [
       "     승용차  버스\n",
       "권역          \n",
       "수도권   28  49\n",
       "대구권   24  47\n",
       "대구권   25  46\n",
       "대구권   29  46\n",
       "대전권   27  50\n",
       "..   ...  ..\n",
       "부산권   25  48\n",
       "부산권   25  48\n",
       "울산권   21  45\n",
       "울산권   21  45\n",
       "울산권   27  45\n",
       "\n",
       "[12 rows x 2 columns]"
      ]
     },
     "execution_count": 43,
     "metadata": {},
     "output_type": "execute_result"
    }
   ],
   "source": [
    "r = speed                            # 승용차 30보다 작고 20보다 큰 승용차, 버스 조건에 맞는 객체 생성\n",
    "r"
   ]
  },
  {
   "cell_type": "code",
   "execution_count": 45,
   "metadata": {},
   "outputs": [
    {
     "data": {
      "text/plain": [
       "     승용차  버스\n",
       "권역          \n",
       "수도권   30  49\n",
       "수도권   28  49\n",
       "수도권   35  49\n",
       "대구권   29  46\n",
       "대전권   27  50\n",
       "대전권   27  49\n",
       "대전권   30  49\n",
       "부산권   31  48\n",
       "울산권   27  45"
      ]
     },
     "execution_count": 45,
     "metadata": {},
     "output_type": "execute_result"
    }
   ],
   "source": [
    "rr = speed                        # 구간이 10km, 승용차 25보다 큰 승용차, 버스 객체 생성\n",
    "rr"
   ]
  },
  {
   "cell_type": "code",
   "execution_count": 49,
   "metadata": {},
   "outputs": [
    {
     "data": {
      "text/plain": [
       "권역\n",
       "부산권    48\n",
       "부산권    48\n",
       "부산권    48\n",
       "부산권    71\n",
       "부산권    69\n",
       "부산권    71\n",
       "부산권    87\n",
       "부산권    87\n",
       "부산권    87\n",
       "Name: 버스, dtype: int64"
      ]
     },
     "execution_count": 49,
     "metadata": {},
     "output_type": "execute_result"
    }
   ],
   "source": [
    "speed.                      # 부산권의 버스 검색, loc"
   ]
  },
  {
   "cell_type": "code",
   "execution_count": 47,
   "metadata": {},
   "outputs": [
    {
     "data": {
      "text/plain": [
       "     승용차   버스\n",
       "권역           \n",
       "수도권   30   49\n",
       "수도권   28   49\n",
       "수도권   35   49\n",
       "수도권   47   69\n",
       "수도권   44   69\n",
       "..   ...  ...\n",
       "대전권   38   74\n",
       "대전권   44   75\n",
       "대전권   52  116\n",
       "대전권   51  116\n",
       "대전권   57  112\n",
       "\n",
       "[18 rows x 2 columns]"
      ]
     },
     "execution_count": 47,
     "metadata": {},
     "output_type": "execute_result"
    }
   ],
   "source": [
    "speed.                                        # 수도권 또는 대전권인 승용차와 버스 검색, loc"
   ]
  }
 ],
 "metadata": {
  "kernelspec": {
   "display_name": "Python 3",
   "language": "python",
   "name": "python3"
  },
  "language_info": {
   "codemirror_mode": {
    "name": "ipython",
    "version": 3
   },
   "file_extension": ".py",
   "mimetype": "text/x-python",
   "name": "python",
   "nbconvert_exporter": "python",
   "pygments_lexer": "ipython3",
   "version": "3.7.6"
  }
 },
 "nbformat": 4,
 "nbformat_minor": 4
}
