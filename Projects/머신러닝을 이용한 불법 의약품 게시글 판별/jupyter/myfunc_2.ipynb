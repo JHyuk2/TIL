{
 "cells": [
  {
   "cell_type": "code",
   "execution_count": 119,
   "metadata": {
    "collapsed": true
   },
   "outputs": [],
   "source": [
    "import pandas as pd\n",
    "import numpy as np\n",
    "import hgtk\n",
    "import MeCab"
   ]
  },
  {
   "cell_type": "code",
   "execution_count": 120,
   "metadata": {
    "collapsed": true
   },
   "outputs": [],
   "source": [
    "#파일을 읽고 필요한 정보 데이터만 가져오기\n",
    "def read_file(file):\n",
    "    data = pd.read_excel(file)\n",
    "    text = data[\"text\"]\n",
    "    label = data['label']\n",
    "    new_data = pd.DataFrame({\"Text\" : text,\"Label\" : label})\n",
    "    return new_data"
   ]
  },
  {
   "cell_type": "code",
   "execution_count": 121,
   "metadata": {},
   "outputs": [
    {
     "name": "stdout",
     "output_type": "stream",
     "text": [
      "     Label                                               Text\n",
      "1.0      0  사람들이 잘 모르는데 진짜 유명해졌으면 하는 일본 편의점 음식 #일본 #미니스톱 #...\n",
      "2.0      0  [#아이스의오락시간] #아이스 의 오락시간 \\n과연 누가 아이스의 유연성 왕일지 얼...\n",
      "3.0      0  오. 오랫만에 #아이스 #돌체라떼 음 맛있겠다 (@ Starbucks in 부산광역...\n",
      "4.0      0  [맛집탐험대] 나를 놀라게한 커피 \"TERAROSA\" \\n\\n#TERAROSA #테...\n",
      "5.0      0  #로렉스 #아이스# 다이아#고씨쥬얼리#명품시계#금#화이트#골드#화이트골드 https...\n"
     ]
    }
   ],
   "source": [
    "if __name__ == \"__main__\":\n",
    "    data = read_file(\"data_sample.xlsx\")\n",
    "    print(data.head())"
   ]
  },
  {
   "cell_type": "code",
   "execution_count": 93,
   "metadata": {
    "collapsed": true
   },
   "outputs": [],
   "source": [
    "def split_all_sentence(text_data):\n",
    "    result = []\n",
    "    count = 0\n",
    "    for idx,text in enumerate(list(text_data)):\n",
    "        #print(idx,text)\n",
    "        temp = text.split(sep = \" \")\n",
    "        result.append(temp)\n",
    "    return result"
   ]
  },
  {
   "cell_type": "code",
   "execution_count": 94,
   "metadata": {
    "scrolled": true
   },
   "outputs": [
    {
     "name": "stdout",
     "output_type": "stream",
     "text": [
      "[['사람들이', '잘', '모르는데', '진짜', '유명해졌으면', '하는', '일본', '편의점', '음식', '#일본', '#미니스톱', '#아이스', '#果実いちご氷', '세상사람들', '이것', '좀', '먹어보세요ㅠ유유ㅠㅠㅠ', '위에는', '달달한', '바닐라', '아이스고', '밑에는', '얼린', '딸기에', '연유가', '뿌려져', '있어요pic.twitter.com/KOERcUnoPR'], ['[#아이스의오락시간]', '#아이스', '의', '오락시간', '\\n과연', '누가', '아이스의', '유연성', '왕일지', '얼른보러가요오\\n\\n링크\\nhttps://youtu.be/CIrDBMGpi88\\xa0'], ['오.', '오랫만에', '#아이스', '#돌체라떼', '음', '맛있겠다', '(@', 'Starbucks', 'in', '부산광역시,', 'Busan,', '부산)https://www.swarmapp.com/c/e1Fpaw2QAjG\\xa0'], ['[맛집탐험대]', '나를', '놀라게한', '커피', '\"TERAROSA\"', '\\n\\n#TERAROSA', '#테라로사', '#날씨', '#냉커피', '#덥다', '#맛', '#맛집', '#사장님', '#서정점', '#아메리카노', '#아이스', '#아이스커피', '#양평', '#좋다', '#카페', '#커피', '#커피향', '#커피향기', '#향기', '#홍보', '#콜드브루http://enomoosiki.tistory.com/395\\xa0'], ['#로렉스', '#아이스#', '다이아#고씨쥬얼리#명품시계#금#화이트#골드#화이트골드', 'https://www.instagram.com/p/BmLvn5gAFeF/?utm_source=ig_twitter_share&igshid=16vjo18h09rib\\xa0…']]\n"
     ]
    }
   ],
   "source": [
    "if __name__ == \"__main__\":\n",
    "    print(split_all_sentence(data[\"Text\"][:5]))\n",
    "    #type(a)"
   ]
  },
  {
   "cell_type": "code",
   "execution_count": 95,
   "metadata": {
    "collapsed": true
   },
   "outputs": [],
   "source": [
    "#data에 있는 text 데이터에 대해 url을 다 없애주는 함수\n",
    "def remove_url(text_data):\n",
    "    result = []\n",
    "    for line in text_data:\n",
    "        new_line = []\n",
    "        for text in line:\n",
    "            if (\"http\" not in text) and (\"pic\" not in text):\n",
    "                new_line.append(text)\n",
    "        result.append(new_line)\n",
    "    return result"
   ]
  },
  {
   "cell_type": "code",
   "execution_count": 96,
   "metadata": {},
   "outputs": [
    {
     "name": "stdout",
     "output_type": "stream",
     "text": [
      "[['사람들이', '잘', '모르는데', '진짜', '유명해졌으면', '하는', '일본', '편의점', '음식', '#일본', '#미니스톱', '#아이스', '#果実いちご氷', '세상사람들', '이것', '좀', '먹어보세요ㅠ유유ㅠㅠㅠ', '위에는', '달달한', '바닐라', '아이스고', '밑에는', '얼린', '딸기에', '연유가', '뿌려져'], ['[#아이스의오락시간]', '#아이스', '의', '오락시간', '\\n과연', '누가', '아이스의', '유연성', '왕일지'], ['오.', '오랫만에', '#아이스', '#돌체라떼', '음', '맛있겠다', '(@', 'Starbucks', 'in', '부산광역시,', 'Busan,'], ['[맛집탐험대]', '나를', '놀라게한', '커피', '\"TERAROSA\"', '\\n\\n#TERAROSA', '#테라로사', '#날씨', '#냉커피', '#덥다', '#맛', '#맛집', '#사장님', '#서정점', '#아메리카노', '#아이스', '#아이스커피', '#양평', '#좋다', '#카페', '#커피', '#커피향', '#커피향기', '#향기', '#홍보'], ['#로렉스', '#아이스#', '다이아#고씨쥬얼리#명품시계#금#화이트#골드#화이트골드'], ['새벽까지', '비가', '오더니\\n아침이', '되니', '또다시', '무더위~\\n아침부터', '아아로', '한', '잔', '마셔요^^\\nㆍ\\nㆍ\\nㆍ\\n#늦더위', '#아이스', '#커피향', '@태안펜션그람피하우스'], ['#얼음활용법\\n#얼음', '#아이스\\n#생활꿀팁\\n#경기도경제과학진흥원', '#GBSA\\n\\n집에', '보관해둔', '얼음을', '생활', '곳곳에서', '알뜰하게', '활용하는', '방법을'], ['#광주', '낮보단', '덜', '더운', '#하늘마당\\n#어디간거니', 'ㅜㅡㅜ\\n이#밤분위기', '에', '#비타500', '#아이스', '로', '들이마시고', '있음ㅜㅜㅜ\\n#광주광역시', '#문화전당', '#문화전당하늘공원', '#여행스타그램', '#광주여행', '그래도', '#덥다그램\\n#gwangju', '#tripstagram', '#hanulmadang', '@하늘', '마당'], ['7월', '4주차', '신상', '입고되었습니다.', '', '#카메라', '#안경', '#빵', '#튜브잔', '#토끼', '#아이스', '#햄스터', '#물개', '#병아리', '#모찌', '#포켓몬스터', '#디즈니프린세스', '#짱구', '#스밋코구라시', '#케이프', '#맥주잔', '#게임기', '#도검난무', '#건담', '#가챠폰', '#피규어', '#미니어쳐', '#홍대', '#상수역', '#로렌스길'], ['집에서도', '만들', '수', '있는\\n나만의', '아이스크림', '제조법\\n\\n']]\n"
     ]
    }
   ],
   "source": [
    "if __name__ == \"__main__\":\n",
    "    a = remove_url(split_all_sentence(data[\"Text\"][:10]))\n",
    "    print(a[:10])"
   ]
  },
  {
   "cell_type": "code",
   "execution_count": 107,
   "metadata": {
    "collapsed": true
   },
   "outputs": [],
   "source": [
    "#특수문자를 모두 제거하는 함수\n",
    "def change(otl):\n",
    "    result = []\n",
    "    for line in otl:\n",
    "        result_text = \"\"\n",
    "        for word in line:\n",
    "            if word.isalpha() :\n",
    "                #new_word = remove_dan(word)\n",
    "                result_text += word\n",
    "            else:\n",
    "                for t in word: #remove_dan(word) \n",
    "                    if t.isalpha():\n",
    "                        result_text += t\n",
    "                    else:\n",
    "                        result_text += \" \"\n",
    "            result_text += \" \"\n",
    "        result.append(result_text)\n",
    "    return result"
   ]
  },
  {
   "cell_type": "code",
   "execution_count": 118,
   "metadata": {
    "collapsed": true
   },
   "outputs": [],
   "source": [
    "def word_type_extract(custom_list, text):\n",
    "    tagger = MeCab.Tagger()\n",
    "    real = tagger.parse(text)\n",
    "    separate_text = real.split()\n",
    "    real_text = separate_text[:-1]\n",
    "    words = []\n",
    "    types = []\n",
    "    ans2 = []\n",
    "    selected_words = []\n",
    "    \n",
    "    for i in range(len(real_text)):\n",
    "        if i%2 == 0:\n",
    "            words.append(real_text[i])\n",
    "        else:\n",
    "            types.append(real_text[i].split(\",\")[0])        \n",
    "    ans = list(zip(words, types))\n",
    "       \n",
    "    if custom_list == []:\n",
    "        #ans2 = \" \".join(words)\n",
    "        ans2 = words\n",
    "    \n",
    "    else:\n",
    "        for i in ans:\n",
    "            if i[1] in custom_list:\n",
    "                selected_words.append(i[0])\n",
    "                \n",
    "        #ans2 = \" \".join(selected_words)\n",
    "        ans2 = selected_words\n",
    "    return ans2"
   ]
  },
  {
   "cell_type": "code",
   "execution_count": 98,
   "metadata": {
    "scrolled": true
   },
   "outputs": [
    {
     "name": "stdout",
     "output_type": "stream",
     "text": [
      "['사람들이 모르는데 진짜 유명해졌으면 하는 일본 편의점 음식 일본 미니스톱 아이스 果実いちご氷 세상사람들 이것 먹어보세요 유유 위에는 달달한 바닐라 아이스고 밑에는 얼린 딸기에 연유가 뿌려져 아이스의오락시간 아이스 오락시간 과연 누가 아이스의 유연성 왕일지 오 오랫만에 아이스 돌체라떼 맛있겠다 Starbucks in 부산광역시 Busan ']\n"
     ]
    }
   ],
   "source": [
    "if __name__ == \"__main__\":\n",
    "    print(change([['사람들이 모르는데 진짜 유명해졌으면 하는 일본 편의점 음식 일본 미니스톱 아이스 果実いちご氷 세상사람들 이것 먹어보세요 유유 위에는 달달한 바닐라 아이스고 밑에는 얼린 딸기에 연유가 뿌려져', '아이스의오락시간 아이스 오락시간 과연 누가 아이스의 유연성 왕일지', '오 오랫만에 아이스 돌체라떼 맛있겠다 Starbucks in 부산광역시 Busan']]))"
   ]
  },
  {
   "cell_type": "code",
   "execution_count": 99,
   "metadata": {
    "collapsed": true
   },
   "outputs": [],
   "source": [
    "def decompose_text(text_list):\n",
    "    new_list = []\n",
    "    for text in text_list:\n",
    "        decomposed = hgtk.text.decompose(text)\n",
    "        new_list.append(decomposed.replace(\"ᴥ\",\"\"))\n",
    "    return new_list"
   ]
  },
  {
   "cell_type": "code",
   "execution_count": 100,
   "metadata": {
    "collapsed": true
   },
   "outputs": [],
   "source": [
    "def remove_alpha(text_list):\n",
    "    new_list = []\n",
    "    alpha = \"abcdefghijklmnopqrstuvwxyz\"\n",
    "    for text in text_list:\n",
    "        one = \"\"\n",
    "        for m in text.lower():\n",
    "            if m not in alpha :\n",
    "                one += m\n",
    "        new_list.append(one)\n",
    "    return new_list"
   ]
  },
  {
   "cell_type": "code",
   "execution_count": 101,
   "metadata": {
    "collapsed": true
   },
   "outputs": [],
   "source": [
    "#중간에 들어있는 여러 공백을 다 없애주는 함수\n",
    "def re_sent(text):\n",
    "    text_list = text.split(\" \")\n",
    "    new_sent = []\n",
    "    for i in text_list:\n",
    "        if i.isalpha() :\n",
    "            new_sent.append(i)\n",
    "    return new_sent"
   ]
  },
  {
   "cell_type": "code",
   "execution_count": 102,
   "metadata": {
    "scrolled": true
   },
   "outputs": [
    {
     "name": "stdout",
     "output_type": "stream",
     "text": [
      "[['사람들이', '잘', '모르는데', '진짜', '유명해졌으면', '하는', '일본', '편의점', '음식', '#일본', '#미니스톱', '#아이스', '#果実いちご氷', '세상사람들', '이것', '좀', '먹어보세요ㅠ유유ㅠㅠㅠ', '위에는', '달달한', '바닐라', '아이스고', '밑에는', '얼린', '딸기에', '연유가', '뿌려져'], ['[#아이스의오락시간]', '#아이스', '의', '오락시간', '\\n과연', '누가', '아이스의', '유연성', '왕일지'], ['오.', '오랫만에', '#아이스', '#돌체라떼', '음', '맛있겠다', '(@', 'Starbucks', 'in', '부산광역시,', 'Busan,'], ['[맛집탐험대]', '나를', '놀라게한', '커피', '\"TERAROSA\"', '\\n\\n#TERAROSA', '#테라로사', '#날씨', '#냉커피', '#덥다', '#맛', '#맛집', '#사장님', '#서정점', '#아메리카노', '#아이스', '#아이스커피', '#양평', '#좋다', '#카페', '#커피', '#커피향', '#커피향기', '#향기', '#홍보'], ['#로렉스', '#아이스#', '다이아#고씨쥬얼리#명품시계#금#화이트#골드#화이트골드'], ['새벽까지', '비가', '오더니\\n아침이', '되니', '또다시', '무더위~\\n아침부터', '아아로', '한', '잔', '마셔요^^\\nㆍ\\nㆍ\\nㆍ\\n#늦더위', '#아이스', '#커피향', '@태안펜션그람피하우스'], ['#얼음활용법\\n#얼음', '#아이스\\n#생활꿀팁\\n#경기도경제과학진흥원', '#GBSA\\n\\n집에', '보관해둔', '얼음을', '생활', '곳곳에서', '알뜰하게', '활용하는', '방법을'], ['#광주', '낮보단', '덜', '더운', '#하늘마당\\n#어디간거니', 'ㅜㅡㅜ\\n이#밤분위기', '에', '#비타500', '#아이스', '로', '들이마시고', '있음ㅜㅜㅜ\\n#광주광역시', '#문화전당', '#문화전당하늘공원', '#여행스타그램', '#광주여행', '그래도', '#덥다그램\\n#gwangju', '#tripstagram', '#hanulmadang', '@하늘', '마당'], ['7월', '4주차', '신상', '입고되었습니다.', '', '#카메라', '#안경', '#빵', '#튜브잔', '#토끼', '#아이스', '#햄스터', '#물개', '#병아리', '#모찌', '#포켓몬스터', '#디즈니프린세스', '#짱구', '#스밋코구라시', '#케이프', '#맥주잔', '#게임기', '#도검난무', '#건담', '#가챠폰', '#피규어', '#미니어쳐', '#홍대', '#상수역', '#로렌스길'], ['집에서도', '만들', '수', '있는\\n나만의', '아이스크림', '제조법\\n\\n']]\n",
      "----------------------------------------------------------------------------------------------------\n",
      "['사람들이 잘 모르는데 진짜 유명해졌으면 하는 일본 편의점 음식  일본  미니스톱  아이스  果実いちご氷 세상사람들 이것 좀 먹어보세요ㅠ유유ㅠㅠㅠ 위에는 달달한 바닐라 아이스고 밑에는 얼린 딸기에 연유가 뿌려져 ', '  아이스의오락시간   아이스 의 오락시간  과연 누가 아이스의 유연성 왕일지 ', '오  오랫만에  아이스  돌체라떼 음 맛있겠다    Starbucks in 부산광역시  Busan  ', ' 맛집탐험대  나를 놀라게한 커피  TERAROSA     TERAROSA  테라로사  날씨  냉커피  덥다  맛  맛집  사장님  서정점  아메리카노  아이스  아이스커피  양평  좋다  카페  커피  커피향  커피향기  향기  홍보 ', ' 로렉스  아이스  다이아 고씨쥬얼리 명품시계 금 화이트 골드 화이트골드 ', '새벽까지 비가 오더니 아침이 되니 또다시 무더위  아침부터 아아로 한 잔 마셔요   ㆍ ㆍ ㆍ  늦더위  아이스  커피향  태안펜션그람피하우스 ', ' 얼음활용법  얼음  아이스  생활꿀팁  경기도경제과학진흥원  GBSA  집에 보관해둔 얼음을 생활 곳곳에서 알뜰하게 활용하는 방법을 ', ' 광주 낮보단 덜 더운  하늘마당  어디간거니 ㅜㅡㅜ 이 밤분위기 에  비타     아이스 로 들이마시고 있음ㅜㅜㅜ  광주광역시  문화전당  문화전당하늘공원  여행스타그램  광주여행 그래도  덥다그램  gwangju  tripstagram  hanulmadang  하늘 마당 ', ' 월  주차 신상 입고되었습니다    카메라  안경  빵  튜브잔  토끼  아이스  햄스터  물개  병아리  모찌  포켓몬스터  디즈니프린세스  짱구  스밋코구라시  케이프  맥주잔  게임기  도검난무  건담  가챠폰  피규어  미니어쳐  홍대  상수역  로렌스길 ', '집에서도 만들 수 있는 나만의 아이스크림 제조법   ']\n",
      "----------------------------------------------------------------------------------------------------\n",
      "['사람들이 잘 모르는데 진짜 유명해졌으면 하는 일본 편의점 음식 일본 미니스톱 아이스 果実いちご氷 세상사람들 이것 좀 먹어보세요ㅠ유유ㅠㅠㅠ 위에는 달달한 바닐라 아이스고 밑에는 얼린 딸기에 연유가 뿌려져', '아이스의오락시간 아이스 의 오락시간 과연 누가 아이스의 유연성 왕일지', '오 오랫만에 아이스 돌체라떼 음 맛있겠다 Starbucks in 부산광역시 Busan', '맛집탐험대 나를 놀라게한 커피 TERAROSA TERAROSA 테라로사 날씨 냉커피 덥다 맛 맛집 사장님 서정점 아메리카노 아이스 아이스커피 양평 좋다 카페 커피 커피향 커피향기 향기 홍보', '로렉스 아이스 다이아 고씨쥬얼리 명품시계 금 화이트 골드 화이트골드', '새벽까지 비가 오더니 아침이 되니 또다시 무더위 아침부터 아아로 한 잔 마셔요 ㆍ ㆍ ㆍ 늦더위 아이스 커피향 태안펜션그람피하우스', '얼음활용법 얼음 아이스 생활꿀팁 경기도경제과학진흥원 GBSA 집에 보관해둔 얼음을 생활 곳곳에서 알뜰하게 활용하는 방법을', '광주 낮보단 덜 더운 하늘마당 어디간거니 ㅜㅡㅜ 이 밤분위기 에 비타 아이스 로 들이마시고 있음ㅜㅜㅜ 광주광역시 문화전당 문화전당하늘공원 여행스타그램 광주여행 그래도 덥다그램 gwangju tripstagram hanulmadang 하늘 마당', '월 주차 신상 입고되었습니다 카메라 안경 빵 튜브잔 토끼 아이스 햄스터 물개 병아리 모찌 포켓몬스터 디즈니프린세스 짱구 스밋코구라시 케이프 맥주잔 게임기 도검난무 건담 가챠폰 피규어 미니어쳐 홍대 상수역 로렌스길', '집에서도 만들 수 있는 나만의 아이스크림 제조법']\n"
     ]
    }
   ],
   "source": [
    "if __name__ == \"__main__\":\n",
    "    print(a)\n",
    "    print(\"-\"*100)\n",
    "    a1 = change(a)\n",
    "    print(a1)\n",
    "    print(\"-\"*100)\n",
    "    s = []\n",
    "    for test1 in a1:\n",
    "        s1= []\n",
    "        for test2 in test1.split():\n",
    "            if test2 != \" \":\n",
    "                s1.append(test2)\n",
    "        s.append(\" \".join(s1))\n",
    "    print(s)"
   ]
  },
  {
   "cell_type": "code",
   "execution_count": 103,
   "metadata": {
    "collapsed": true
   },
   "outputs": [],
   "source": [
    "def decompose_text(text_list):\n",
    "    new_list = []\n",
    "    for text in text_list:\n",
    "        decomposed = hgtk.text.decompose(text)\n",
    "        new_list.append(decomposed.replace(\"ᴥ\",\"\"))\n",
    "    return new_list"
   ]
  },
  {
   "cell_type": "code",
   "execution_count": 104,
   "metadata": {
    "collapsed": true
   },
   "outputs": [],
   "source": [
    "def remove_alpha(text_list):\n",
    "    new_list = []\n",
    "    alpha = \"abcdefghijklmnopqrstuvwxyz\"\n",
    "    for text in text_list:\n",
    "        one = \"\"\n",
    "        for m in text.lower():\n",
    "            if m not in alpha :\n",
    "                one += m\n",
    "        new_list.append(one)\n",
    "    return new_list"
   ]
  },
  {
   "cell_type": "code",
   "execution_count": 105,
   "metadata": {},
   "outputs": [
    {
     "name": "stdout",
     "output_type": "stream",
     "text": [
      "['ㅅㅏㄹㅏㅁㄷㅡㄹㅇㅣ ㅁㅗㄹㅡㄴㅡㄴㄷㅔ ㅈㅣㄴㅉㅏ ㅇㅠㅁㅕㅇㅎㅐㅈㅕㅆㅇㅡㅁㅕㄴ ㅎㅏㄴㅡㄴ ㅇㅣㄹㅂㅗㄴ ㅍㅕㄴㅇㅢㅈㅓㅁ ㅇㅡㅁㅅㅣㄱ ㅇㅣㄹㅂㅗㄴ ㅁㅣㄴㅣㅅㅡㅌㅗㅂ ㅇㅏㅇㅣㅅㅡ  ㅅㅔㅅㅏㅇㅅㅏㄹㅏㅁㄷㅡㄹ ㅇㅣㄱㅓㅅ ㅁㅓㄱㅇㅓㅂㅗㅅㅔㅇㅛ ㅇㅠㅇㅠ ㅇㅟㅇㅔㄴㅡㄴ ㄷㅏㄹㄷㅏㄹㅎㅏㄴ ㅂㅏㄴㅣㄹㄹㅏ ㅇㅏㅇㅣㅅㅡㄱㅗ ㅁㅣㅌㅇㅔㄴㅡㄴ ㅇㅓㄹㄹㅣㄴ ㄸㅏㄹㄱㅣㅇㅔ ㅇㅕㄴㅇㅠㄱㅏ ㅃㅜㄹㅕㅈㅕ', 'ㅇㅏㅇㅣㅅㅡㅇㅢㅇㅗㄹㅏㄱㅅㅣㄱㅏㄴ ㅇㅏㅇㅣㅅㅡ ㅇㅗㄹㅏㄱㅅㅣㄱㅏㄴ ㄱㅘㅇㅕㄴ ㄴㅜㄱㅏ ㅇㅏㅇㅣㅅㅡㅇㅢ ㅇㅠㅇㅕㄴㅅㅓㅇ ㅇㅘㅇㅇㅣㄹㅈㅣ', 'ㅇㅗ ㅇㅗㄹㅐㅅㅁㅏㄴㅇㅔ ㅇㅏㅇㅣㅅㅡ ㄷㅗㄹㅊㅔㄹㅏㄸㅔ ㅁㅏㅅㅇㅣㅆㄱㅔㅆㄷㅏ Starbucks in ㅂㅜㅅㅏㄴㄱㅘㅇㅇㅕㄱㅅㅣ Busan', 'ㅁㅏㅅㅈㅣㅂㅌㅏㅁㅎㅓㅁㄷㅐ ㄴㅏㄹㅡㄹ ㄴㅗㄹㄹㅏㄱㅔㅎㅏㄴ ㅋㅓㅍㅣ TERAROSA TERAROSA ㅌㅔㄹㅏㄹㅗㅅㅏ ㄴㅏㄹㅆㅣ ㄴㅐㅇㅋㅓㅍㅣ ㄷㅓㅂㄷㅏ ㅁㅏㅅ ㅁㅏㅅㅈㅣㅂ ㅅㅏㅈㅏㅇㄴㅣㅁ ㅅㅓㅈㅓㅇㅈㅓㅁ ㅇㅏㅁㅔㄹㅣㅋㅏㄴㅗ ㅇㅏㅇㅣㅅㅡ ㅇㅏㅇㅣㅅㅡㅋㅓㅍㅣ ㅇㅑㅇㅍㅕㅇ ㅈㅗㅎㄷㅏ ㅋㅏㅍㅔ ㅋㅓㅍㅣ ㅋㅓㅍㅣㅎㅑㅇ ㅋㅓㅍㅣㅎㅑㅇㄱㅣ ㅎㅑㅇㄱㅣ ㅎㅗㅇㅂㅗ', 'ㄹㅗㄹㅔㄱㅅㅡ ㅇㅏㅇㅣㅅㅡ ㄷㅏㅇㅣㅇㅏ ㄱㅗㅆㅣㅈㅠㅇㅓㄹㄹㅣ ㅁㅕㅇㅍㅜㅁㅅㅣㄱㅖ ㄱㅡㅁ ㅎㅘㅇㅣㅌㅡ ㄱㅗㄹㄷㅡ ㅎㅘㅇㅣㅌㅡㄱㅗㄹㄷㅡ', 'ㅅㅐㅂㅕㄱㄲㅏㅈㅣ ㅂㅣㄱㅏ ㅇㅗㄷㅓㄴㅣ ㅇㅏㅊㅣㅁㅇㅣ ㄷㅚㄴㅣ ㄸㅗㄷㅏㅅㅣ ㅁㅜㄷㅓㅇㅟ ㅇㅏㅊㅣㅁㅂㅜㅌㅓ ㅇㅏㅇㅏㄹㅗ ㅁㅏㅅㅕㅇㅛ ㄴㅡㅈㄷㅓㅇㅟ ㅇㅏㅇㅣㅅㅡ ㅋㅓㅍㅣㅎㅑㅇ ㅌㅐㅇㅏㄴㅍㅔㄴㅅㅕㄴㄱㅡㄹㅏㅁㅍㅣㅎㅏㅇㅜㅅㅡ', 'ㅇㅓㄹㅇㅡㅁㅎㅘㄹㅇㅛㅇㅂㅓㅂ ㅇㅓㄹㅇㅡㅁ ㅇㅏㅇㅣㅅㅡ ㅅㅐㅇㅎㅘㄹㄲㅜㄹㅌㅣㅂ ㄱㅕㅇㄱㅣㄷㅗㄱㅕㅇㅈㅔㄱㅘㅎㅏㄱㅈㅣㄴㅎㅡㅇㅇㅝㄴ GBSA ㅈㅣㅂㅇㅔ ㅂㅗㄱㅘㄴㅎㅐㄷㅜㄴ ㅇㅓㄹㅇㅡㅁㅇㅡㄹ ㅅㅐㅇㅎㅘㄹ ㄱㅗㅅㄱㅗㅅㅇㅔㅅㅓ ㅇㅏㄹㄸㅡㄹㅎㅏㄱㅔ ㅎㅘㄹㅇㅛㅇㅎㅏㄴㅡㄴ ㅂㅏㅇㅂㅓㅂㅇㅡㄹ', 'ㄱㅘㅇㅈㅜ ㄴㅏㅈㅂㅗㄷㅏㄴ ㄷㅓㅇㅜㄴ ㅎㅏㄴㅡㄹㅁㅏㄷㅏㅇ ㅇㅓㄷㅣㄱㅏㄴㄱㅓㄴㅣ ㅇㅣ ㅂㅏㅁㅂㅜㄴㅇㅟㄱㅣ ㅂㅣㅌㅏ ㅇㅏㅇㅣㅅㅡ ㄷㅡㄹㅇㅣㅁㅏㅅㅣㄱㅗ ㅇㅣㅆㅇㅡㅁ ㄱㅘㅇㅈㅜㄱㅘㅇㅇㅕㄱㅅㅣ ㅁㅜㄴㅎㅘㅈㅓㄴㄷㅏㅇ ㅁㅜㄴㅎㅘㅈㅓㄴㄷㅏㅇㅎㅏㄴㅡㄹㄱㅗㅇㅇㅝㄴ ㅇㅕㅎㅐㅇㅅㅡㅌㅏㄱㅡㄹㅐㅁ ㄱㅘㅇㅈㅜㅇㅕㅎㅐㅇ ㄱㅡㄹㅐㄷㅗ ㄷㅓㅂㄷㅏㄱㅡㄹㅐㅁ gwangju tripstagram hanulmadang ㅎㅏㄴㅡㄹ ㅁㅏㄷㅏㅇ', 'ㅇㅝㄹ ㅈㅜㅊㅏ ㅅㅣㄴㅅㅏㅇ ㅇㅣㅂㄱㅗㄷㅚㅇㅓㅆㅅㅡㅂㄴㅣㄷㅏ ㅋㅏㅁㅔㄹㅏ ㅇㅏㄴㄱㅕㅇ ㅃㅏㅇ ㅌㅠㅂㅡㅈㅏㄴ ㅌㅗㄲㅣ ㅇㅏㅇㅣㅅㅡ ㅎㅐㅁㅅㅡㅌㅓ ㅁㅜㄹㄱㅐ ㅂㅕㅇㅇㅏㄹㅣ ㅁㅗㅉㅣ ㅍㅗㅋㅔㅅㅁㅗㄴㅅㅡㅌㅓ ㄷㅣㅈㅡㄴㅣㅍㅡㄹㅣㄴㅅㅔㅅㅡ ㅉㅏㅇㄱㅜ ㅅㅡㅁㅣㅅㅋㅗㄱㅜㄹㅏㅅㅣ ㅋㅔㅇㅣㅍㅡ ㅁㅐㄱㅈㅜㅈㅏㄴ ㄱㅔㅇㅣㅁㄱㅣ ㄷㅗㄱㅓㅁㄴㅏㄴㅁㅜ ㄱㅓㄴㄷㅏㅁ ㄱㅏㅊㅑㅍㅗㄴ ㅍㅣㄱㅠㅇㅓ ㅁㅣㄴㅣㅇㅓㅊㅕ ㅎㅗㅇㄷㅐ ㅅㅏㅇㅅㅜㅇㅕㄱ ㄹㅗㄹㅔㄴㅅㅡㄱㅣㄹ', 'ㅈㅣㅂㅇㅔㅅㅓㄷㅗ ㅁㅏㄴㄷㅡㄹ ㅇㅣㅆㄴㅡㄴ ㄴㅏㅁㅏㄴㅇㅢ ㅇㅏㅇㅣㅅㅡㅋㅡㄹㅣㅁ ㅈㅔㅈㅗㅂㅓㅂ']\n",
      "['ㅅㅏㄹㅏㅁㄷㅡㄹㅇㅣ ㅁㅗㄹㅡㄴㅡㄴㄷㅔ ㅈㅣㄴㅉㅏ ㅇㅠㅁㅕㅇㅎㅐㅈㅕㅆㅇㅡㅁㅕㄴ ㅎㅏㄴㅡㄴ ㅇㅣㄹㅂㅗㄴ ㅍㅕㄴㅇㅢㅈㅓㅁ ㅇㅡㅁㅅㅣㄱ ㅇㅣㄹㅂㅗㄴ ㅁㅣㄴㅣㅅㅡㅌㅗㅂ ㅇㅏㅇㅣㅅㅡ  ㅅㅔㅅㅏㅇㅅㅏㄹㅏㅁㄷㅡㄹ ㅇㅣㄱㅓㅅ ㅁㅓㄱㅇㅓㅂㅗㅅㅔㅇㅛ ㅇㅠㅇㅠ ㅇㅟㅇㅔㄴㅡㄴ ㄷㅏㄹㄷㅏㄹㅎㅏㄴ ㅂㅏㄴㅣㄹㄹㅏ ㅇㅏㅇㅣㅅㅡㄱㅗ ㅁㅣㅌㅇㅔㄴㅡㄴ ㅇㅓㄹㄹㅣㄴ ㄸㅏㄹㄱㅣㅇㅔ ㅇㅕㄴㅇㅠㄱㅏ ㅃㅜㄹㅕㅈㅕ', 'ㅇㅏㅇㅣㅅㅡㅇㅢㅇㅗㄹㅏㄱㅅㅣㄱㅏㄴ ㅇㅏㅇㅣㅅㅡ ㅇㅗㄹㅏㄱㅅㅣㄱㅏㄴ ㄱㅘㅇㅕㄴ ㄴㅜㄱㅏ ㅇㅏㅇㅣㅅㅡㅇㅢ ㅇㅠㅇㅕㄴㅅㅓㅇ ㅇㅘㅇㅇㅣㄹㅈㅣ', 'ㅇㅗ ㅇㅗㄹㅐㅅㅁㅏㄴㅇㅔ ㅇㅏㅇㅣㅅㅡ ㄷㅗㄹㅊㅔㄹㅏㄸㅔ ㅁㅏㅅㅇㅣㅆㄱㅔㅆㄷㅏ   ㅂㅜㅅㅏㄴㄱㅘㅇㅇㅕㄱㅅㅣ ', 'ㅁㅏㅅㅈㅣㅂㅌㅏㅁㅎㅓㅁㄷㅐ ㄴㅏㄹㅡㄹ ㄴㅗㄹㄹㅏㄱㅔㅎㅏㄴ ㅋㅓㅍㅣ   ㅌㅔㄹㅏㄹㅗㅅㅏ ㄴㅏㄹㅆㅣ ㄴㅐㅇㅋㅓㅍㅣ ㄷㅓㅂㄷㅏ ㅁㅏㅅ ㅁㅏㅅㅈㅣㅂ ㅅㅏㅈㅏㅇㄴㅣㅁ ㅅㅓㅈㅓㅇㅈㅓㅁ ㅇㅏㅁㅔㄹㅣㅋㅏㄴㅗ ㅇㅏㅇㅣㅅㅡ ㅇㅏㅇㅣㅅㅡㅋㅓㅍㅣ ㅇㅑㅇㅍㅕㅇ ㅈㅗㅎㄷㅏ ㅋㅏㅍㅔ ㅋㅓㅍㅣ ㅋㅓㅍㅣㅎㅑㅇ ㅋㅓㅍㅣㅎㅑㅇㄱㅣ ㅎㅑㅇㄱㅣ ㅎㅗㅇㅂㅗ', 'ㄹㅗㄹㅔㄱㅅㅡ ㅇㅏㅇㅣㅅㅡ ㄷㅏㅇㅣㅇㅏ ㄱㅗㅆㅣㅈㅠㅇㅓㄹㄹㅣ ㅁㅕㅇㅍㅜㅁㅅㅣㄱㅖ ㄱㅡㅁ ㅎㅘㅇㅣㅌㅡ ㄱㅗㄹㄷㅡ ㅎㅘㅇㅣㅌㅡㄱㅗㄹㄷㅡ', 'ㅅㅐㅂㅕㄱㄲㅏㅈㅣ ㅂㅣㄱㅏ ㅇㅗㄷㅓㄴㅣ ㅇㅏㅊㅣㅁㅇㅣ ㄷㅚㄴㅣ ㄸㅗㄷㅏㅅㅣ ㅁㅜㄷㅓㅇㅟ ㅇㅏㅊㅣㅁㅂㅜㅌㅓ ㅇㅏㅇㅏㄹㅗ ㅁㅏㅅㅕㅇㅛ ㄴㅡㅈㄷㅓㅇㅟ ㅇㅏㅇㅣㅅㅡ ㅋㅓㅍㅣㅎㅑㅇ ㅌㅐㅇㅏㄴㅍㅔㄴㅅㅕㄴㄱㅡㄹㅏㅁㅍㅣㅎㅏㅇㅜㅅㅡ', 'ㅇㅓㄹㅇㅡㅁㅎㅘㄹㅇㅛㅇㅂㅓㅂ ㅇㅓㄹㅇㅡㅁ ㅇㅏㅇㅣㅅㅡ ㅅㅐㅇㅎㅘㄹㄲㅜㄹㅌㅣㅂ ㄱㅕㅇㄱㅣㄷㅗㄱㅕㅇㅈㅔㄱㅘㅎㅏㄱㅈㅣㄴㅎㅡㅇㅇㅝㄴ  ㅈㅣㅂㅇㅔ ㅂㅗㄱㅘㄴㅎㅐㄷㅜㄴ ㅇㅓㄹㅇㅡㅁㅇㅡㄹ ㅅㅐㅇㅎㅘㄹ ㄱㅗㅅㄱㅗㅅㅇㅔㅅㅓ ㅇㅏㄹㄸㅡㄹㅎㅏㄱㅔ ㅎㅘㄹㅇㅛㅇㅎㅏㄴㅡㄴ ㅂㅏㅇㅂㅓㅂㅇㅡㄹ', 'ㄱㅘㅇㅈㅜ ㄴㅏㅈㅂㅗㄷㅏㄴ ㄷㅓㅇㅜㄴ ㅎㅏㄴㅡㄹㅁㅏㄷㅏㅇ ㅇㅓㄷㅣㄱㅏㄴㄱㅓㄴㅣ ㅇㅣ ㅂㅏㅁㅂㅜㄴㅇㅟㄱㅣ ㅂㅣㅌㅏ ㅇㅏㅇㅣㅅㅡ ㄷㅡㄹㅇㅣㅁㅏㅅㅣㄱㅗ ㅇㅣㅆㅇㅡㅁ ㄱㅘㅇㅈㅜㄱㅘㅇㅇㅕㄱㅅㅣ ㅁㅜㄴㅎㅘㅈㅓㄴㄷㅏㅇ ㅁㅜㄴㅎㅘㅈㅓㄴㄷㅏㅇㅎㅏㄴㅡㄹㄱㅗㅇㅇㅝㄴ ㅇㅕㅎㅐㅇㅅㅡㅌㅏㄱㅡㄹㅐㅁ ㄱㅘㅇㅈㅜㅇㅕㅎㅐㅇ ㄱㅡㄹㅐㄷㅗ ㄷㅓㅂㄷㅏㄱㅡㄹㅐㅁ    ㅎㅏㄴㅡㄹ ㅁㅏㄷㅏㅇ', 'ㅇㅝㄹ ㅈㅜㅊㅏ ㅅㅣㄴㅅㅏㅇ ㅇㅣㅂㄱㅗㄷㅚㅇㅓㅆㅅㅡㅂㄴㅣㄷㅏ ㅋㅏㅁㅔㄹㅏ ㅇㅏㄴㄱㅕㅇ ㅃㅏㅇ ㅌㅠㅂㅡㅈㅏㄴ ㅌㅗㄲㅣ ㅇㅏㅇㅣㅅㅡ ㅎㅐㅁㅅㅡㅌㅓ ㅁㅜㄹㄱㅐ ㅂㅕㅇㅇㅏㄹㅣ ㅁㅗㅉㅣ ㅍㅗㅋㅔㅅㅁㅗㄴㅅㅡㅌㅓ ㄷㅣㅈㅡㄴㅣㅍㅡㄹㅣㄴㅅㅔㅅㅡ ㅉㅏㅇㄱㅜ ㅅㅡㅁㅣㅅㅋㅗㄱㅜㄹㅏㅅㅣ ㅋㅔㅇㅣㅍㅡ ㅁㅐㄱㅈㅜㅈㅏㄴ ㄱㅔㅇㅣㅁㄱㅣ ㄷㅗㄱㅓㅁㄴㅏㄴㅁㅜ ㄱㅓㄴㄷㅏㅁ ㄱㅏㅊㅑㅍㅗㄴ ㅍㅣㄱㅠㅇㅓ ㅁㅣㄴㅣㅇㅓㅊㅕ ㅎㅗㅇㄷㅐ ㅅㅏㅇㅅㅜㅇㅕㄱ ㄹㅗㄹㅔㄴㅅㅡㄱㅣㄹ', 'ㅈㅣㅂㅇㅔㅅㅓㄷㅗ ㅁㅏㄴㄷㅡㄹ ㅇㅣㅆㄴㅡㄴ ㄴㅏㅁㅏㄴㅇㅢ ㅇㅏㅇㅣㅅㅡㅋㅡㄹㅣㅁ ㅈㅔㅈㅗㅂㅓㅂ']\n"
     ]
    }
   ],
   "source": [
    "if __name__ == \"__main__\":\n",
    "    test = ['사람들이 모르는데 진짜 유명해졌으면 하는 일본 편의점 음식 일본 미니스톱 아이스 果実いちご氷 세상사람들 이것 먹어보세요 유유 위에는 달달한 바닐라 아이스고 밑에는 얼린 딸기에 연유가 뿌려져', '아이스의오락시간 아이스 오락시간 과연 누가 아이스의 유연성 왕일지', '오 오랫만에 아이스 돌체라떼 맛있겠다 Starbucks in 부산광역시 Busan', '맛집탐험대 나를 놀라게한 커피 TERAROSA TERAROSA 테라로사 날씨 냉커피 덥다 맛 맛집 사장님 서정점 아메리카노 아이스 아이스커피 양평 좋다 카페 커피 커피향 커피향기 향기 홍보', '로렉스 아이스 다이아 고씨쥬얼리 명품시계 금 화이트 골드 화이트골드', '새벽까지 비가 오더니 아침이 되니 또다시 무더위 아침부터 아아로 마셔요 늦더위 아이스 커피향 태안펜션그람피하우스', '얼음활용법 얼음 아이스 생활꿀팁 경기도경제과학진흥원 GBSA 집에 보관해둔 얼음을 생활 곳곳에서 알뜰하게 활용하는 방법을', '광주 낮보단 더운 하늘마당 어디간거니 이 밤분위기 비타 아이스 들이마시고 있음 광주광역시 문화전당 문화전당하늘공원 여행스타그램 광주여행 그래도 덥다그램 gwangju tripstagram hanulmadang 하늘 마당', '월 주차 신상 입고되었습니다 카메라 안경 빵 튜브잔 토끼 아이스 햄스터 물개 병아리 모찌 포켓몬스터 디즈니프린세스 짱구 스밋코구라시 케이프 맥주잔 게임기 도검난무 건담 가챠폰 피규어 미니어쳐 홍대 상수역 로렌스길', '집에서도 만들 있는 나만의 아이스크림 제조법']\n",
    "    a = decompose_text(test)\n",
    "    print(a)\n",
    "    #print(\"가나다ABc 으음...EHshldk\".lower())\n",
    "    b = remove_alpha(a)\n",
    "    print(b)"
   ]
  },
  {
   "cell_type": "code",
   "execution_count": null,
   "metadata": {
    "collapsed": true
   },
   "outputs": [],
   "source": []
  },
  {
   "cell_type": "code",
   "execution_count": 116,
   "metadata": {
    "scrolled": false
   },
   "outputs": [
    {
     "data": {
      "text/plain": [
       "['ㅅㅏㄹㅏㅁ',\n",
       " 'ㅁㅗㄹㅡ',\n",
       " 'ㅇㅠㅁㅕㅇ',\n",
       " 'ㅎㅏ',\n",
       " 'ㅇㅣㄹㅂㅗㄴ',\n",
       " 'ㅍㅕㄴㅇㅢㅈㅓㅁ',\n",
       " 'ㅇㅡㅁㅅㅣㄱ',\n",
       " 'ㅇㅣㄹㅂㅗㄴ',\n",
       " 'ㅁㅣㄴㅣㅅㅡㅌㅗㅂ',\n",
       " 'ㅇㅏㅇㅣㅅㅡ',\n",
       " '',\n",
       " 'ㅅㅔㅅㅏㅇ',\n",
       " 'ㅅㅏㄹㅏㅁ',\n",
       " 'ㅁㅓㄱ',\n",
       " 'ㅇㅠㅇㅠ',\n",
       " 'ㅇㅟ',\n",
       " 'ㅂㅏㄴㅣㄹㄹㅏ',\n",
       " 'ㅇㅏㅇㅣㅅㅡ',\n",
       " 'ㅁㅣㅌ',\n",
       " 'ㄸㅏㄹㄱㅣ',\n",
       " 'ㅇㅕㄴㅇㅠ',\n",
       " 'ㅇㅏㅇㅣㅅㅡ',\n",
       " 'ㅇㅗㄹㅏㄱ',\n",
       " 'ㅅㅣㄱㅏㄴ',\n",
       " 'ㅇㅏㅇㅣㅅㅡ',\n",
       " 'ㅇㅗㄹㅏㄱ',\n",
       " 'ㅅㅣㄱㅏㄴ',\n",
       " 'ㅇㅏㅇㅣㅅㅡ',\n",
       " 'ㅇㅠㅇㅕㄴ',\n",
       " 'ㅇㅘㅇ',\n",
       " 'ㅇㅗㄹㅐㅅㅁㅏㄴ',\n",
       " 'ㅇㅏㅇㅣㅅㅡ',\n",
       " 'ㄷㅗㄹㅊㅔ',\n",
       " 'ㄹㅏㄸㅔ',\n",
       " 'ㅁㅏㅅㅇㅣㅆ',\n",
       " 'ㅂㅜㅅㅏㄴ',\n",
       " 'ㄱㅘㅇㅇㅕㄱㅅㅣ']"
      ]
     },
     "execution_count": 116,
     "metadata": {},
     "output_type": "execute_result"
    }
   ],
   "source": [
    "text = [['사람들이 모르는데 진짜 유명해졌으면 하는 일본 편의점 음식 일본 미니스톱 아이스 果実いちご氷 세상사람들 이것 먹어보세요 유유 위에는 달달한 바닐라 아이스고 밑에는 얼린 딸기에 연유가 뿌려져', '아이스의오락시간 아이스 오락시간 과연 누가 아이스의 유연성 왕일지', '오 오랫만에 아이스 돌체라떼 맛있겠다 Starbucks in 부산광역시 Busan']]\n",
    "change(text)\n",
    "remove_alpha(change(text))\n",
    "word_type_extract([\"NNG\", \"NNP\", \"XR\", \"VA\",\"VV\",\"UNKNOWN\"],remove_alpha(change(text))[0])\n",
    "decompose_text(word_type_extract([\"NNG\", \"NNP\", \"XR\", \"VA\",\"VV\",\"UNKNOWN\"],remove_alpha(change(text))[0]))"
   ]
  },
  {
   "cell_type": "code",
   "execution_count": 117,
   "metadata": {},
   "outputs": [
    {
     "data": {
      "text/plain": [
       "'사람들이 모르는데 진짜 유명해졌으면 하는 일본 편의점 음식 일본 미니스톱 아이스 果実いちご氷 세상사람들 이것 먹어보세요 유유 위에는 달달한 바닐라 아이스고 밑에는 얼린 딸기에 연유가 뿌려져 아이스의오락시간 아이스 오락시간 과연 누가 아이스의 유연성 왕일지 오 오랫만에 아이스 돌체라떼 맛있겠다   부산광역시  '"
      ]
     },
     "execution_count": 117,
     "metadata": {},
     "output_type": "execute_result"
    }
   ],
   "source": [
    "remove_alpha(change(text))[0]"
   ]
  },
  {
   "cell_type": "code",
   "execution_count": null,
   "metadata": {
    "collapsed": true
   },
   "outputs": [],
   "source": []
  }
 ],
 "metadata": {
  "kernelspec": {
   "display_name": "Python 3",
   "language": "python",
   "name": "python3"
  },
  "language_info": {
   "codemirror_mode": {
    "name": "ipython",
    "version": 3
   },
   "file_extension": ".py",
   "mimetype": "text/x-python",
   "name": "python",
   "nbconvert_exporter": "python",
   "pygments_lexer": "ipython3",
   "version": "3.7.3"
  }
 },
 "nbformat": 4,
 "nbformat_minor": 2
}
