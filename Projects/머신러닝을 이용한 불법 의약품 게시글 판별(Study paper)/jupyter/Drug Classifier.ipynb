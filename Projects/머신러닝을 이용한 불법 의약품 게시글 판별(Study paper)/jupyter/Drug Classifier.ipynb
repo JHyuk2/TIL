{
 "cells": [
  {
   "cell_type": "markdown",
   "metadata": {},
   "source": [
    "# 1조 - Drug Classifier\n",
    "\n",
    "#### 1.라이브러리 import하기"
   ]
  },
  {
   "cell_type": "code",
   "execution_count": 1,
   "metadata": {},
   "outputs": [],
   "source": [
    "#기본 라이브러리\n",
    "import numpy as np\n",
    "import pandas as pd\n",
    "import matplotlib.pyplot as plt\n",
    "#전처리부분\n",
    "from sklearn.model_selection import train_test_split\n",
    "from sklearn.feature_extraction.text import TfidfVectorizer\n",
    "#모델부분\n",
    "from sklearn import naive_bayes, svm\n",
    "from sklearn.neighbors import KNeighborsClassifier\n",
    "#검증부분 - Confusion_Matrix / Preciion and Reall \n",
    "from sklearn import metrics\n",
    "from sklearn.model_selection import cross_val_predict\n",
    "from sklearn.metrics import precision_recall_curve\n",
    "from sklearn.metrics import accuracy_score\n",
    "from sklearn.metrics import precision_score , recall_score , f1_score\n",
    "#검증부분 - Cross Validation\n",
    "from sklearn.model_selection import cross_val_score #점수 나타내기"
   ]
  },
  {
   "cell_type": "markdown",
   "metadata": {},
   "source": [
    "#### 2.엑셀파일 불러오기"
   ]
  },
  {
   "cell_type": "code",
   "execution_count": 2,
   "metadata": {},
   "outputs": [],
   "source": [
    "#raw데이터를 훈련-테스트 데이터로 나눈후 , fitting해서 리턴\n",
    "def data_transformer(xlsx_file):\n",
    "    \n",
    "    data = pd.read_excel(xlsx_file,encoding = 'utf-8')\n",
    "    df = pd.DataFrame({'text':data['text'], 'label':data['label']})\n",
    "    Train_X, Test_X, Train_Y, Test_Y = train_test_split(df['text'],df['label'],test_size=0.3, random_state = 1)\n",
    "    \n",
    "    Tfidf_vect = TfidfVectorizer(max_features = 100000)\n",
    "    Tfidf_vect.fit(Train_X[:].values.astype('U'))\n",
    "\n",
    "    Train_X_Tfidf = Tfidf_vect.transform(Train_X[:].values.astype('U'))\n",
    "    Test_X_Tfidf = Tfidf_vect.transform(Test_X[:].values.astype('U'))\n",
    "\n",
    "    Tfidf_vect = TfidfVectorizer(max_features = 100000)\n",
    "    Tfidf_vect.fit(Train_X[:].values.astype('U'))\n",
    "\n",
    "    Train_X_Tfidf = Tfidf_vect.transform(Train_X[:].values.astype('U'))\n",
    "    Test_X_Tfidf = Tfidf_vect.transform(Test_X[:].values.astype('U'))\n",
    "    \n",
    "    return Train_X_Tfidf, Test_X_Tfidf, Train_Y, Test_Y"
   ]
  },
  {
   "cell_type": "markdown",
   "metadata": {},
   "source": [
    "#### 3.데이터 생성"
   ]
  },
  {
   "cell_type": "code",
   "execution_count": 3,
   "metadata": {},
   "outputs": [],
   "source": [
    "Train_X, Test_X, Train_Y, Test_Y = data_transformer(\"real4.xlsx\")"
   ]
  },
  {
   "cell_type": "markdown",
   "metadata": {},
   "source": [
    "# 4.SVM"
   ]
  },
  {
   "cell_type": "markdown",
   "metadata": {},
   "source": [
    "#### 4-1.Learning SVM"
   ]
  },
  {
   "cell_type": "code",
   "execution_count": 4,
   "metadata": {
    "scrolled": false
   },
   "outputs": [
    {
     "data": {
      "text/plain": [
       "SVC(C=1.0, cache_size=200, class_weight=None, coef0=0.0,\n",
       "  decision_function_shape='ovr', degree=3, gamma='auto', kernel='linear',\n",
       "  max_iter=-1, probability=False, random_state=None, shrinking=True,\n",
       "  tol=0.001, verbose=False)"
      ]
     },
     "execution_count": 4,
     "metadata": {},
     "output_type": "execute_result"
    }
   ],
   "source": [
    "SVM = svm.SVC(C=1.0, kernel='linear', degree=3, gamma='auto')\n",
    "SVM.fit(Train_X,Train_Y)"
   ]
  },
  {
   "cell_type": "markdown",
   "metadata": {},
   "source": [
    "#### 4-2.Cross Validation with SVM"
   ]
  },
  {
   "cell_type": "code",
   "execution_count": 5,
   "metadata": {},
   "outputs": [
    {
     "name": "stdout",
     "output_type": "stream",
     "text": [
      "[0.99946323 0.99973162 0.99959742 0.99919485 0.99932895 0.99959737\n",
      " 0.99959737 0.99906053 0.99919474 0.99973154]\n"
     ]
    }
   ],
   "source": [
    "svm_scores = cross_val_score(SVM,Train_X,Train_Y, cv=10)\n",
    "print(svm_scores)"
   ]
  },
  {
   "cell_type": "markdown",
   "metadata": {},
   "source": [
    "#### 4-3.Predict Test Data using SVM"
   ]
  },
  {
   "cell_type": "code",
   "execution_count": 6,
   "metadata": {
    "scrolled": true
   },
   "outputs": [
    {
     "name": "stdout",
     "output_type": "stream",
     "text": [
      "SVM Accuracy Score ->  99.95929231250979\n"
     ]
    }
   ],
   "source": [
    "predictions_SVM = SVM.predict(Test_X)\n",
    "# Use accuracy_score function to get the accuracy\n",
    "print(\"SVM Accuracy Score -> \",accuracy_score(predictions_SVM, Test_Y)*100)"
   ]
  },
  {
   "cell_type": "markdown",
   "metadata": {},
   "source": [
    "#### 4-4.Confusion Matrix_SVM"
   ]
  },
  {
   "cell_type": "code",
   "execution_count": 8,
   "metadata": {
    "scrolled": false
   },
   "outputs": [
    {
     "name": "stdout",
     "output_type": "stream",
     "text": [
      "[[30834     5]\n",
      " [    8  1088]]\n"
     ]
    }
   ],
   "source": [
    "print(metrics.confusion_matrix(Test_Y,predictions_SVM))"
   ]
  },
  {
   "cell_type": "markdown",
   "metadata": {},
   "source": [
    "#### 4-5.SVM_Score"
   ]
  },
  {
   "cell_type": "code",
   "execution_count": 9,
   "metadata": {
    "scrolled": true
   },
   "outputs": [
    {
     "name": "stdout",
     "output_type": "stream",
     "text": [
      "Precision Score : 0.9954254345837146\n",
      "Recall Score :  0.9927007299270073\n",
      "F1 Score :  0.9940612151667428\n"
     ]
    }
   ],
   "source": [
    "print(\"Precision Score :\" ,precision_score(Test_Y, predictions_SVM))\n",
    "print(\"Recall Score : \",recall_score(Test_Y, predictions_SVM))\n",
    "print(\"F1 Score : \",f1_score(Test_Y, predictions_SVM))"
   ]
  },
  {
   "cell_type": "markdown",
   "metadata": {},
   "source": [
    "## 5.나이브 베이즈  \n",
    "#### 5-1.Training Multinomial Naive Bayes Classifier"
   ]
  },
  {
   "cell_type": "code",
   "execution_count": 10,
   "metadata": {
    "scrolled": true
   },
   "outputs": [
    {
     "data": {
      "text/plain": [
       "MultinomialNB(alpha=1.0, class_prior=None, fit_prior=True)"
      ]
     },
     "execution_count": 10,
     "metadata": {},
     "output_type": "execute_result"
    }
   ],
   "source": [
    "Naive = naive_bayes.MultinomialNB()\n",
    "Naive.fit(Train_X,Train_Y)"
   ]
  },
  {
   "cell_type": "markdown",
   "metadata": {},
   "source": [
    "#### 5-2 Cross Validation with  MNB"
   ]
  },
  {
   "cell_type": "code",
   "execution_count": 11,
   "metadata": {},
   "outputs": [
    {
     "name": "stdout",
     "output_type": "stream",
     "text": [
      "[0.99906065 0.99892646 0.99906065 0.99919485 0.99879211 0.99932895\n",
      " 0.99946316 0.9986579  0.99919474 0.99892617]\n"
     ]
    }
   ],
   "source": [
    "mnb_scores = cross_val_score(Naive,Train_X,Train_Y, cv=10)\n",
    "print(mnb_scores)"
   ]
  },
  {
   "cell_type": "markdown",
   "metadata": {},
   "source": [
    "#### 5-3.Predict Test Data using MNB"
   ]
  },
  {
   "cell_type": "code",
   "execution_count": 12,
   "metadata": {},
   "outputs": [
    {
     "name": "stdout",
     "output_type": "stream",
     "text": [
      "Naive Bayes Accuracy Score ->  99.94050414905277\n"
     ]
    }
   ],
   "source": [
    "predictions_NB = Naive.predict(Test_X)\n",
    "# Use accuracy_score function to get the accuracy\n",
    "print(\"Naive Bayes Accuracy Score -> \",accuracy_score(predictions_NB, Test_Y)*100)"
   ]
  },
  {
   "cell_type": "markdown",
   "metadata": {},
   "source": [
    "#### 5-4.Confusion Matrix_MNB"
   ]
  },
  {
   "cell_type": "code",
   "execution_count": 13,
   "metadata": {
    "scrolled": false
   },
   "outputs": [
    {
     "name": "stdout",
     "output_type": "stream",
     "text": [
      "[[30835     4]\n",
      " [   15  1081]]\n"
     ]
    }
   ],
   "source": [
    "print(metrics.confusion_matrix(Test_Y,predictions_NB))"
   ]
  },
  {
   "cell_type": "markdown",
   "metadata": {},
   "source": [
    "#### 5-5.MNB_Score"
   ]
  },
  {
   "cell_type": "code",
   "execution_count": 14,
   "metadata": {},
   "outputs": [
    {
     "name": "stdout",
     "output_type": "stream",
     "text": [
      "Precision Score : 0.9963133640552996\n",
      "Recall Score :  0.9863138686131386\n",
      "F1 Score :  0.9912883998165979\n"
     ]
    }
   ],
   "source": [
    "print(\"Precision Score :\" ,precision_score(Test_Y, predictions_NB))\n",
    "print(\"Recall Score : \",recall_score(Test_Y, predictions_NB))\n",
    "print(\"F1 Score : \",f1_score(Test_Y, predictions_NB))"
   ]
  },
  {
   "cell_type": "markdown",
   "metadata": {},
   "source": [
    "# 6.KNN"
   ]
  },
  {
   "cell_type": "markdown",
   "metadata": {},
   "source": [
    "#### 6-1.Learning KNN"
   ]
  },
  {
   "cell_type": "code",
   "execution_count": 15,
   "metadata": {},
   "outputs": [
    {
     "data": {
      "text/plain": [
       "KNeighborsClassifier(algorithm='auto', leaf_size=30, metric='minkowski',\n",
       "           metric_params=None, n_jobs=None, n_neighbors=3, p=2,\n",
       "           weights='uniform')"
      ]
     },
     "execution_count": 15,
     "metadata": {},
     "output_type": "execute_result"
    }
   ],
   "source": [
    "knn_clf = KNeighborsClassifier(n_neighbors=3)\n",
    "knn_clf.fit(Train_X,Train_Y) "
   ]
  },
  {
   "cell_type": "markdown",
   "metadata": {},
   "source": [
    "#### 6-2.Cross Validation with KNN"
   ]
  },
  {
   "cell_type": "code",
   "execution_count": 16,
   "metadata": {},
   "outputs": [
    {
     "name": "stdout",
     "output_type": "stream",
     "text": [
      "[0.99691358 0.99610843 0.99624262 0.9966452  0.9973158  0.99798685\n",
      " 0.9973158  0.99624212 0.99651054 0.99838926]\n"
     ]
    }
   ],
   "source": [
    "knn_scores = cross_val_score(knn_clf,Train_X,Train_Y, cv=10)\n",
    "print(knn_scores)"
   ]
  },
  {
   "cell_type": "markdown",
   "metadata": {},
   "source": [
    "#### 6-3.Predict Test Data using KNN"
   ]
  },
  {
   "cell_type": "code",
   "execution_count": 17,
   "metadata": {},
   "outputs": [
    {
     "data": {
      "text/plain": [
       "0.9979019884139658"
      ]
     },
     "execution_count": 17,
     "metadata": {},
     "output_type": "execute_result"
    }
   ],
   "source": [
    "y_pred = knn_clf.predict(Test_X)\n",
    "np.mean(y_pred == Test_Y)"
   ]
  },
  {
   "cell_type": "markdown",
   "metadata": {},
   "source": [
    "#### 6-4.Confusion Matrix_KNN"
   ]
  },
  {
   "cell_type": "code",
   "execution_count": 18,
   "metadata": {},
   "outputs": [
    {
     "name": "stdout",
     "output_type": "stream",
     "text": [
      "[[30837     2]\n",
      " [   65  1031]]\n"
     ]
    }
   ],
   "source": [
    "print(metrics.confusion_matrix(Test_Y,y_pred))"
   ]
  },
  {
   "cell_type": "markdown",
   "metadata": {},
   "source": [
    "#### 6-5.KNN_Score"
   ]
  },
  {
   "cell_type": "code",
   "execution_count": 19,
   "metadata": {},
   "outputs": [
    {
     "name": "stdout",
     "output_type": "stream",
     "text": [
      "Precision Score : 0.9980638915779284\n",
      "Recall Score :  0.9406934306569343\n",
      "F1 Score :  0.968529826209488\n"
     ]
    }
   ],
   "source": [
    "print(\"Precision Score :\" ,precision_score(Test_Y, y_pred))\n",
    "print(\"Recall Score : \",recall_score(Test_Y, y_pred))\n",
    "print(\"F1 Score : \",f1_score(Test_Y, y_pred))"
   ]
  },
  {
   "cell_type": "markdown",
   "metadata": {},
   "source": [
    "# 7.ROC_Curve"
   ]
  },
  {
   "cell_type": "code",
   "execution_count": 20,
   "metadata": {},
   "outputs": [],
   "source": [
    "def plot_precision_recall_vs_threshold(precision,recall,threshold):\n",
    "    plt.plot(threshold,precision[:-1],\"b--\",label = \"precision\",linewidth = 2)\n",
    "    plt.plot(threshold,recall[:-1],\"g-\",label = 'recall',linewidth = 2)\n",
    "    plt.xlabel(\"threshold\",fontsize = 16)\n",
    "    plt.legend(loc = \"upper left\",fontsize = 16)\n",
    "    plt.ylim([0,1])"
   ]
  },
  {
   "cell_type": "code",
   "execution_count": 21,
   "metadata": {},
   "outputs": [],
   "source": [
    "def plot_precision_vs_recall(precision,recall):\n",
    "    plt.plot(recall,precision,\"b-\",linewidth = 2)\n",
    "    plt.xlabel(\"Recall\",fontsize = 16)\n",
    "    plt.ylabel(\"Precision\",fontsize = 16)\n",
    "    plt.axis([0,1,0,1])"
   ]
  },
  {
   "cell_type": "code",
   "execution_count": 22,
   "metadata": {},
   "outputs": [],
   "source": [
    "def Draw_Roc_curve(model_name,X_train,Y_Train):\n",
    "    Y_train_pred = cross_val_predict(model_name,X_train,Y_Train,cv = 10)\n",
    "    precisions,recalls,thresholds = precision_recall_curve(Y_Train,Y_train_pred)\n",
    "    plot_precision_vs_recall(precisions,recalls)"
   ]
  },
  {
   "cell_type": "markdown",
   "metadata": {},
   "source": [
    "### 7-1.함수 사용 예시"
   ]
  },
  {
   "cell_type": "code",
   "execution_count": 23,
   "metadata": {},
   "outputs": [
    {
     "data": {
      "image/png": "[encoded data removed]",
      "text/plain": [
       "<Figure size 432x288 with 1 Axes>"
      ]
     },
     "metadata": {
      "needs_background": "light"
     },
     "output_type": "display_data"
    }
   ],
   "source": [
    "#Naive의 ROC curve그리기\n",
    "Draw_Roc_curve(Naive,Train_X,Train_Y)"
   ]
  },
  {
   "cell_type": "markdown",
   "metadata": {},
   "source": [
    "# 8.결과 부분"
   ]
  },
  {
   "cell_type": "markdown",
   "metadata": {},
   "source": [
    "#### 8-1.각 모델의 결과값을 합친 수에 대해 색을 부여하는 하는 함수"
   ]
  },
  {
   "cell_type": "code",
   "execution_count": 24,
   "metadata": {},
   "outputs": [],
   "source": [
    "def color_making(number):\n",
    "    if number == 3:\n",
    "         return \"Red\"\n",
    "    elif number == 2:\n",
    "        return \"Orange\"\n",
    "    elif number == 1:\n",
    "        return \"Yellow\"\n",
    "    elif number == 0:\n",
    "        return \"Green\"\n",
    "    else:\n",
    "        raise ValueError"
   ]
  },
  {
   "cell_type": "markdown",
   "metadata": {},
   "source": [
    "#### 8-2.최종 결과 Dataframe을 만드는 함수"
   ]
  },
  {
   "cell_type": "code",
   "execution_count": 25,
   "metadata": {},
   "outputs": [],
   "source": [
    "def make_result_dataframe(test_data,y_Test):\n",
    "    color_list = []\n",
    "    decision_number = 0\n",
    "    ber_predict = Naive.predict(test_data)\n",
    "    knn_predict = knn_clf.predict(test_data)\n",
    "    svm_predict = SVM.predict(test_data)\n",
    "    predict_list = [ber_predict,knn_predict,svm_predict]\n",
    "    for i in predict_list:\n",
    "        decision_number += np.array([x for x in i])\n",
    "    for number in decision_number:\n",
    "        color_list.append(color_making(number))\n",
    "    result = {'bernoulli' : ber_predict,'knn' : knn_predict,\"svm\" : svm_predict , 'decision_number' : decision_number, \"Color\" : color_list,\n",
    "             \"real_label\" : y_Test}\n",
    "    result_dataframe = pd.DataFrame(result)\n",
    "    return result_dataframe"
   ]
  },
  {
   "cell_type": "markdown",
   "metadata": {},
   "source": [
    "#### 8-3.Main"
   ]
  },
  {
   "cell_type": "code",
   "execution_count": 30,
   "metadata": {},
   "outputs": [
    {
     "name": "stdout",
     "output_type": "stream",
     "text": [
      "Red Confusion Matrix : \n",
      " [[30838    69]\n",
      " [    1  1027]]\n",
      "Green Confusion Matrix : \n",
      " [[30833     7]\n",
      " [    6  1089]]\n",
      "RED Accuracy :  0.9978080475966807\n",
      "Green Accurcy :  0.9995929231250978\n"
     ]
    }
   ],
   "source": [
    "if __name__ == \"__main__\":\n",
    "    result_df = make_result_dataframe(Test_X,Test_Y)\n",
    "    S1 = np.asarray(result_df[\"Color\"]) == \"Red\"\n",
    "    S2 = np.asarray(result_df[\"Color\"]) != \"Green\"\n",
    "    print(\"Red Confusion Matrix : \\n\",metrics.confusion_matrix(S1,Test_Y))\n",
    "    print(\"Green Confusion Matrix : \\n\",metrics.confusion_matrix(S2,Test_Y))\n",
    "    print(\"RED Accuracy : \",accuracy_score(S1,Test_Y))\n",
    "    print(\"Green Accurcy : \",accuracy_score(S2,Test_Y))\n",
    "    result_df.to_excel(\"final_result.xlsx\",encoding = 'utf-8',header = True)"
   ]
  }
 ],
 "metadata": {
  "kernelspec": {
   "display_name": "Python 3",
   "language": "python",
   "name": "python3"
  },
  "language_info": {
   "codemirror_mode": {
    "name": "ipython",
    "version": 3
   },
   "file_extension": ".py",
   "mimetype": "text/x-python",
   "name": "python",
   "nbconvert_exporter": "python",
   "pygments_lexer": "ipython3",
   "version": "3.7.3"
  }
 },
 "nbformat": 4,
 "nbformat_minor": 2
}
