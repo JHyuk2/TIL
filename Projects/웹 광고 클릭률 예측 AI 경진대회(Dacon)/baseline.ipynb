{
 "cells": [
  {
   "cell_type": "markdown",
   "metadata": {},
   "source": [
    "주피터를 실행하자마자 에러가 떴는데, pip를 새로 설치하면서 jupyter가 pip에 없어서 발생하는 에러였다!  \n",
    "당황하지 말고 pip install jupyter로 해결해주자."
   ]
  },
  {
   "cell_type": "markdown",
   "metadata": {},
   "source": [
    "## 0. Import Modules"
   ]
  },
  {
   "cell_type": "code",
   "execution_count": 2,
   "metadata": {},
   "outputs": [],
   "source": [
    "# 진행률을 표기하기 위한 tqdm\n",
    "from tqdm import tqdm\n",
    "\n",
    "# DataFrame분석을 위한 pandas\n",
    "import pandas as pd\n",
    "\n",
    "# validation을 위한 전처리 train_test_split\n",
    "from sklearn.model_selection import train_test_split\n",
    "\n",
    "# 분석 및 평가를 위한 sklearn.metrics\n",
    "from sklearn.metrics import confusion_matrix, accuracy_score\n",
    "\n",
    "# 시각화 모듈을 위한 matplotlib\n",
    "import matplotlib.pyplot as plt\n",
    "import matplotlib.font_manager as fm\n",
    "import seaborn"
   ]
  },
  {
   "cell_type": "markdown",
   "metadata": {},
   "source": [
    "## 1. Read Datasets"
   ]
  },
  {
   "cell_type": "code",
   "execution_count": null,
   "metadata": {},
   "outputs": [],
   "source": []
  },
  {
   "cell_type": "code",
   "execution_count": 16,
   "metadata": {},
   "outputs": [],
   "source": [
    "# dataset 읽기\n",
    "# 데이터가 너무 큼...\n",
    "## 그래서 아래 10분할 해서 train_df-_sample만 사용하기로 했다\n",
    "train_df_sample = pd.read_csv(\"./train_df_sample.csv\")"
   ]
  },
  {
   "cell_type": "code",
   "execution_count": 17,
   "metadata": {},
   "outputs": [
    {
     "data": {
      "text/plain": [
       "2860539"
      ]
     },
     "execution_count": 17,
     "metadata": {},
     "output_type": "execute_result"
    }
   ],
   "source": [
    "# 10%만 사용하니까 그나마 좀 괜찮다.\n",
    "len(train_df_sample)"
   ]
  },
  {
   "cell_type": "code",
   "execution_count": 4,
   "metadata": {},
   "outputs": [],
   "source": [
    "# 가장 무난한 머신러닝 및 scikit learn에 있는 모듈 => Boosting, 그 중에서도 GBM, lightGBM 사용해보자."
   ]
  },
  {
   "cell_type": "markdown",
   "metadata": {},
   "source": [
    "## 2. PreProcessing\n",
    "\n",
    "- EDA\n",
    "  - null check (isna, fillna)\n",
    "  - data type (info)\n",
    "  - outlier check(describe, boxplot)\n",
    "  - feature selection (~까지 가면 좋겠으나, 지금은 vanilla로 진행) \n",
    "\n",
    "\n",
    "\n",
    "```python\n",
    "\n",
    "\"\"\"  \n",
    "Dataset Info.  \n",
    " \n",
    "train.csv [파일]   \n",
    "시간 순으로 나열된 7일 동안의 웹 광고 클릭 로그  \n",
    "ID: train 데이터 샘플 고유 ID  \n",
    "Click: 예측 목표인 클릭 여부  \n",
    "0: 클릭하지 않음, 1: 클릭  \n",
    "F01 ~ F39 : 각 클릭 로그와 연관된 Feature  \n",
    "개인정보 보호를 위해 상세 정보는 비식별 처리됨  \n",
    "\n",
    "\"\"\"  \n",
    "```"
   ]
  },
  {
   "cell_type": "code",
   "execution_count": 18,
   "metadata": {},
   "outputs": [
    {
     "data": {
      "text/html": [
       "<div>\n",
       "<style scoped>\n",
       "    .dataframe tbody tr th:only-of-type {\n",
       "        vertical-align: middle;\n",
       "    }\n",
       "\n",
       "    .dataframe tbody tr th {\n",
       "        vertical-align: top;\n",
       "    }\n",
       "\n",
       "    .dataframe thead th {\n",
       "        text-align: right;\n",
       "    }\n",
       "</style>\n",
       "<table border=\"1\" class=\"dataframe\">\n",
       "  <thead>\n",
       "    <tr style=\"text-align: right;\">\n",
       "      <th></th>\n",
       "      <th>Unnamed: 0</th>\n",
       "      <th>ID</th>\n",
       "      <th>Click</th>\n",
       "      <th>F01</th>\n",
       "      <th>F02</th>\n",
       "      <th>F03</th>\n",
       "      <th>F04</th>\n",
       "      <th>F05</th>\n",
       "      <th>F06</th>\n",
       "      <th>F07</th>\n",
       "      <th>...</th>\n",
       "      <th>F30</th>\n",
       "      <th>F31</th>\n",
       "      <th>F32</th>\n",
       "      <th>F33</th>\n",
       "      <th>F34</th>\n",
       "      <th>F35</th>\n",
       "      <th>F36</th>\n",
       "      <th>F37</th>\n",
       "      <th>F38</th>\n",
       "      <th>F39</th>\n",
       "    </tr>\n",
       "  </thead>\n",
       "  <tbody>\n",
       "    <tr>\n",
       "      <th>0</th>\n",
       "      <td>27047686</td>\n",
       "      <td>TRAIN_27047686</td>\n",
       "      <td>0</td>\n",
       "      <td>CYOAMVC</td>\n",
       "      <td>DJDKEYH</td>\n",
       "      <td>NaN</td>\n",
       "      <td>NaN</td>\n",
       "      <td>XCAJWBW</td>\n",
       "      <td>13</td>\n",
       "      <td>VNXTVLH</td>\n",
       "      <td>...</td>\n",
       "      <td>TFZIBRI</td>\n",
       "      <td>GTISJWW</td>\n",
       "      <td>9787.0</td>\n",
       "      <td>0.0</td>\n",
       "      <td>NPEGYAH</td>\n",
       "      <td>IRUDRFB</td>\n",
       "      <td>15.0</td>\n",
       "      <td>JSOMQYE</td>\n",
       "      <td>0.0</td>\n",
       "      <td>KOFRDGL</td>\n",
       "    </tr>\n",
       "    <tr>\n",
       "      <th>1</th>\n",
       "      <td>7223697</td>\n",
       "      <td>TRAIN_07223697</td>\n",
       "      <td>0</td>\n",
       "      <td>JCDXFYU</td>\n",
       "      <td>PILDDJU</td>\n",
       "      <td>IAGJDOH</td>\n",
       "      <td>1.0</td>\n",
       "      <td>LFPUEOV</td>\n",
       "      <td>68</td>\n",
       "      <td>MHBXSWB</td>\n",
       "      <td>...</td>\n",
       "      <td>REPSWLB</td>\n",
       "      <td>KHZNEZF</td>\n",
       "      <td>15063.0</td>\n",
       "      <td>0.0</td>\n",
       "      <td>QMOULXS</td>\n",
       "      <td>IRUDRFB</td>\n",
       "      <td>NaN</td>\n",
       "      <td>XBKBHCW</td>\n",
       "      <td>0.0</td>\n",
       "      <td>LNUQAZZ</td>\n",
       "    </tr>\n",
       "    <tr>\n",
       "      <th>2</th>\n",
       "      <td>21459435</td>\n",
       "      <td>TRAIN_21459435</td>\n",
       "      <td>0</td>\n",
       "      <td>VNOHLIR</td>\n",
       "      <td>PKLDGLX</td>\n",
       "      <td>IAGJDOH</td>\n",
       "      <td>5.0</td>\n",
       "      <td>EVTUBMN</td>\n",
       "      <td>6</td>\n",
       "      <td>JNIVDXP</td>\n",
       "      <td>...</td>\n",
       "      <td>SLXYBBG</td>\n",
       "      <td>GTISJWW</td>\n",
       "      <td>601.0</td>\n",
       "      <td>0.0</td>\n",
       "      <td>SHMKPOR</td>\n",
       "      <td>IRUDRFB</td>\n",
       "      <td>6.0</td>\n",
       "      <td>FXWZZCX</td>\n",
       "      <td>0.0</td>\n",
       "      <td>XHYNPHU</td>\n",
       "    </tr>\n",
       "    <tr>\n",
       "      <th>3</th>\n",
       "      <td>6264302</td>\n",
       "      <td>TRAIN_06264302</td>\n",
       "      <td>0</td>\n",
       "      <td>UCFAVXY</td>\n",
       "      <td>DJDKEYH</td>\n",
       "      <td>NaN</td>\n",
       "      <td>3.0</td>\n",
       "      <td>WNMKDBA</td>\n",
       "      <td>1</td>\n",
       "      <td>YCWUGFD</td>\n",
       "      <td>...</td>\n",
       "      <td>MFPUCBU</td>\n",
       "      <td>ENBEWZP</td>\n",
       "      <td>4210.0</td>\n",
       "      <td>0.0</td>\n",
       "      <td>DVESEGJ</td>\n",
       "      <td>IRUDRFB</td>\n",
       "      <td>3.0</td>\n",
       "      <td>VDQUXYS</td>\n",
       "      <td>0.0</td>\n",
       "      <td>JDVFUQP</td>\n",
       "    </tr>\n",
       "    <tr>\n",
       "      <th>4</th>\n",
       "      <td>22182054</td>\n",
       "      <td>TRAIN_22182054</td>\n",
       "      <td>0</td>\n",
       "      <td>JCDXFYU</td>\n",
       "      <td>PILDDJU</td>\n",
       "      <td>IAGJDOH</td>\n",
       "      <td>11.0</td>\n",
       "      <td>LFPUEOV</td>\n",
       "      <td>81</td>\n",
       "      <td>PIFJCMX</td>\n",
       "      <td>...</td>\n",
       "      <td>NZGEZLW</td>\n",
       "      <td>KHZNEZF</td>\n",
       "      <td>1.0</td>\n",
       "      <td>39.0</td>\n",
       "      <td>QMOULXS</td>\n",
       "      <td>IRUDRFB</td>\n",
       "      <td>0.0</td>\n",
       "      <td>AQGCGGG</td>\n",
       "      <td>1.0</td>\n",
       "      <td>QHKAWMA</td>\n",
       "    </tr>\n",
       "  </tbody>\n",
       "</table>\n",
       "<p>5 rows × 42 columns</p>\n",
       "</div>"
      ],
      "text/plain": [
       "   Unnamed: 0              ID  Click      F01      F02      F03   F04  \\\n",
       "0    27047686  TRAIN_27047686      0  CYOAMVC  DJDKEYH      NaN   NaN   \n",
       "1     7223697  TRAIN_07223697      0  JCDXFYU  PILDDJU  IAGJDOH   1.0   \n",
       "2    21459435  TRAIN_21459435      0  VNOHLIR  PKLDGLX  IAGJDOH   5.0   \n",
       "3     6264302  TRAIN_06264302      0  UCFAVXY  DJDKEYH      NaN   3.0   \n",
       "4    22182054  TRAIN_22182054      0  JCDXFYU  PILDDJU  IAGJDOH  11.0   \n",
       "\n",
       "       F05  F06      F07  ...      F30      F31      F32   F33      F34  \\\n",
       "0  XCAJWBW   13  VNXTVLH  ...  TFZIBRI  GTISJWW   9787.0   0.0  NPEGYAH   \n",
       "1  LFPUEOV   68  MHBXSWB  ...  REPSWLB  KHZNEZF  15063.0   0.0  QMOULXS   \n",
       "2  EVTUBMN    6  JNIVDXP  ...  SLXYBBG  GTISJWW    601.0   0.0  SHMKPOR   \n",
       "3  WNMKDBA    1  YCWUGFD  ...  MFPUCBU  ENBEWZP   4210.0   0.0  DVESEGJ   \n",
       "4  LFPUEOV   81  PIFJCMX  ...  NZGEZLW  KHZNEZF      1.0  39.0  QMOULXS   \n",
       "\n",
       "       F35   F36      F37  F38      F39  \n",
       "0  IRUDRFB  15.0  JSOMQYE  0.0  KOFRDGL  \n",
       "1  IRUDRFB   NaN  XBKBHCW  0.0  LNUQAZZ  \n",
       "2  IRUDRFB   6.0  FXWZZCX  0.0  XHYNPHU  \n",
       "3  IRUDRFB   3.0  VDQUXYS  0.0  JDVFUQP  \n",
       "4  IRUDRFB   0.0  AQGCGGG  1.0  QHKAWMA  \n",
       "\n",
       "[5 rows x 42 columns]"
      ]
     },
     "execution_count": 18,
     "metadata": {},
     "output_type": "execute_result"
    }
   ],
   "source": [
    "train_df_sample.head()"
   ]
  },
  {
   "cell_type": "code",
   "execution_count": 19,
   "metadata": {},
   "outputs": [
    {
     "name": "stdout",
     "output_type": "stream",
     "text": [
      "<class 'pandas.core.frame.DataFrame'>\n",
      "RangeIndex: 2860539 entries, 0 to 2860538\n",
      "Data columns (total 42 columns):\n",
      " #   Column      Dtype  \n",
      "---  ------      -----  \n",
      " 0   Unnamed: 0  int64  \n",
      " 1   ID          object \n",
      " 2   Click       int64  \n",
      " 3   F01         object \n",
      " 4   F02         object \n",
      " 5   F03         object \n",
      " 6   F04         float64\n",
      " 7   F05         object \n",
      " 8   F06         int64  \n",
      " 9   F07         object \n",
      " 10  F08         object \n",
      " 11  F09         object \n",
      " 12  F10         object \n",
      " 13  F11         float64\n",
      " 14  F12         object \n",
      " 15  F13         object \n",
      " 16  F14         int64  \n",
      " 17  F15         object \n",
      " 18  F16         object \n",
      " 19  F17         object \n",
      " 20  F18         float64\n",
      " 21  F19         float64\n",
      " 22  F20         object \n",
      " 23  F21         object \n",
      " 24  F22         object \n",
      " 25  F23         object \n",
      " 26  F24         float64\n",
      " 27  F25         object \n",
      " 28  F26         object \n",
      " 29  F27         float64\n",
      " 30  F28         object \n",
      " 31  F29         float64\n",
      " 32  F30         object \n",
      " 33  F31         object \n",
      " 34  F32         float64\n",
      " 35  F33         float64\n",
      " 36  F34         object \n",
      " 37  F35         object \n",
      " 38  F36         float64\n",
      " 39  F37         object \n",
      " 40  F38         float64\n",
      " 41  F39         object \n",
      "dtypes: float64(11), int64(4), object(27)\n",
      "memory usage: 916.6+ MB\n"
     ]
    }
   ],
   "source": [
    "train_df_sample.info()"
   ]
  },
  {
   "cell_type": "code",
   "execution_count": 20,
   "metadata": {},
   "outputs": [
    {
     "data": {
      "text/plain": [
       "Index(['Unnamed: 0', 'ID', 'Click', 'F01', 'F02', 'F03', 'F04', 'F05', 'F06',\n",
       "       'F07', 'F08', 'F09', 'F10', 'F11', 'F12', 'F13', 'F14', 'F15', 'F16',\n",
       "       'F17', 'F18', 'F19', 'F20', 'F21', 'F22', 'F23', 'F24', 'F25', 'F26',\n",
       "       'F27', 'F28', 'F29', 'F30', 'F31', 'F32', 'F33', 'F34', 'F35', 'F36',\n",
       "       'F37', 'F38', 'F39'],\n",
       "      dtype='object')"
      ]
     },
     "execution_count": 20,
     "metadata": {},
     "output_type": "execute_result"
    }
   ],
   "source": [
    "train_df_sample.columns"
   ]
  },
  {
   "cell_type": "code",
   "execution_count": 21,
   "metadata": {},
   "outputs": [
    {
     "name": "stdout",
     "output_type": "stream",
     "text": [
      "Index(['F01', 'F02', 'F03', 'F04', 'F05', 'F06', 'F07', 'F08', 'F09', 'F10',\n",
      "       'F11', 'F12', 'F13', 'F14', 'F15', 'F16', 'F17', 'F18', 'F19', 'F20',\n",
      "       'F21', 'F22', 'F23', 'F24', 'F25', 'F26', 'F27', 'F28', 'F29', 'F30',\n",
      "       'F31', 'F32', 'F33', 'F34', 'F35', 'F36', 'F37', 'F38', 'F39'],\n",
      "      dtype='object')\n"
     ]
    }
   ],
   "source": [
    "x_col = train_df_sample.columns[3:]\n",
    "print(x_col)"
   ]
  },
  {
   "cell_type": "code",
   "execution_count": 22,
   "metadata": {},
   "outputs": [
    {
     "name": "stdout",
     "output_type": "stream",
     "text": [
      "(2860539, 39)\n"
     ]
    }
   ],
   "source": [
    "train_y = train_df_sample['Click']\n",
    "train_x = train_df_sample[x_col]\n",
    "\n",
    "print(train_x.shape)"
   ]
  },
  {
   "cell_type": "code",
   "execution_count": 23,
   "metadata": {},
   "outputs": [],
   "source": [
    "# 불필요한 컬럼 드랍.\n",
    "if 'ID' in train_df_sample.columns:\n",
    "    train_df_sample.drop(['Unnamed: 0', 'ID'], axis=1, inplace=True)"
   ]
  },
  {
   "cell_type": "code",
   "execution_count": 24,
   "metadata": {},
   "outputs": [
    {
     "data": {
      "text/plain": [
       "Index(['Click', 'F01', 'F02', 'F03', 'F04', 'F05', 'F06', 'F07', 'F08', 'F09',\n",
       "       'F10', 'F11', 'F12', 'F13', 'F14', 'F15', 'F16', 'F17', 'F18', 'F19',\n",
       "       'F20', 'F21', 'F22', 'F23', 'F24', 'F25', 'F26', 'F27', 'F28', 'F29',\n",
       "       'F30', 'F31', 'F32', 'F33', 'F34', 'F35', 'F36', 'F37', 'F38', 'F39'],\n",
       "      dtype='object')"
      ]
     },
     "execution_count": 24,
     "metadata": {},
     "output_type": "execute_result"
    }
   ],
   "source": [
    "train_df_sample.columns"
   ]
  },
  {
   "cell_type": "markdown",
   "metadata": {},
   "source": [
    "#### different missing value filling method by dtypes\n",
    "\n",
    "- object type의 경우 결측값 처리 방법을 여러 가지로 가능하다.\n",
    "  - 위 아래의 값으로 채우기\n",
    "  - 최빈값으로 채우기\n",
    "  - 그냥 날려버리기.\n",
    "  \n",
    "- numeric type의 경우, 아래와 같은 방법들을 사용할 수 있다.\n",
    "  - median(중앙값)으로 채우기\n",
    "  - 0으로 채우기\n",
    "  \n",
    "> 그리고 지금 생각나는건...  \n",
    "> cosine sim을 사용해서 유사도를 구할 수는 없을까?  \n",
    "\n",
    "`하지만 지금은 Vanilla로 먼저 진행해본다.` (0으로 채우고, nan으로 채우기)\n",
    "\n"
   ]
  },
  {
   "cell_type": "code",
   "execution_count": 25,
   "metadata": {},
   "outputs": [
    {
     "name": "stdout",
     "output_type": "stream",
     "text": [
      "Index(['F01', 'F02', 'F03', 'F05', 'F07', 'F08', 'F09', 'F10', 'F12', 'F13',\n",
      "       'F15', 'F16', 'F17', 'F20', 'F21', 'F22', 'F23', 'F25', 'F26', 'F28',\n",
      "       'F30', 'F31', 'F34', 'F35', 'F37', 'F39'],\n",
      "      dtype='object')\n",
      "----------------------------------------\n",
      "Index(['Click', 'F04', 'F06', 'F11', 'F14', 'F18', 'F19', 'F24', 'F27', 'F29',\n",
      "       'F32', 'F33', 'F36', 'F38'],\n",
      "      dtype='object')\n"
     ]
    }
   ],
   "source": [
    "train_object_col = train_df_sample.select_dtypes(['object'])\n",
    "train_numeric_col = train_df_sample.select_dtypes(exclude=['object'])\n",
    "\n",
    "print(train_object_col.columns)\n",
    "print('----'*10) \n",
    "print(train_numeric_col.columns)"
   ]
  },
  {
   "cell_type": "code",
   "execution_count": 26,
   "metadata": {},
   "outputs": [
    {
     "data": {
      "text/html": [
       "<div>\n",
       "<style scoped>\n",
       "    .dataframe tbody tr th:only-of-type {\n",
       "        vertical-align: middle;\n",
       "    }\n",
       "\n",
       "    .dataframe tbody tr th {\n",
       "        vertical-align: top;\n",
       "    }\n",
       "\n",
       "    .dataframe thead th {\n",
       "        text-align: right;\n",
       "    }\n",
       "</style>\n",
       "<table border=\"1\" class=\"dataframe\">\n",
       "  <thead>\n",
       "    <tr style=\"text-align: right;\">\n",
       "      <th></th>\n",
       "      <th>Click</th>\n",
       "      <th>F04</th>\n",
       "      <th>F06</th>\n",
       "      <th>F11</th>\n",
       "      <th>F14</th>\n",
       "      <th>F18</th>\n",
       "      <th>F19</th>\n",
       "      <th>F24</th>\n",
       "      <th>F27</th>\n",
       "      <th>F29</th>\n",
       "      <th>F32</th>\n",
       "      <th>F33</th>\n",
       "      <th>F36</th>\n",
       "      <th>F38</th>\n",
       "    </tr>\n",
       "  </thead>\n",
       "  <tbody>\n",
       "    <tr>\n",
       "      <th>count</th>\n",
       "      <td>2.860539e+06</td>\n",
       "      <td>2.286398e+06</td>\n",
       "      <td>2.860539e+06</td>\n",
       "      <td>2.564728e+06</td>\n",
       "      <td>2.860539e+06</td>\n",
       "      <td>2.127584e+06</td>\n",
       "      <td>2.601387e+06</td>\n",
       "      <td>1.962540e+06</td>\n",
       "      <td>1.754219e+06</td>\n",
       "      <td>1.754219e+06</td>\n",
       "      <td>2.835559e+06</td>\n",
       "      <td>2.601387e+06</td>\n",
       "      <td>2.127584e+06</td>\n",
       "      <td>2.780468e+06</td>\n",
       "    </tr>\n",
       "    <tr>\n",
       "      <th>mean</th>\n",
       "      <td>1.943284e-01</td>\n",
       "      <td>3.121925e+01</td>\n",
       "      <td>1.175535e+02</td>\n",
       "      <td>4.063136e+02</td>\n",
       "      <td>9.613142e+00</td>\n",
       "      <td>6.838256e+00</td>\n",
       "      <td>3.433157e-01</td>\n",
       "      <td>1.139983e+02</td>\n",
       "      <td>2.538591e+01</td>\n",
       "      <td>4.529029e+00</td>\n",
       "      <td>1.943406e+04</td>\n",
       "      <td>2.021605e+00</td>\n",
       "      <td>8.156234e+00</td>\n",
       "      <td>1.854519e-01</td>\n",
       "    </tr>\n",
       "    <tr>\n",
       "      <th>std</th>\n",
       "      <td>3.956829e-01</td>\n",
       "      <td>4.534102e+02</td>\n",
       "      <td>4.039554e+02</td>\n",
       "      <td>6.634069e+02</td>\n",
       "      <td>1.469758e+01</td>\n",
       "      <td>8.967519e+00</td>\n",
       "      <td>6.112556e-01</td>\n",
       "      <td>5.882291e+02</td>\n",
       "      <td>8.971299e+01</td>\n",
       "      <td>7.833788e+00</td>\n",
       "      <td>7.202122e+04</td>\n",
       "      <td>3.276068e+01</td>\n",
       "      <td>1.873038e+01</td>\n",
       "      <td>1.999053e+00</td>\n",
       "    </tr>\n",
       "    <tr>\n",
       "      <th>min</th>\n",
       "      <td>0.000000e+00</td>\n",
       "      <td>1.000000e+00</td>\n",
       "      <td>-1.000000e+00</td>\n",
       "      <td>1.000000e+00</td>\n",
       "      <td>0.000000e+00</td>\n",
       "      <td>0.000000e+00</td>\n",
       "      <td>0.000000e+00</td>\n",
       "      <td>0.000000e+00</td>\n",
       "      <td>1.000000e+00</td>\n",
       "      <td>1.000000e+00</td>\n",
       "      <td>0.000000e+00</td>\n",
       "      <td>0.000000e+00</td>\n",
       "      <td>0.000000e+00</td>\n",
       "      <td>0.000000e+00</td>\n",
       "    </tr>\n",
       "    <tr>\n",
       "      <th>25%</th>\n",
       "      <td>0.000000e+00</td>\n",
       "      <td>3.000000e+00</td>\n",
       "      <td>1.000000e+00</td>\n",
       "      <td>5.700000e+01</td>\n",
       "      <td>1.000000e+00</td>\n",
       "      <td>2.000000e+00</td>\n",
       "      <td>0.000000e+00</td>\n",
       "      <td>7.000000e+00</td>\n",
       "      <td>2.000000e+00</td>\n",
       "      <td>1.000000e+00</td>\n",
       "      <td>3.540000e+02</td>\n",
       "      <td>0.000000e+00</td>\n",
       "      <td>2.000000e+00</td>\n",
       "      <td>0.000000e+00</td>\n",
       "    </tr>\n",
       "    <tr>\n",
       "      <th>50%</th>\n",
       "      <td>0.000000e+00</td>\n",
       "      <td>7.000000e+00</td>\n",
       "      <td>5.000000e+00</td>\n",
       "      <td>1.830000e+02</td>\n",
       "      <td>5.000000e+00</td>\n",
       "      <td>4.000000e+00</td>\n",
       "      <td>0.000000e+00</td>\n",
       "      <td>2.700000e+01</td>\n",
       "      <td>6.000000e+00</td>\n",
       "      <td>2.000000e+00</td>\n",
       "      <td>2.711000e+03</td>\n",
       "      <td>0.000000e+00</td>\n",
       "      <td>4.000000e+00</td>\n",
       "      <td>0.000000e+00</td>\n",
       "    </tr>\n",
       "    <tr>\n",
       "      <th>75%</th>\n",
       "      <td>0.000000e+00</td>\n",
       "      <td>2.100000e+01</td>\n",
       "      <td>5.000000e+01</td>\n",
       "      <td>4.850000e+02</td>\n",
       "      <td>1.400000e+01</td>\n",
       "      <td>9.000000e+00</td>\n",
       "      <td>1.000000e+00</td>\n",
       "      <td>8.200000e+01</td>\n",
       "      <td>1.800000e+01</td>\n",
       "      <td>4.000000e+00</td>\n",
       "      <td>1.022100e+04</td>\n",
       "      <td>1.000000e+00</td>\n",
       "      <td>1.000000e+01</td>\n",
       "      <td>0.000000e+00</td>\n",
       "    </tr>\n",
       "    <tr>\n",
       "      <th>max</th>\n",
       "      <td>1.000000e+00</td>\n",
       "      <td>6.553500e+04</td>\n",
       "      <td>2.687100e+04</td>\n",
       "      <td>8.000000e+03</td>\n",
       "      <td>7.382000e+03</td>\n",
       "      <td>9.270000e+02</td>\n",
       "      <td>1.000000e+01</td>\n",
       "      <td>3.220220e+05</td>\n",
       "      <td>7.546000e+03</td>\n",
       "      <td>2.200000e+02</td>\n",
       "      <td>2.626120e+06</td>\n",
       "      <td>5.132400e+04</td>\n",
       "      <td>1.211200e+04</td>\n",
       "      <td>6.260000e+02</td>\n",
       "    </tr>\n",
       "  </tbody>\n",
       "</table>\n",
       "</div>"
      ],
      "text/plain": [
       "              Click           F04           F06           F11           F14  \\\n",
       "count  2.860539e+06  2.286398e+06  2.860539e+06  2.564728e+06  2.860539e+06   \n",
       "mean   1.943284e-01  3.121925e+01  1.175535e+02  4.063136e+02  9.613142e+00   \n",
       "std    3.956829e-01  4.534102e+02  4.039554e+02  6.634069e+02  1.469758e+01   \n",
       "min    0.000000e+00  1.000000e+00 -1.000000e+00  1.000000e+00  0.000000e+00   \n",
       "25%    0.000000e+00  3.000000e+00  1.000000e+00  5.700000e+01  1.000000e+00   \n",
       "50%    0.000000e+00  7.000000e+00  5.000000e+00  1.830000e+02  5.000000e+00   \n",
       "75%    0.000000e+00  2.100000e+01  5.000000e+01  4.850000e+02  1.400000e+01   \n",
       "max    1.000000e+00  6.553500e+04  2.687100e+04  8.000000e+03  7.382000e+03   \n",
       "\n",
       "                F18           F19           F24           F27           F29  \\\n",
       "count  2.127584e+06  2.601387e+06  1.962540e+06  1.754219e+06  1.754219e+06   \n",
       "mean   6.838256e+00  3.433157e-01  1.139983e+02  2.538591e+01  4.529029e+00   \n",
       "std    8.967519e+00  6.112556e-01  5.882291e+02  8.971299e+01  7.833788e+00   \n",
       "min    0.000000e+00  0.000000e+00  0.000000e+00  1.000000e+00  1.000000e+00   \n",
       "25%    2.000000e+00  0.000000e+00  7.000000e+00  2.000000e+00  1.000000e+00   \n",
       "50%    4.000000e+00  0.000000e+00  2.700000e+01  6.000000e+00  2.000000e+00   \n",
       "75%    9.000000e+00  1.000000e+00  8.200000e+01  1.800000e+01  4.000000e+00   \n",
       "max    9.270000e+02  1.000000e+01  3.220220e+05  7.546000e+03  2.200000e+02   \n",
       "\n",
       "                F32           F33           F36           F38  \n",
       "count  2.835559e+06  2.601387e+06  2.127584e+06  2.780468e+06  \n",
       "mean   1.943406e+04  2.021605e+00  8.156234e+00  1.854519e-01  \n",
       "std    7.202122e+04  3.276068e+01  1.873038e+01  1.999053e+00  \n",
       "min    0.000000e+00  0.000000e+00  0.000000e+00  0.000000e+00  \n",
       "25%    3.540000e+02  0.000000e+00  2.000000e+00  0.000000e+00  \n",
       "50%    2.711000e+03  0.000000e+00  4.000000e+00  0.000000e+00  \n",
       "75%    1.022100e+04  1.000000e+00  1.000000e+01  0.000000e+00  \n",
       "max    2.626120e+06  5.132400e+04  1.211200e+04  6.260000e+02  "
      ]
     },
     "execution_count": 26,
     "metadata": {},
     "output_type": "execute_result"
    }
   ],
   "source": [
    "train_numeric_col.describe()"
   ]
  },
  {
   "cell_type": "code",
   "execution_count": 31,
   "metadata": {},
   "outputs": [],
   "source": [
    "train_numeric_col.fillna(0, inplace=True)"
   ]
  },
  {
   "cell_type": "code",
   "execution_count": 32,
   "metadata": {},
   "outputs": [],
   "source": [
    "train_object_col.fillna('NAN', inplace=True)"
   ]
  },
  {
   "cell_type": "code",
   "execution_count": 33,
   "metadata": {},
   "outputs": [
    {
     "name": "stdout",
     "output_type": "stream",
     "text": [
      "<class 'pandas.core.frame.DataFrame'>\n",
      "RangeIndex: 2860539 entries, 0 to 2860538\n",
      "Data columns (total 14 columns):\n",
      " #   Column  Dtype  \n",
      "---  ------  -----  \n",
      " 0   Click   int64  \n",
      " 1   F04     float64\n",
      " 2   F06     int64  \n",
      " 3   F11     float64\n",
      " 4   F14     int64  \n",
      " 5   F18     float64\n",
      " 6   F19     float64\n",
      " 7   F24     float64\n",
      " 8   F27     float64\n",
      " 9   F29     float64\n",
      " 10  F32     float64\n",
      " 11  F33     float64\n",
      " 12  F36     float64\n",
      " 13  F38     float64\n",
      "dtypes: float64(11), int64(3)\n",
      "memory usage: 305.5 MB\n"
     ]
    }
   ],
   "source": [
    "train_numeric_col.info()"
   ]
  },
  {
   "cell_type": "code",
   "execution_count": 34,
   "metadata": {},
   "outputs": [
    {
     "name": "stdout",
     "output_type": "stream",
     "text": [
      "<class 'pandas.core.frame.DataFrame'>\n",
      "RangeIndex: 2860539 entries, 0 to 2860538\n",
      "Data columns (total 14 columns):\n",
      " #   Column  Dtype\n",
      "---  ------  -----\n",
      " 0   Click   int64\n",
      " 1   F04     int64\n",
      " 2   F06     int64\n",
      " 3   F11     int64\n",
      " 4   F14     int64\n",
      " 5   F18     int64\n",
      " 6   F19     int64\n",
      " 7   F24     int64\n",
      " 8   F27     int64\n",
      " 9   F29     int64\n",
      " 10  F32     int64\n",
      " 11  F33     int64\n",
      " 12  F36     int64\n",
      " 13  F38     int64\n",
      "dtypes: int64(14)\n",
      "memory usage: 305.5 MB\n"
     ]
    }
   ],
   "source": [
    "train_numeric_col = train_numeric_col.astype('int64')\n",
    "train_numeric_col.info()"
   ]
  },
  {
   "cell_type": "code",
   "execution_count": 35,
   "metadata": {},
   "outputs": [
    {
     "name": "stdout",
     "output_type": "stream",
     "text": [
      "<class 'pandas.core.frame.DataFrame'>\n",
      "RangeIndex: 2860539 entries, 0 to 2860538\n",
      "Data columns (total 26 columns):\n",
      " #   Column  Dtype \n",
      "---  ------  ----- \n",
      " 0   F01     object\n",
      " 1   F02     object\n",
      " 2   F03     object\n",
      " 3   F05     object\n",
      " 4   F07     object\n",
      " 5   F08     object\n",
      " 6   F09     object\n",
      " 7   F10     object\n",
      " 8   F12     object\n",
      " 9   F13     object\n",
      " 10  F15     object\n",
      " 11  F16     object\n",
      " 12  F17     object\n",
      " 13  F20     object\n",
      " 14  F21     object\n",
      " 15  F22     object\n",
      " 16  F23     object\n",
      " 17  F25     object\n",
      " 18  F26     object\n",
      " 19  F28     object\n",
      " 20  F30     object\n",
      " 21  F31     object\n",
      " 22  F34     object\n",
      " 23  F35     object\n",
      " 24  F37     object\n",
      " 25  F39     object\n",
      "dtypes: object(26)\n",
      "memory usage: 567.4+ MB\n"
     ]
    }
   ],
   "source": [
    "train_object_col.info()"
   ]
  },
  {
   "cell_type": "code",
   "execution_count": 36,
   "metadata": {},
   "outputs": [
    {
     "name": "stdout",
     "output_type": "stream",
     "text": [
      "<class 'pandas.core.frame.DataFrame'>\n",
      "RangeIndex: 2860539 entries, 0 to 2860538\n",
      "Data columns (total 26 columns):\n",
      " #   Column  Dtype   \n",
      "---  ------  -----   \n",
      " 0   F01     category\n",
      " 1   F02     category\n",
      " 2   F03     category\n",
      " 3   F05     category\n",
      " 4   F07     category\n",
      " 5   F08     category\n",
      " 6   F09     category\n",
      " 7   F10     category\n",
      " 8   F12     category\n",
      " 9   F13     category\n",
      " 10  F15     category\n",
      " 11  F16     category\n",
      " 12  F17     category\n",
      " 13  F20     category\n",
      " 14  F21     category\n",
      " 15  F22     category\n",
      " 16  F23     category\n",
      " 17  F25     category\n",
      " 18  F26     category\n",
      " 19  F28     category\n",
      " 20  F30     category\n",
      " 21  F31     category\n",
      " 22  F34     category\n",
      " 23  F35     category\n",
      " 24  F37     category\n",
      " 25  F39     category\n",
      "dtypes: category(26)\n",
      "memory usage: 268.6 MB\n"
     ]
    }
   ],
   "source": [
    "train_object_col = train_object_col.astype('category')\n",
    "train_object_col.info()"
   ]
  },
  {
   "cell_type": "code",
   "execution_count": 40,
   "metadata": {},
   "outputs": [],
   "source": [
    "# lightgbm 설치\n",
    "# !pip install lightgbm"
   ]
  },
  {
   "cell_type": "code",
   "execution_count": 41,
   "metadata": {},
   "outputs": [],
   "source": [
    "import lightgbm as lgb"
   ]
  },
  {
   "cell_type": "markdown",
   "metadata": {},
   "source": [
    "## 3. Modelling\n",
    "\n",
    "가장 무난하면서도 성능이 좋은 light gbm을 사용해보자."
   ]
  },
  {
   "cell_type": "code",
   "execution_count": 42,
   "metadata": {},
   "outputs": [
    {
     "name": "stdout",
     "output_type": "stream",
     "text": [
      "<class 'pandas.core.frame.DataFrame'>\n",
      "RangeIndex: 2860539 entries, 0 to 2860538\n",
      "Data columns (total 40 columns):\n",
      " #   Column  Dtype   \n",
      "---  ------  -----   \n",
      " 0   Click   int64   \n",
      " 1   F01     category\n",
      " 2   F02     category\n",
      " 3   F03     category\n",
      " 4   F04     int64   \n",
      " 5   F05     category\n",
      " 6   F06     int64   \n",
      " 7   F07     category\n",
      " 8   F08     category\n",
      " 9   F09     category\n",
      " 10  F10     category\n",
      " 11  F11     int64   \n",
      " 12  F12     category\n",
      " 13  F13     category\n",
      " 14  F14     int64   \n",
      " 15  F15     category\n",
      " 16  F16     category\n",
      " 17  F17     category\n",
      " 18  F18     int64   \n",
      " 19  F19     int64   \n",
      " 20  F20     category\n",
      " 21  F21     category\n",
      " 22  F22     category\n",
      " 23  F23     category\n",
      " 24  F24     int64   \n",
      " 25  F25     category\n",
      " 26  F26     category\n",
      " 27  F27     int64   \n",
      " 28  F28     category\n",
      " 29  F29     int64   \n",
      " 30  F30     category\n",
      " 31  F31     category\n",
      " 32  F32     int64   \n",
      " 33  F33     int64   \n",
      " 34  F34     category\n",
      " 35  F35     category\n",
      " 36  F36     int64   \n",
      " 37  F37     category\n",
      " 38  F38     int64   \n",
      " 39  F39     category\n",
      "dtypes: category(26), int64(14)\n",
      "memory usage: 574.1 MB\n"
     ]
    }
   ],
   "source": [
    "# 1) train_df에 전처리 한 거 합쳐주기.\n",
    "\n",
    "num_cols = train_numeric_col.columns\n",
    "cat_cols = train_object_col.columns\n",
    "\n",
    "for col in num_cols:\n",
    "    train_df_sample[col] = train_numeric_col[col]\n",
    "\n",
    "for col in cat_cols:\n",
    "    train_df_sample[col] = train_object_col[col]\n",
    "\n",
    "train_df_sample.info()\n"
   ]
  },
  {
   "cell_type": "code",
   "execution_count": 47,
   "metadata": {},
   "outputs": [
    {
     "data": {
      "text/plain": [
       "(2860539, 39)"
      ]
     },
     "execution_count": 47,
     "metadata": {},
     "output_type": "execute_result"
    }
   ],
   "source": [
    "train_y = train_df_sample['Click']\n",
    "train_x = train_df_sample.drop(['Click'], axis=1)\n",
    "\n",
    "train_x.shape"
   ]
  },
  {
   "cell_type": "markdown",
   "metadata": {},
   "source": [
    "### Training"
   ]
  },
  {
   "cell_type": "code",
   "execution_count": 49,
   "metadata": {},
   "outputs": [
    {
     "name": "stdout",
     "output_type": "stream",
     "text": [
      "[LightGBM] [Warning] Categorical features with more bins than the configured maximum bin number found.\n",
      "[LightGBM] [Warning] For categorical features, max_bin and max_bin_by_feature may be ignored with a large number of categories.\n",
      "[LightGBM] [Info] Number of positive: 555884, number of negative: 2304655\n",
      "[LightGBM] [Info] Auto-choosing col-wise multi-threading, the overhead of testing was 0.319565 seconds.\n",
      "You can set `force_col_wise=true` to remove the overhead.\n",
      "[LightGBM] [Info] Total Bins 74681\n",
      "[LightGBM] [Info] Number of data points in the train set: 2860539, number of used features: 39\n",
      "[LightGBM] [Info] [binary:BoostFromScore]: pavg=0.194328 -> initscore=-1.422127\n",
      "[LightGBM] [Info] Start training from score -1.422127\n"
     ]
    },
    {
     "data": {
      "text/html": [
       "<style>#sk-container-id-1 {color: black;}#sk-container-id-1 pre{padding: 0;}#sk-container-id-1 div.sk-toggleable {background-color: white;}#sk-container-id-1 label.sk-toggleable__label {cursor: pointer;display: block;width: 100%;margin-bottom: 0;padding: 0.3em;box-sizing: border-box;text-align: center;}#sk-container-id-1 label.sk-toggleable__label-arrow:before {content: \"▸\";float: left;margin-right: 0.25em;color: #696969;}#sk-container-id-1 label.sk-toggleable__label-arrow:hover:before {color: black;}#sk-container-id-1 div.sk-estimator:hover label.sk-toggleable__label-arrow:before {color: black;}#sk-container-id-1 div.sk-toggleable__content {max-height: 0;max-width: 0;overflow: hidden;text-align: left;background-color: #f0f8ff;}#sk-container-id-1 div.sk-toggleable__content pre {margin: 0.2em;color: black;border-radius: 0.25em;background-color: #f0f8ff;}#sk-container-id-1 input.sk-toggleable__control:checked~div.sk-toggleable__content {max-height: 200px;max-width: 100%;overflow: auto;}#sk-container-id-1 input.sk-toggleable__control:checked~label.sk-toggleable__label-arrow:before {content: \"▾\";}#sk-container-id-1 div.sk-estimator input.sk-toggleable__control:checked~label.sk-toggleable__label {background-color: #d4ebff;}#sk-container-id-1 div.sk-label input.sk-toggleable__control:checked~label.sk-toggleable__label {background-color: #d4ebff;}#sk-container-id-1 input.sk-hidden--visually {border: 0;clip: rect(1px 1px 1px 1px);clip: rect(1px, 1px, 1px, 1px);height: 1px;margin: -1px;overflow: hidden;padding: 0;position: absolute;width: 1px;}#sk-container-id-1 div.sk-estimator {font-family: monospace;background-color: #f0f8ff;border: 1px dotted black;border-radius: 0.25em;box-sizing: border-box;margin-bottom: 0.5em;}#sk-container-id-1 div.sk-estimator:hover {background-color: #d4ebff;}#sk-container-id-1 div.sk-parallel-item::after {content: \"\";width: 100%;border-bottom: 1px solid gray;flex-grow: 1;}#sk-container-id-1 div.sk-label:hover label.sk-toggleable__label {background-color: #d4ebff;}#sk-container-id-1 div.sk-serial::before {content: \"\";position: absolute;border-left: 1px solid gray;box-sizing: border-box;top: 0;bottom: 0;left: 50%;z-index: 0;}#sk-container-id-1 div.sk-serial {display: flex;flex-direction: column;align-items: center;background-color: white;padding-right: 0.2em;padding-left: 0.2em;position: relative;}#sk-container-id-1 div.sk-item {position: relative;z-index: 1;}#sk-container-id-1 div.sk-parallel {display: flex;align-items: stretch;justify-content: center;background-color: white;position: relative;}#sk-container-id-1 div.sk-item::before, #sk-container-id-1 div.sk-parallel-item::before {content: \"\";position: absolute;border-left: 1px solid gray;box-sizing: border-box;top: 0;bottom: 0;left: 50%;z-index: -1;}#sk-container-id-1 div.sk-parallel-item {display: flex;flex-direction: column;z-index: 1;position: relative;background-color: white;}#sk-container-id-1 div.sk-parallel-item:first-child::after {align-self: flex-end;width: 50%;}#sk-container-id-1 div.sk-parallel-item:last-child::after {align-self: flex-start;width: 50%;}#sk-container-id-1 div.sk-parallel-item:only-child::after {width: 0;}#sk-container-id-1 div.sk-dashed-wrapped {border: 1px dashed gray;margin: 0 0.4em 0.5em 0.4em;box-sizing: border-box;padding-bottom: 0.4em;background-color: white;}#sk-container-id-1 div.sk-label label {font-family: monospace;font-weight: bold;display: inline-block;line-height: 1.2em;}#sk-container-id-1 div.sk-label-container {text-align: center;}#sk-container-id-1 div.sk-container {/* jupyter's `normalize.less` sets `[hidden] { display: none; }` but bootstrap.min.css set `[hidden] { display: none !important; }` so we also need the `!important` here to be able to override the default hidden behavior on the sphinx rendered scikit-learn.org. See: https://github.com/scikit-learn/scikit-learn/issues/21755 */display: inline-block !important;position: relative;}#sk-container-id-1 div.sk-text-repr-fallback {display: none;}</style><div id=\"sk-container-id-1\" class=\"sk-top-container\"><div class=\"sk-text-repr-fallback\"><pre>LGBMClassifier(objective=&#x27;binary&#x27;)</pre><b>In a Jupyter environment, please rerun this cell to show the HTML representation or trust the notebook. <br />On GitHub, the HTML representation is unable to render, please try loading this page with nbviewer.org.</b></div><div class=\"sk-container\" hidden><div class=\"sk-item\"><div class=\"sk-estimator sk-toggleable\"><input class=\"sk-toggleable__control sk-hidden--visually\" id=\"sk-estimator-id-1\" type=\"checkbox\" checked><label for=\"sk-estimator-id-1\" class=\"sk-toggleable__label sk-toggleable__label-arrow\">LGBMClassifier</label><div class=\"sk-toggleable__content\"><pre>LGBMClassifier(objective=&#x27;binary&#x27;)</pre></div></div></div></div></div>"
      ],
      "text/plain": [
       "LGBMClassifier(objective='binary')"
      ]
     },
     "execution_count": 49,
     "metadata": {},
     "output_type": "execute_result"
    }
   ],
   "source": [
    "model = lgb.LGBMClassifier(objective='binary')\n",
    "model.fit(train_x, train_y, eval_metric='AUC')"
   ]
  },
  {
   "cell_type": "code",
   "execution_count": 71,
   "metadata": {},
   "outputs": [],
   "source": [
    "## sample로 사용할 거라면, 앞으로는 꼭 함수화하자.\n",
    "# preprocess\n",
    "\n",
    "def load_data(path):    \n",
    "    df = pd.read_csv(path)\n",
    "    \n",
    "    df.drop('ID', axis=1, inplace=True)\n",
    "    obj_cols_df = df.select_dtypes(include='object')\n",
    "    num_cols_df = df.select_dtypes(exclude='object')\n",
    "     \n",
    "    # fill missing values\n",
    "    num_cols_df.fillna(0, inplace=True)\n",
    "    obj_cols_df.fillna('NAN', inplace=True)\n",
    "\n",
    "    # replace origin to cleansed column\n",
    "    num_cols = num_cols_df.columns\n",
    "    obj_cols = obj_cols_df.columns\n",
    "    df[num_cols] = num_cols_df[num_cols].astype('int64')\n",
    "    df[obj_cols] = obj_cols_df[obj_cols].astype('category')\n",
    "\n",
    "    return df"
   ]
  },
  {
   "cell_type": "code",
   "execution_count": 72,
   "metadata": {},
   "outputs": [],
   "source": [
    "test_df = load_data(\"./datasets/test.csv\")"
   ]
  },
  {
   "cell_type": "code",
   "execution_count": 73,
   "metadata": {},
   "outputs": [],
   "source": [
    "pred = model.predict_proba(test_df)"
   ]
  },
  {
   "cell_type": "code",
   "execution_count": 74,
   "metadata": {},
   "outputs": [
    {
     "data": {
      "text/html": [
       "<div>\n",
       "<style scoped>\n",
       "    .dataframe tbody tr th:only-of-type {\n",
       "        vertical-align: middle;\n",
       "    }\n",
       "\n",
       "    .dataframe tbody tr th {\n",
       "        vertical-align: top;\n",
       "    }\n",
       "\n",
       "    .dataframe thead th {\n",
       "        text-align: right;\n",
       "    }\n",
       "</style>\n",
       "<table border=\"1\" class=\"dataframe\">\n",
       "  <thead>\n",
       "    <tr style=\"text-align: right;\">\n",
       "      <th></th>\n",
       "      <th>ID</th>\n",
       "      <th>Click</th>\n",
       "    </tr>\n",
       "  </thead>\n",
       "  <tbody>\n",
       "    <tr>\n",
       "      <th>0</th>\n",
       "      <td>TEST_0000000</td>\n",
       "      <td>0</td>\n",
       "    </tr>\n",
       "    <tr>\n",
       "      <th>1</th>\n",
       "      <td>TEST_0000001</td>\n",
       "      <td>0</td>\n",
       "    </tr>\n",
       "    <tr>\n",
       "      <th>2</th>\n",
       "      <td>TEST_0000002</td>\n",
       "      <td>0</td>\n",
       "    </tr>\n",
       "    <tr>\n",
       "      <th>3</th>\n",
       "      <td>TEST_0000003</td>\n",
       "      <td>0</td>\n",
       "    </tr>\n",
       "    <tr>\n",
       "      <th>4</th>\n",
       "      <td>TEST_0000004</td>\n",
       "      <td>0</td>\n",
       "    </tr>\n",
       "    <tr>\n",
       "      <th>...</th>\n",
       "      <td>...</td>\n",
       "      <td>...</td>\n",
       "    </tr>\n",
       "    <tr>\n",
       "      <th>4538536</th>\n",
       "      <td>TEST_4538536</td>\n",
       "      <td>0</td>\n",
       "    </tr>\n",
       "    <tr>\n",
       "      <th>4538537</th>\n",
       "      <td>TEST_4538537</td>\n",
       "      <td>0</td>\n",
       "    </tr>\n",
       "    <tr>\n",
       "      <th>4538538</th>\n",
       "      <td>TEST_4538538</td>\n",
       "      <td>0</td>\n",
       "    </tr>\n",
       "    <tr>\n",
       "      <th>4538539</th>\n",
       "      <td>TEST_4538539</td>\n",
       "      <td>0</td>\n",
       "    </tr>\n",
       "    <tr>\n",
       "      <th>4538540</th>\n",
       "      <td>TEST_4538540</td>\n",
       "      <td>0</td>\n",
       "    </tr>\n",
       "  </tbody>\n",
       "</table>\n",
       "<p>4538541 rows × 2 columns</p>\n",
       "</div>"
      ],
      "text/plain": [
       "                   ID  Click\n",
       "0        TEST_0000000      0\n",
       "1        TEST_0000001      0\n",
       "2        TEST_0000002      0\n",
       "3        TEST_0000003      0\n",
       "4        TEST_0000004      0\n",
       "...               ...    ...\n",
       "4538536  TEST_4538536      0\n",
       "4538537  TEST_4538537      0\n",
       "4538538  TEST_4538538      0\n",
       "4538539  TEST_4538539      0\n",
       "4538540  TEST_4538540      0\n",
       "\n",
       "[4538541 rows x 2 columns]"
      ]
     },
     "execution_count": 74,
     "metadata": {},
     "output_type": "execute_result"
    }
   ],
   "source": [
    "sample_submission = pd.read_csv('./datasets/sample_submission.csv')\n",
    "sample_submission"
   ]
  },
  {
   "cell_type": "code",
   "execution_count": 75,
   "metadata": {},
   "outputs": [
    {
     "data": {
      "text/html": [
       "<div>\n",
       "<style scoped>\n",
       "    .dataframe tbody tr th:only-of-type {\n",
       "        vertical-align: middle;\n",
       "    }\n",
       "\n",
       "    .dataframe tbody tr th {\n",
       "        vertical-align: top;\n",
       "    }\n",
       "\n",
       "    .dataframe thead th {\n",
       "        text-align: right;\n",
       "    }\n",
       "</style>\n",
       "<table border=\"1\" class=\"dataframe\">\n",
       "  <thead>\n",
       "    <tr style=\"text-align: right;\">\n",
       "      <th></th>\n",
       "      <th>ID</th>\n",
       "      <th>Click</th>\n",
       "    </tr>\n",
       "  </thead>\n",
       "  <tbody>\n",
       "    <tr>\n",
       "      <th>0</th>\n",
       "      <td>TEST_0000000</td>\n",
       "      <td>0.200314</td>\n",
       "    </tr>\n",
       "    <tr>\n",
       "      <th>1</th>\n",
       "      <td>TEST_0000001</td>\n",
       "      <td>0.168957</td>\n",
       "    </tr>\n",
       "    <tr>\n",
       "      <th>2</th>\n",
       "      <td>TEST_0000002</td>\n",
       "      <td>0.182148</td>\n",
       "    </tr>\n",
       "    <tr>\n",
       "      <th>3</th>\n",
       "      <td>TEST_0000003</td>\n",
       "      <td>0.233223</td>\n",
       "    </tr>\n",
       "    <tr>\n",
       "      <th>4</th>\n",
       "      <td>TEST_0000004</td>\n",
       "      <td>0.297747</td>\n",
       "    </tr>\n",
       "    <tr>\n",
       "      <th>...</th>\n",
       "      <td>...</td>\n",
       "      <td>...</td>\n",
       "    </tr>\n",
       "    <tr>\n",
       "      <th>4538536</th>\n",
       "      <td>TEST_4538536</td>\n",
       "      <td>0.129919</td>\n",
       "    </tr>\n",
       "    <tr>\n",
       "      <th>4538537</th>\n",
       "      <td>TEST_4538537</td>\n",
       "      <td>0.229020</td>\n",
       "    </tr>\n",
       "    <tr>\n",
       "      <th>4538538</th>\n",
       "      <td>TEST_4538538</td>\n",
       "      <td>0.107711</td>\n",
       "    </tr>\n",
       "    <tr>\n",
       "      <th>4538539</th>\n",
       "      <td>TEST_4538539</td>\n",
       "      <td>0.247740</td>\n",
       "    </tr>\n",
       "    <tr>\n",
       "      <th>4538540</th>\n",
       "      <td>TEST_4538540</td>\n",
       "      <td>0.207176</td>\n",
       "    </tr>\n",
       "  </tbody>\n",
       "</table>\n",
       "<p>4538541 rows × 2 columns</p>\n",
       "</div>"
      ],
      "text/plain": [
       "                   ID     Click\n",
       "0        TEST_0000000  0.200314\n",
       "1        TEST_0000001  0.168957\n",
       "2        TEST_0000002  0.182148\n",
       "3        TEST_0000003  0.233223\n",
       "4        TEST_0000004  0.297747\n",
       "...               ...       ...\n",
       "4538536  TEST_4538536  0.129919\n",
       "4538537  TEST_4538537  0.229020\n",
       "4538538  TEST_4538538  0.107711\n",
       "4538539  TEST_4538539  0.247740\n",
       "4538540  TEST_4538540  0.207176\n",
       "\n",
       "[4538541 rows x 2 columns]"
      ]
     },
     "execution_count": 75,
     "metadata": {},
     "output_type": "execute_result"
    }
   ],
   "source": [
    "sample_submission['Click'] = pred[:,1]\n",
    "sample_submission"
   ]
  },
  {
   "cell_type": "code",
   "execution_count": 76,
   "metadata": {},
   "outputs": [],
   "source": [
    "sample_submission.to_csv('lgbm.csv', index=False)"
   ]
  },
  {
   "cell_type": "code",
   "execution_count": null,
   "metadata": {},
   "outputs": [],
   "source": []
  }
 ],
 "metadata": {
  "kernelspec": {
   "display_name": "Python 3",
   "language": "python",
   "name": "python3"
  },
  "language_info": {
   "codemirror_mode": {
    "name": "ipython",
    "version": 3
   },
   "file_extension": ".py",
   "mimetype": "text/x-python",
   "name": "python",
   "nbconvert_exporter": "python",
   "pygments_lexer": "ipython3",
   "version": "3.10.2"
  }
 },
 "nbformat": 4,
 "nbformat_minor": 2
}
