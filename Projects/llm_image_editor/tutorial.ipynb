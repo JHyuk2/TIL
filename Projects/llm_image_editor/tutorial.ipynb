{
 "cells": [
  {
   "cell_type": "code",
   "execution_count": null,
   "metadata": {},
   "outputs": [],
   "source": [
    "import streamlit as st\n",
    "from PIL import Image\n",
    "import numpy as np\n",
    "\n",
    "# 앱 제목\n",
    "st.title(\"Photo Editor with LLM-based Inpating\")\n",
    "\n",
    "# 이미지 업로드\n",
    "uploaded_file = st.file_uploader(\"Upload an image\", type=['jpg', 'png', 'jpeg'])\n",
    "\n",
    "if uploaded_file is not None:\n",
    "    # 이미지 로드 및 표시\n",
    "    image = Image.open(uploaded_file).convert(\"RGB\")\n",
    "    st.image(image, caption=\"uploaded_image\", use_column_width=True)\n",
    "\n",
    "\n"
   ]
  },
  {
   "cell_type": "markdown",
   "metadata": {},
   "source": [
    "Stable Diffusers Inpainting example"
   ]
  },
  {
   "cell_type": "code",
   "execution_count": null,
   "metadata": {},
   "outputs": [],
   "source": [
    "from diffusers import StableDiffusionInpaintPipeline\n",
    "import torch\n",
    "from PIL import Image\n",
    "\n",
    "# Stable Diffusion Inpainting 모델 로드\n",
    "pipe = StableDiffusionInpaintPipeline.from_pretrained(\n",
    "    \"runwayml/stable-diffusion-inpainting\", torch_dtype=torch.float16\n",
    ")\n",
    "pipe.to(\"cuda\")\n",
    "\n",
    "# 입력 이미지와 마스크 로드\n",
    "init_image = Image.open(\"path_to_your_image.jpg\").convert(\"RGB\").resize((512, 512))\n",
    "mask_image = Image.open(\"path_to_your_mask.png\").convert(\"RGB\").resize((512, 512))\n",
    "\n",
    "# 이미지 Inpainting\n",
    "prompt = \"a scenic view of mountains without any people\"\n",
    "output = pipe(prompt=prompt, image=init_image, mask_image=mask_image)\n",
    "\n",
    "# 결과 출력\n",
    "output_image = output.images[0]\n",
    "output_image.show()\n"
   ]
  }
 ],
 "metadata": {
  "kernelspec": {
   "display_name": "Python 3",
   "language": "python",
   "name": "python3"
  },
  "language_info": {
   "name": "python",
   "version": "3.10.9"
  }
 },
 "nbformat": 4,
 "nbformat_minor": 2
}
