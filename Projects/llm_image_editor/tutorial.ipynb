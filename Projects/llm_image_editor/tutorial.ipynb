{
 "cells": [
  {
   "cell_type": "code",
   "execution_count": null,
   "metadata": {},
   "outputs": [],
   "source": [
    "import streamlit as st\n",
    "from PIL import Image\n",
    "import numpy as np\n",
    "\n",
    "# 앱 제목\n",
    "st.title(\"Photo Editor with LLM-based Inpating\")\n",
    "\n",
    "# 이미지 업로드\n",
    "uploaded_file = st.file_uploader(\"Upload an image\", type=['jpg', 'png', 'jpeg'])\n",
    "\n",
    "if uploaded_file is not None:\n",
    "    # 이미지 로드 및 표시\n",
    "    image = Image.open(uploaded_file).convert(\"RGB\")\n",
    "    st.image(image, caption=\"uploaded_image\", use_column_width=True)\n",
    "\n",
    "\n"
   ]
  }
 ],
 "metadata": {
  "kernelspec": {
   "display_name": "Python 3",
   "language": "python",
   "name": "python3"
  },
  "language_info": {
   "name": "python",
   "version": "3.10.9"
  }
 },
 "nbformat": 4,
 "nbformat_minor": 2
}
