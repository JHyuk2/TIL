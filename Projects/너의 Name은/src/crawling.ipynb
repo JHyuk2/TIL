{
 "cells": [
  {
   "cell_type": "code",
   "execution_count": 16,
   "metadata": {},
   "outputs": [],
   "source": [
    "# to get API token\n",
    "import os\n",
    "from dotenv import load_dotenv\n",
    "\n",
    "# to get information in URL\n",
    "import requests\n",
    "from bs4 import BeautifulSoup\n",
    "import re\n",
    "\n",
    "# load .env file\n",
    "load_dotenv()\n",
    "# GitHub API 사용하기 위한 변수 선언\n",
    "\n",
    "GITHUB_API_URL = \"https://api.github.com\"\n",
    "ACCESS_TOKEN = os.getenv('GITHUB_ACCESS_TOKEN')\n",
    "\n",
    "# 헤더 설정\n",
    "headers = {\n",
    "    'Authorization': f'token {ACCESS_TOKEN}',\n",
    "    'Accept': 'application/vnd.github.v3+json',\n",
    "    'User-Agent': 'JHyuk2'\n",
    "}"
   ]
  },
  {
   "cell_type": "code",
   "execution_count": 30,
   "metadata": {},
   "outputs": [
    {
     "name": "stdout",
     "output_type": "stream",
     "text": [
      "{\n",
      "  \"current_user_url\": \"https://api.github.com/user\",\n",
      "  \"current_user_authorizations_html_url\": \"https://github.com/settings/connections/applications{/client_id}\",\n",
      "  \"authorizations_url\": \"https://api.github.com/authorizations\",\n",
      "  \"code_search_url\": \"https://api.github.com/search/code?q={query}{&page,per_page,sort,order}\",\n",
      "  \"commit_search_url\": \"https://api.github.com/search/commits?q={query}{&page,per_page,sort,order}\",\n",
      "  \"emails_url\": \"https://api.github.com/user/emails\",\n",
      "  \"emojis_url\": \"https://api.github.com/emojis\",\n",
      "  \"events_url\": \"https://api.github.com/events\",\n",
      "  \"feeds_url\": \"https://api.github.com/feeds\",\n",
      "  \"followers_url\": \"https://api.github.com/user/followers\",\n",
      "  \"following_url\": \"https://api.github.com/user/following{/target}\",\n",
      "  \"gists_url\": \"https://api.github.com/gists{/gist_id}\",\n",
      "  \"hub_url\": \"https://api.github.com/hub\",\n",
      "  \"issue_search_url\": \"https://api.github.com/search/issues?q={query}{&page,per_page,sort,order}\",\n",
      "  \"issues_url\": \"https://api.github.com/issues\",\n",
      "  \"keys_url\": \"https://api.github.com/user/keys\",\n",
      "  \"label_search_url\": \"https://api.github.com/search/labels?q={query}&repository_id={repository_id}{&page,per_page}\",\n",
      "  \"notifications_url\": \"https://api.github.com/notifications\",\n",
      "  \"organization_url\": \"https://api.github.com/orgs/{org}\",\n",
      "  \"organization_repositories_url\": \"https://api.github.com/orgs/{org}/repos{?type,page,per_page,sort}\",\n",
      "  \"organization_teams_url\": \"https://api.github.com/orgs/{org}/teams\",\n",
      "  \"public_gists_url\": \"https://api.github.com/gists/public\",\n",
      "  \"rate_limit_url\": \"https://api.github.com/rate_limit\",\n",
      "  \"repository_url\": \"https://api.github.com/repos/{owner}/{repo}\",\n",
      "  \"repository_search_url\": \"https://api.github.com/search/repositories?q={query}{&page,per_page,sort,order}\",\n",
      "  \"current_user_repositories_url\": \"https://api.github.com/user/repos{?type,page,per_page,sort}\",\n",
      "  \"starred_url\": \"https://api.github.com/user/starred{/owner}{/repo}\",\n",
      "  \"starred_gists_url\": \"https://api.github.com/gists/starred\",\n",
      "  \"topic_search_url\": \"https://api.github.com/search/topics?q={query}{&page,per_page}\",\n",
      "  \"user_url\": \"https://api.github.com/users/{user}\",\n",
      "  \"user_organizations_url\": \"https://api.github.com/user/orgs\",\n",
      "  \"user_repositories_url\": \"https://api.github.com/users/{user}/repos{?type,page,per_page,sort}\",\n",
      "  \"user_search_url\": \"https://api.github.com/search/users?q={query}{&page,per_page,sort,order}\"\n",
      "}\n"
     ]
    },
    {
     "name": "stderr",
     "output_type": "stream",
     "text": [
      "  % Total    % Received % Xferd  Average Speed   Time    Time     Time  Current\n",
      "                                 Dload  Upload   Total   Spent    Left  Speed\n",
      "\n",
      "  0     0    0     0    0     0      0      0 --:--:-- --:--:-- --:--:--     0\n",
      "100  2396  100  2396    0     0  83376      0 --:--:-- --:--:-- --:--:-- 85571\n"
     ]
    }
   ],
   "source": [
    "# api 사용법\n",
    "!curl https://api.github.com"
   ]
  },
  {
   "cell_type": "code",
   "execution_count": 32,
   "metadata": {},
   "outputs": [
    {
     "name": "stdout",
     "output_type": "stream",
     "text": [
      "{\n",
      "  \"login\": \"JHyuk2\",\n",
      "  \"id\": 60080684,\n",
      "  \"node_id\": \"MDQ6VXNlcjYwMDgwNjg0\",\n",
      "  \"avatar_url\": \"https://avatars.githubusercontent.com/u/60080684?v=4\",\n",
      "  \"gravatar_id\": \"\",\n",
      "  \"url\": \"https://api.github.com/users/JHyuk2\",\n",
      "  \"html_url\": \"https://github.com/JHyuk2\",\n",
      "  \"followers_url\": \"https://api.github.com/users/JHyuk2/followers\",\n",
      "  \"following_url\": \"https://api.github.com/users/JHyuk2/following{/other_user}\",\n",
      "  \"gists_url\": \"https://api.github.com/users/JHyuk2/gists{/gist_id}\",\n",
      "  \"starred_url\": \"https://api.github.com/users/JHyuk2/starred{/owner}{/repo}\",\n",
      "  \"subscriptions_url\": \"https://api.github.com/users/JHyuk2/subscriptions\",\n",
      "  \"organizations_url\": \"https://api.github.com/users/JHyuk2/orgs\",\n",
      "  \"repos_url\": \"https://api.github.com/users/JHyuk2/repos\",\n",
      "  \"events_url\": \"https://api.github.com/users/JHyuk2/events{/privacy}\",\n",
      "  \"received_events_url\": \"https://api.github.com/users/JHyuk2/received_events\",\n",
      "  \"type\": \"User\",\n",
      "  \"site_admin\": false,\n",
      "  \"name\": null,\n",
      "  \"company\": null,\n",
      "  \"blog\": \"\",\n",
      "  \"location\": \"Seoul, Korea\",\n",
      "  \"email\": null,\n",
      "  \"hireable\": null,\n",
      "  \"bio\": \"Deep dive\\r\\n\",\n",
      "  \"twitter_username\": null,\n",
      "  \"public_repos\": 35,\n",
      "  \"public_gists\": 0,\n",
      "  \"followers\": 17,\n",
      "  \"following\": 19,\n",
      "  \"created_at\": \"2020-01-20T01:06:40Z\",\n",
      "  \"updated_at\": \"2024-05-21T12:01:29Z\"\n",
      "}\n"
     ]
    },
    {
     "name": "stderr",
     "output_type": "stream",
     "text": [
      "  % Total    % Received % Xferd  Average Speed   Time    Time     Time  Current\n",
      "                                 Dload  Upload   Total   Spent    Left  Speed\n",
      "\n",
      "  0     0    0     0    0     0      0      0 --:--:-- --:--:-- --:--:--     0\n",
      "100  1288  100  1288    0     0   3432      0 --:--:-- --:--:-- --:--:--  3443\n"
     ]
    }
   ],
   "source": [
    "# 사용자 인증 정보\n",
    "!curl https://api.github.com/user -H \"Authorization: Bearer $ACCESS_TOKEN\""
   ]
  },
  {
   "cell_type": "code",
   "execution_count": 33,
   "metadata": {},
   "outputs": [
    {
     "name": "stdout",
     "output_type": "stream",
     "text": [
      "\n",
      "               MMM.           .MMM\n",
      "               MMMMMMMMMMMMMMMMMMM\n",
      "               MMMMMMMMMMMMMMMMMMM      _________________________________________\n",
      "              MMMMMMMMMMMMMMMMMMMMM    |                                         |\n",
      "             MMMMMMMMMMMMMMMMMMMMMMM   | Anything added dilutes everything else. |\n",
      "            MMMMMMMMMMMMMMMMMMMMMMMM   |_   _____________________________________|\n",
      "            MMMM::- -:::::::- -::MMMM    |/\n",
      "             MM~:~ 00~:::::~ 00~:~MM\n",
      "        .. MMMMM::.00:::+:::.00::MMMMM ..\n",
      "              .MM::::: ._. :::::MM.\n",
      "                 MMMM;:::::;MMMM\n",
      "          -MM        MMMMMMM\n",
      "          ^  M+     MMMMMMMMM\n",
      "              MMMMMMM MM MM MM\n",
      "                   MM MM MM MM\n",
      "                   MM MM MM MM\n",
      "                .~~MM~MM~MM~MM~~.\n",
      "             ~~~~MM:~MM~~~MM~:MM~~~~\n",
      "            ~~~~~~==~==~~~==~==~~~~~~\n",
      "             ~~~~~~==~==~==~==~~~~~~\n",
      "                 :~==~==~==~==~~\n"
     ]
    },
    {
     "name": "stderr",
     "output_type": "stream",
     "text": [
      "  % Total    % Received % Xferd  Average Speed   Time    Time     Time  Current\n",
      "                                 Dload  Upload   Total   Spent    Left  Speed\n",
      "\n",
      "  0     0    0     0    0     0      0      0 --:--:-- --:--:-- --:--:--     0\n",
      "100   925  100   925    0     0   2982      0 --:--:-- --:--:-- --:--:--  2993\n"
     ]
    }
   ],
   "source": [
    "# 그리고 귀여운 고양이.\n",
    "!curl https://api.github.com/octocat"
   ]
  },
  {
   "cell_type": "markdown",
   "metadata": {},
   "source": [
    "### REST API - search repo and select language\n",
    "- 우리가 사용할 건 repository search와 repo 안의 .py 파일을 찾는 것.  \n",
    "\n",
    "세 가지 중 가장 잘 사용할만한 것은\n",
    "> `\"repository_search_url\"`: \"https://api.github.com/search/repositories?q={query}{&page,per_page,sort,order}\",  \n",
    "> `\"issue_search_url\"`: \"https://api.github.com/search/issues?q={query}{&page,per_page,sort,order}\",  \n",
    "> `\"topic_search_url\"`: \"https://api.github.com/search/topics?q={query}{&page,per_page}\",  \n",
    "\n",
    "<br>\n",
    "이슈와 토픽은 잘 모르겠지만 레포는 확실하다.\n"
   ]
  },
  {
   "cell_type": "code",
   "execution_count": 35,
   "metadata": {},
   "outputs": [],
   "source": [
    "# GitHub API를 사용하여 트렌딩 레포지토리를 검색하는 함수.\n",
    "def get_trending_repositories(language='python', sort='stars', order='desc', per_page=10):\n",
    "    url = \"https://api.github.com/search/repositories\"\n",
    "    query = f\"language:{language}\"\n",
    "    params = {\n",
    "        'q': query,\n",
    "        'sort': sort,\n",
    "        'order': order,\n",
    "        'per_page': per_page\n",
    "    }\n",
    "    # getter_url = 'https://api.github.com/search/repositories?q=language:{language}&sort=stars&order=desc&per_page=10'\n",
    "    response = requests.get(url, headers=headers, params=params)\n",
    "    if response.status_code == 200:\n",
    "        return response.json()['items']\n",
    "    else:\n",
    "        raise Exception(f\"Error fetching trending repositories: {response.status_code} - {response.text}\")\n",
    "    \n",
    "repos = get_trending_repositories()"
   ]
  },
  {
   "cell_type": "code",
   "execution_count": 41,
   "metadata": {},
   "outputs": [
    {
     "ename": "KeyError",
     "evalue": "'items'",
     "output_type": "error",
     "traceback": [
      "\u001b[1;31m---------------------------------------------------------------------------\u001b[0m",
      "\u001b[1;31mKeyError\u001b[0m                                  Traceback (most recent call last)",
      "Input \u001b[1;32mIn [41]\u001b[0m, in \u001b[0;36m<cell line: 1>\u001b[1;34m()\u001b[0m\n\u001b[0;32m      1\u001b[0m \u001b[38;5;28;01mfor\u001b[39;00m repo \u001b[38;5;129;01min\u001b[39;00m repos:\n\u001b[1;32m----> 2\u001b[0m     \u001b[38;5;28mprint\u001b[39m(\u001b[43mrepo\u001b[49m\u001b[43m[\u001b[49m\u001b[38;5;124;43m'\u001b[39;49m\u001b[38;5;124;43mitems\u001b[39;49m\u001b[38;5;124;43m'\u001b[39;49m\u001b[43m]\u001b[49m)\n\u001b[0;32m      3\u001b[0m     \u001b[38;5;28;01mbreak\u001b[39;00m\n",
      "\u001b[1;31mKeyError\u001b[0m: 'items'"
     ]
    }
   ],
   "source": []
  },
  {
   "cell_type": "code",
   "execution_count": 9,
   "metadata": {},
   "outputs": [],
   "source": []
  },
  {
   "cell_type": "code",
   "execution_count": 42,
   "metadata": {},
   "outputs": [],
   "source": [
    "# 리포지토리의 코드 파일을 수집\n",
    "def get_repository_files(repo_url):\n",
    "    files = []\n",
    "    repo_name = repo_url.split('/')[-1]\n",
    "    url = f'https://api.github.com/repos/{repo_name}/contents'\n",
    "    response = requests.get(url)\n",
    "    print(response)\n",
    "    data = response.json()\n",
    "    \n",
    "    for item in data:\n",
    "        if item['type'] == 'file' and item['name'].endswith('.py'):\n",
    "            files.append(item['download_url'])\n",
    "    return files\n",
    "    "
   ]
  },
  {
   "cell_type": "code",
   "execution_count": 13,
   "metadata": {},
   "outputs": [],
   "source": [
    "# 리포지토리의 코드 파일을 수집\n",
    "def get_repository_files(repo_url):\n",
    "    files = []\n",
    "    repo_name = repo_url.split('/')[-1]\n",
    "    url = f'https://api.github.com/repos/{repo_name}/contents'\n",
    "    response = requests.get(url)\n",
    "    print(response)\n",
    "    data = response.json()\n",
    "    \n",
    "    for item in data:\n",
    "        if item['type'] == 'file' and item['name'].endswith('.py'):\n",
    "            files.append(item['download_url'])\n",
    "    return files"
   ]
  },
  {
   "cell_type": "code",
   "execution_count": 43,
   "metadata": {},
   "outputs": [
    {
     "name": "stdout",
     "output_type": "stream",
     "text": [
      "<Response [404]>\n"
     ]
    },
    {
     "ename": "TypeError",
     "evalue": "string indices must be integers",
     "output_type": "error",
     "traceback": [
      "\u001b[1;31m---------------------------------------------------------------------------\u001b[0m",
      "\u001b[1;31mTypeError\u001b[0m                                 Traceback (most recent call last)",
      "Input \u001b[1;32mIn [43]\u001b[0m, in \u001b[0;36m<cell line: 1>\u001b[1;34m()\u001b[0m\n\u001b[1;32m----> 1\u001b[0m files \u001b[38;5;241m=\u001b[39m \u001b[43mget_repository_files\u001b[49m\u001b[43m(\u001b[49m\u001b[43mrepos\u001b[49m\u001b[43m[\u001b[49m\u001b[38;5;241;43m0\u001b[39;49m\u001b[43m]\u001b[49m\u001b[43m[\u001b[49m\u001b[38;5;124;43m'\u001b[39;49m\u001b[38;5;124;43mhtml_url\u001b[39;49m\u001b[38;5;124;43m'\u001b[39;49m\u001b[43m]\u001b[49m\u001b[43m)\u001b[49m\n",
      "Input \u001b[1;32mIn [42]\u001b[0m, in \u001b[0;36mget_repository_files\u001b[1;34m(repo_url)\u001b[0m\n\u001b[0;32m      8\u001b[0m data \u001b[38;5;241m=\u001b[39m response\u001b[38;5;241m.\u001b[39mjson()\n\u001b[0;32m     10\u001b[0m \u001b[38;5;28;01mfor\u001b[39;00m item \u001b[38;5;129;01min\u001b[39;00m data:\n\u001b[1;32m---> 11\u001b[0m     \u001b[38;5;28;01mif\u001b[39;00m \u001b[43mitem\u001b[49m\u001b[43m[\u001b[49m\u001b[38;5;124;43m'\u001b[39;49m\u001b[38;5;124;43mtype\u001b[39;49m\u001b[38;5;124;43m'\u001b[39;49m\u001b[43m]\u001b[49m \u001b[38;5;241m==\u001b[39m \u001b[38;5;124m'\u001b[39m\u001b[38;5;124mfile\u001b[39m\u001b[38;5;124m'\u001b[39m \u001b[38;5;129;01mand\u001b[39;00m item[\u001b[38;5;124m'\u001b[39m\u001b[38;5;124mname\u001b[39m\u001b[38;5;124m'\u001b[39m]\u001b[38;5;241m.\u001b[39mendswith(\u001b[38;5;124m'\u001b[39m\u001b[38;5;124m.py\u001b[39m\u001b[38;5;124m'\u001b[39m):\n\u001b[0;32m     12\u001b[0m         files\u001b[38;5;241m.\u001b[39mappend(item[\u001b[38;5;124m'\u001b[39m\u001b[38;5;124mdownload_url\u001b[39m\u001b[38;5;124m'\u001b[39m])\n\u001b[0;32m     13\u001b[0m \u001b[38;5;28;01mreturn\u001b[39;00m files\n",
      "\u001b[1;31mTypeError\u001b[0m: string indices must be integers"
     ]
    }
   ],
   "source": [
    "files = get_repository_files(repos[0]['html_url'])"
   ]
  },
  {
   "cell_type": "code",
   "execution_count": 5,
   "metadata": {},
   "outputs": [],
   "source": [
    "i = 0\n",
    "for repo in repos:\n",
    "    i += 1\n",
    "    temp = repo['html_url']\n",
    "    if i == 2:\n",
    "        break"
   ]
  },
  {
   "cell_type": "code",
   "execution_count": 12,
   "metadata": {},
   "outputs": [
    {
     "name": "stdout",
     "output_type": "stream",
     "text": [
      "https://github.com/donnemartin/system-design-primer\n"
     ]
    }
   ],
   "source": [
    "print(temp)\n",
    "temp_url = temp"
   ]
  },
  {
   "cell_type": "code",
   "execution_count": 14,
   "metadata": {},
   "outputs": [
    {
     "name": "stdout",
     "output_type": "stream",
     "text": [
      "{'message': 'Not Found', 'documentation_url': 'https://docs.github.com/rest/repos/repos#get-a-repository'}\n"
     ]
    },
    {
     "ename": "TypeError",
     "evalue": "string indices must be integers",
     "output_type": "error",
     "traceback": [
      "\u001b[1;31m---------------------------------------------------------------------------\u001b[0m",
      "\u001b[1;31mTypeError\u001b[0m                                 Traceback (most recent call last)",
      "Input \u001b[1;32mIn [14]\u001b[0m, in \u001b[0;36m<cell line: 1>\u001b[1;34m()\u001b[0m\n\u001b[1;32m----> 1\u001b[0m files \u001b[38;5;241m=\u001b[39m \u001b[43mget_repository_files\u001b[49m\u001b[43m(\u001b[49m\u001b[43mtemp_url\u001b[49m\u001b[43m)\u001b[49m\n",
      "Input \u001b[1;32mIn [13]\u001b[0m, in \u001b[0;36mget_repository_files\u001b[1;34m(repo_url)\u001b[0m\n\u001b[0;32m      8\u001b[0m \u001b[38;5;28mprint\u001b[39m(data)\n\u001b[0;32m      9\u001b[0m \u001b[38;5;28;01mfor\u001b[39;00m item \u001b[38;5;129;01min\u001b[39;00m data:\n\u001b[1;32m---> 10\u001b[0m     \u001b[38;5;28;01mif\u001b[39;00m \u001b[43mitem\u001b[49m\u001b[43m[\u001b[49m\u001b[38;5;124;43m'\u001b[39;49m\u001b[38;5;124;43mtype\u001b[39;49m\u001b[38;5;124;43m'\u001b[39;49m\u001b[43m]\u001b[49m \u001b[38;5;241m==\u001b[39m \u001b[38;5;124m'\u001b[39m\u001b[38;5;124mfile\u001b[39m\u001b[38;5;124m'\u001b[39m \u001b[38;5;129;01mand\u001b[39;00m item[\u001b[38;5;124m'\u001b[39m\u001b[38;5;124mname\u001b[39m\u001b[38;5;124m'\u001b[39m]\u001b[38;5;241m.\u001b[39mendswith(\u001b[38;5;124m'\u001b[39m\u001b[38;5;124m.py\u001b[39m\u001b[38;5;124m'\u001b[39m):\n\u001b[0;32m     11\u001b[0m         files\u001b[38;5;241m.\u001b[39mappend(item[\u001b[38;5;124m'\u001b[39m\u001b[38;5;124mdownload_url\u001b[39m\u001b[38;5;124m'\u001b[39m])\n\u001b[0;32m     12\u001b[0m \u001b[38;5;28;01mreturn\u001b[39;00m files\n",
      "\u001b[1;31mTypeError\u001b[0m: string indices must be integers"
     ]
    }
   ],
   "source": [
    "\n",
    "files = get_repository_files(temp_url)"
   ]
  },
  {
   "cell_type": "code",
   "execution_count": 11,
   "metadata": {},
   "outputs": [],
   "source": [
    "# 코드 파일을 다운로드하고 변수명, 함수명, 클래스명을 추출\n",
    "def extract_names_from_code(file_url):\n",
    "    response = requests.get(file_url)\n",
    "    code = response.text\n",
    "    variables = re.findall(r'\\b([a-zA-Z_][a-zA-Z0-9_]*)\\b', code)\n",
    "    return variables"
   ]
  },
  {
   "cell_type": "code",
   "execution_count": 19,
   "metadata": {},
   "outputs": [
    {
     "ename": "TypeError",
     "evalue": "string indices must be integers",
     "output_type": "error",
     "traceback": [
      "\u001b[1;31m---------------------------------------------------------------------------\u001b[0m",
      "\u001b[1;31mTypeError\u001b[0m                                 Traceback (most recent call last)",
      "Input \u001b[1;32mIn [19]\u001b[0m, in \u001b[0;36m<cell line: 36>\u001b[1;34m()\u001b[0m\n\u001b[0;32m     34\u001b[0m repos \u001b[38;5;241m=\u001b[39m get_repositories(language)\n\u001b[0;32m     36\u001b[0m \u001b[38;5;28;01mfor\u001b[39;00m repo \u001b[38;5;129;01min\u001b[39;00m repos:\n\u001b[1;32m---> 37\u001b[0m     files \u001b[38;5;241m=\u001b[39m \u001b[43mget_repository_files\u001b[49m\u001b[43m(\u001b[49m\u001b[43mrepo\u001b[49m\u001b[43m[\u001b[49m\u001b[38;5;124;43m'\u001b[39;49m\u001b[38;5;124;43mhtml_url\u001b[39;49m\u001b[38;5;124;43m'\u001b[39;49m\u001b[43m]\u001b[49m\u001b[43m)\u001b[49m\n\u001b[0;32m     38\u001b[0m     \u001b[38;5;28;01mfor\u001b[39;00m file_url \u001b[38;5;129;01min\u001b[39;00m files:\n\u001b[0;32m     39\u001b[0m         names \u001b[38;5;241m=\u001b[39m extract_names_from_code(file_url)\n",
      "Input \u001b[1;32mIn [19]\u001b[0m, in \u001b[0;36mget_repository_files\u001b[1;34m(repo_url)\u001b[0m\n\u001b[0;32m     19\u001b[0m data \u001b[38;5;241m=\u001b[39m response\u001b[38;5;241m.\u001b[39mjson()\n\u001b[0;32m     20\u001b[0m \u001b[38;5;28;01mfor\u001b[39;00m item \u001b[38;5;129;01min\u001b[39;00m data:\n\u001b[1;32m---> 21\u001b[0m     \u001b[38;5;28;01mif\u001b[39;00m \u001b[43mitem\u001b[49m\u001b[43m[\u001b[49m\u001b[38;5;124;43m'\u001b[39;49m\u001b[38;5;124;43mtype\u001b[39;49m\u001b[38;5;124;43m'\u001b[39;49m\u001b[43m]\u001b[49m \u001b[38;5;241m==\u001b[39m \u001b[38;5;124m'\u001b[39m\u001b[38;5;124mfile\u001b[39m\u001b[38;5;124m'\u001b[39m \u001b[38;5;129;01mand\u001b[39;00m item[\u001b[38;5;124m'\u001b[39m\u001b[38;5;124mname\u001b[39m\u001b[38;5;124m'\u001b[39m]\u001b[38;5;241m.\u001b[39mendswith(\u001b[38;5;124m'\u001b[39m\u001b[38;5;124m.py\u001b[39m\u001b[38;5;124m'\u001b[39m):\n\u001b[0;32m     22\u001b[0m         files\u001b[38;5;241m.\u001b[39mappend(item[\u001b[38;5;124m'\u001b[39m\u001b[38;5;124mdownload_url\u001b[39m\u001b[38;5;124m'\u001b[39m])\n\u001b[0;32m     23\u001b[0m \u001b[38;5;28;01mreturn\u001b[39;00m files\n",
      "\u001b[1;31mTypeError\u001b[0m: string indices must be integers"
     ]
    }
   ],
   "source": []
  },
  {
   "cell_type": "code",
   "execution_count": null,
   "metadata": {},
   "outputs": [],
   "source": []
  }
 ],
 "metadata": {
  "kernelspec": {
   "display_name": "Python 3",
   "language": "python",
   "name": "python3"
  },
  "language_info": {
   "codemirror_mode": {
    "name": "ipython",
    "version": 3
   },
   "file_extension": ".py",
   "mimetype": "text/x-python",
   "name": "python",
   "nbconvert_exporter": "python",
   "pygments_lexer": "ipython3",
   "version": "3.10.2"
  }
 },
 "nbformat": 4,
 "nbformat_minor": 2
}
