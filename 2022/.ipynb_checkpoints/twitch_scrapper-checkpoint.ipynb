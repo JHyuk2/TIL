{
 "cells": [
  {
   "cell_type": "markdown",
   "id": "681019f4",
   "metadata": {},
   "source": [
    "# Getting my credentials"
   ]
  },
  {
   "cell_type": "code",
   "execution_count": 2,
   "id": "d500439c",
   "metadata": {},
   "outputs": [],
   "source": [
    "server = 'irc.chat.twitch.tv'\n",
    "port = 6667\n",
    "nickname = 'whdgurdl77'\n",
    "token = 'oauth:92vlfic37hsrxqug4sm1r1ozb9v8gc'\n",
    "channel = '#ninja'"
   ]
  },
  {
   "cell_type": "markdown",
   "id": "6fdda586",
   "metadata": {},
   "source": [
    "# Connecting to Twitch with sockets"
   ]
  },
  {
   "cell_type": "code",
   "execution_count": 3,
   "id": "b2bfd885",
   "metadata": {},
   "outputs": [],
   "source": [
    "import socket\n",
    "sock = socket.socket()"
   ]
  },
  {
   "cell_type": "code",
   "execution_count": 4,
   "id": "fc0837ae",
   "metadata": {},
   "outputs": [],
   "source": [
    "sock.connect((server, port))"
   ]
  },
  {
   "cell_type": "code",
   "execution_count": 5,
   "id": "5c39b71d",
   "metadata": {},
   "outputs": [
    {
     "data": {
      "text/plain": [
       "12"
      ]
     },
     "execution_count": 5,
     "metadata": {},
     "output_type": "execute_result"
    }
   ],
   "source": [
    "sock.send(f\"PASS {token}\\n\".encode('utf-8')) # carry my token\n",
    "sock.send(f\"NICK {nickname}\\n\".encode('utf-8')) # carry username\n",
    "sock.send(f\"JOIN {channel}\\n\".encode('utf-8')) # carry the channel"
   ]
  },
  {
   "cell_type": "code",
   "execution_count": 7,
   "id": "dd9c41ee",
   "metadata": {},
   "outputs": [
    {
     "ename": "ConnectionAbortedError",
     "evalue": "[WinError 10053] 현재 연결은 사용자의 호스트 시스템의 소프트웨어의 의해 중단되었습니다",
     "output_type": "error",
     "traceback": [
      "\u001b[1;31m---------------------------------------------------------------------------\u001b[0m",
      "\u001b[1;31mConnectionAbortedError\u001b[0m                    Traceback (most recent call last)",
      "Input \u001b[1;32mIn [7]\u001b[0m, in \u001b[0;36m<cell line: 3>\u001b[1;34m()\u001b[0m\n\u001b[0;32m      1\u001b[0m \u001b[38;5;66;03m# 2048 = buffer size in bytes / power of 2 can be used\u001b[39;00m\n\u001b[1;32m----> 3\u001b[0m resp \u001b[38;5;241m=\u001b[39m \u001b[43msock\u001b[49m\u001b[38;5;241;43m.\u001b[39;49m\u001b[43mrecv\u001b[49m\u001b[43m(\u001b[49m\u001b[38;5;241;43m2048\u001b[39;49m\u001b[43m)\u001b[49m\u001b[38;5;241m.\u001b[39mdecode(\u001b[38;5;124m'\u001b[39m\u001b[38;5;124mutf-8\u001b[39m\u001b[38;5;124m'\u001b[39m)\n\u001b[0;32m      5\u001b[0m resp\n",
      "\u001b[1;31mConnectionAbortedError\u001b[0m: [WinError 10053] 현재 연결은 사용자의 호스트 시스템의 소프트웨어의 의해 중단되었습니다"
     ]
    }
   ],
   "source": [
    "# 2048 = buffer size in bytes / power of 2 can be used\n",
    "\n",
    "resp = sock.recv(2048).decode('utf-8')\n",
    "\n",
    "resp"
   ]
  },
  {
   "cell_type": "code",
   "execution_count": 6,
   "id": "73845087",
   "metadata": {},
   "outputs": [],
   "source": [
    "sock.close()"
   ]
  },
  {
   "cell_type": "markdown",
   "id": "f53d3307",
   "metadata": {},
   "source": [
    "# Writing messages to a file"
   ]
  },
  {
   "cell_type": "code",
   "execution_count": 7,
   "id": "ca92db10",
   "metadata": {},
   "outputs": [],
   "source": [
    "import logging\n",
    "\n",
    "logging.basicConfig(level=logging.DEBUG,\n",
    "                   format='%(asctime)s - %(message)s',\n",
    "                   datefmt='%Y-%m-%d_%H:%M:%S',\n",
    "                   handlers=[logging.FileHandler('chat.log', encoding='utf-8')])"
   ]
  },
  {
   "cell_type": "code",
   "execution_count": 10,
   "id": "9caea02a",
   "metadata": {},
   "outputs": [],
   "source": [
    "logging.info(resp)"
   ]
  },
  {
   "cell_type": "code",
   "execution_count": 9,
   "id": "ef6dd4ee",
   "metadata": {},
   "outputs": [
    {
     "ename": "ModuleNotFoundError",
     "evalue": "No module named 'emoji'",
     "output_type": "error",
     "traceback": [
      "\u001b[1;31m---------------------------------------------------------------------------\u001b[0m",
      "\u001b[1;31mModuleNotFoundError\u001b[0m                       Traceback (most recent call last)",
      "Input \u001b[1;32mIn [9]\u001b[0m, in \u001b[0;36m<cell line: 1>\u001b[1;34m()\u001b[0m\n\u001b[1;32m----> 1\u001b[0m \u001b[38;5;28;01mfrom\u001b[39;00m \u001b[38;5;21;01memoji\u001b[39;00m \u001b[38;5;28;01mimport\u001b[39;00m demojize\n\u001b[0;32m      3\u001b[0m \u001b[38;5;28;01mwhile\u001b[39;00m \u001b[38;5;28;01mTrue\u001b[39;00m:\n\u001b[0;32m      4\u001b[0m     resp \u001b[38;5;241m=\u001b[39m sock\u001b[38;5;241m.\u001b[39mrecv(\u001b[38;5;241m2048\u001b[39m)\u001b[38;5;241m.\u001b[39mdecode(\u001b[38;5;124m'\u001b[39m\u001b[38;5;124mutf-8\u001b[39m\u001b[38;5;124m'\u001b[39m)\n",
      "\u001b[1;31mModuleNotFoundError\u001b[0m: No module named 'emoji'"
     ]
    }
   ],
   "source": [
    "from emoji import demojize\n",
    "\n",
    "while True:\n",
    "    resp = sock.recv(2048).decode('utf-8')\n",
    "\n",
    "    if resp.startswith('PING'):\n",
    "        sock.send(\"PONG\\n\".encode('utf-8'))\n",
    "    \n",
    "    elif len(resp) > 0:\n",
    "        logging.info(demojize(resp))"
   ]
  },
  {
   "cell_type": "code",
   "execution_count": null,
   "id": "3b5174d4",
   "metadata": {},
   "outputs": [],
   "source": []
  }
 ],
 "metadata": {
  "kernelspec": {
   "display_name": "Python 3 (ipykernel)",
   "language": "python",
   "name": "python3"
  },
  "language_info": {
   "codemirror_mode": {
    "name": "ipython",
    "version": 3
   },
   "file_extension": ".py",
   "mimetype": "text/x-python",
   "name": "python",
   "nbconvert_exporter": "python",
   "pygments_lexer": "ipython3",
   "version": "3.10.2"
  }
 },
 "nbformat": 4,
 "nbformat_minor": 5
}
