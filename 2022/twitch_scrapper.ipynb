{
 "cells": [
  {
   "cell_type": "markdown",
   "id": "681019f4",
   "metadata": {},
   "source": [
    "# Getting my credentials"
   ]
  },
  {
   "cell_type": "code",
   "execution_count": 12,
   "id": "d500439c",
   "metadata": {},
   "outputs": [],
   "source": [
    "server = 'irc.chat.twitch.tv'\n",
    "port = 6667\n",
    "nickname = 'whdgurdl77'\n",
    "token = 'oauth:chywohow83p6kj1fnvg8y3vgczn2q5'\n",
    "channel = '#handongsuk'"
   ]
  },
  {
   "cell_type": "markdown",
   "id": "6fdda586",
   "metadata": {},
   "source": [
    "# Connecting to Twitch with sockets"
   ]
  },
  {
   "cell_type": "code",
   "execution_count": 13,
   "id": "b2bfd885",
   "metadata": {},
   "outputs": [],
   "source": [
    "import socket\n",
    "sock = socket.socket()"
   ]
  },
  {
   "cell_type": "code",
   "execution_count": 14,
   "id": "fc0837ae",
   "metadata": {},
   "outputs": [],
   "source": [
    "sock.connect((server, port))"
   ]
  },
  {
   "cell_type": "code",
   "execution_count": 15,
   "id": "5c39b71d",
   "metadata": {},
   "outputs": [
    {
     "data": {
      "text/plain": [
       "17"
      ]
     },
     "execution_count": 15,
     "metadata": {},
     "output_type": "execute_result"
    }
   ],
   "source": [
    "sock.send(f\"PASS {token}\\n\".encode('utf-8')) # carry my token\n",
    "sock.send(f\"NICK {nickname}\\n\".encode('utf-8')) # carry username\n",
    "sock.send(f\"JOIN {channel}\\n\".encode('utf-8')) # carry the channel"
   ]
  },
  {
   "cell_type": "code",
   "execution_count": 19,
   "id": "dd9c41ee",
   "metadata": {},
   "outputs": [
    {
     "name": "stdout",
     "output_type": "stream",
     "text": [
      "response here : \n",
      " ongsuk :ㅋㅋㅋㅋㅋㅋㅋㅋㅋㅋㅋㅋㅋ\n",
      ":ghkfydtl!ghkfydtl@ghkfydtl.tmi.twitch.tv PRIVMSG #handongsuk :오 옆에하나\n",
      ":dhmoon0729!dhmoon0729@dhmoon0729.tmi.twitch.tv PRIVMSG #handongsuk :한발더있다\n",
      ":fishbread97!fishbread97@fishbread97.tmi.twitch.tv PRIVMSG #handongsuk :한무입장\n",
      ":castlehot94!castlehot94@castlehot94.tmi.twitch.tv PRIVMSG #handongsuk :던 -완-\n",
      ":teazle1!teazle1@teazle1.tmi.twitch.tv PRIVMSG #handongsuk :또먹네\n",
      ":pwj123456!pwj123456@pwj123456.tmi.twitch.tv PRIVMSG #handongsuk :영약 또있어~\n",
      ":tksthd0602!tksthd0602@tksthd0602.tmi.twitch.tv PRIVMSG #handongsuk :크...\n",
      ":idk1912!idk1912@idk1912.tmi.twitch.tv PRIVMSG #handongsuk :찐 세이버 저깄네\n",
      ":emdnlcl2580!emdnlcl2580@emdnlcl2580.tmi.twitch.tv PRIVMSG #handongsuk :한무회복\n",
      ":jh7332!jh7332@jh7332.tmi.twitch.tv PRIVMSG #handongsuk :ㅋㅋㅋㅋㅋㅋㅋㅋㅋㅋㅋㅋㅋㅋㅋㅋㅋㅋㅋㅋ\n",
      ":qwdqwd784!qwdqwd784@qwdqwd784.tmi.twitch.tv PRIVMSG #handongsuk :광고비1억아닐까 ㄷㄷ\n",
      ":guligul655!guligul655@guligul655.tmi.twitch.tv PRIVMSG #handongsuk :ㅋㅋㅋㅋㅋ\n",
      ":yhc0304!yhc0304@yhc0304.tmi.twitch.tv PRIVMSG #handongsuk :한무\n",
      ":csh8260!csh8260@csh8260.tmi.twitch.tv PRIVMSG #handongsuk :마르지 않는샘물 ㄷㄷ\n",
      ":gimsonge1210!gimsonge1210@gimsonge1210.tmi.twitch.tv PRIVMSG #handongsuk :한무회복 ㄹㅇ\n",
      ":onmer99!onmer99@onmer99.tmi.twitch.tv PRIVMSG #handongsuk :ㅋㅋㅋㅋㅋㅋㄱㅋㅋ\n",
      ":diaak5858!diaak5858@diaak5858.tmi.twitch.tv PRIVMSG #handongsuk :저거\n",
      ":myoung702!myoung702@myoung702.tmi.twitch.tv PRIVMSG #handongsuk :한무회복\n",
      ":crash852456!crash852456@crash852456.tmi.twitch.tv PRIVMSG #handongsuk :뭐이리 많아\n",
      ":teazle1!teazle1@teazle1.tmi.twitch.tv PRIVMSG #handongsuk :ㅋㅋㅋㅋㅋㅋㅋㅋ\n",
      ":justwait1128!justwait1128@justwait1128.tmi.twitch.tv PRIVMSG #handongsuk :마약왕\n",
      ":jason1305!jason1305@jason1305.tmi.twitch.tv PRIVMSG #handongsuk :와 개많네ㅋㅋㅋ\n",
      ":chins71!chins71@chins71.tmi.twitch.tv PRIVMSG #handongsuk :ㅋㅋㅋㅋㅋㅋㅋㅋㅋㅋㅋㅋㅋㅋㅋㅋㅋ\n",
      ":ykyshiny1111!ykyshiny1111@ykyshiny1111.tmi.twitch.tv PRIVMSG #handongsuk :얘는 뭔무기끼든지 고정이라서\n",
      ":dssibala!dssibala@dssibala.tmi.twitch.tv PRIVMSG #handongsuk :세이버짜응..\n",
      ":dydrkf1320!dydrkf1320@dydrkf1320.tmi.twitch.tv PRIVMSG #handongsuk :끝이 없네\n",
      ":blue_sky000!blue_sky000@blue_sky000.tmi.twitch.tv PRIVMSG #handongsuk :세라샵에도 팜\n",
      ":wlsdyd0505!wlsdyd0505@wlsdyd0505.tmi.twitch.tv PRIVMSG #handongsuk :또먹더?\n",
      ":zzabu58!zzabu58@zzabu58.tmi.twitch.tv PRIVMSG #handongsuk :킹깐하기 좋네\n",
      ":sio24252!sio24252@sio24252.tmi.twitch.tv PRIVMSG #handongsuk :한무회복\n",
      ":rockmyth!rockmyth@rockmyth.tmi.twitch.tv PRIVMSG #handongsuk :한무 박카스\n",
      ":golbat7!golbat7@golbat7.tmi.twitch.tv PRIVMSG #handongsuk :-롼-\n",
      ":adfdsad!adfdsad@adfdsad.tmi.twitch.tv PRIVMSG #handongsuk :세라샵 영약 먹음?\n",
      ":duckylivesmatter!duckylivesmatter@duckylivesmatter.tmi.twitch.tv PRIVMSG #handongsuk :기모찌\n",
      ":double_dragon2!double_dragon2@double_dragon2.tmi.twitch.tv PRIVMSG #handongsuk :박카스 우마이\n",
      ":kcong12!kcong12@kcong12.tmi.twitch.tv PRIVMSG #handongsuk :추가요~\n",
      ":headbreakyap!headbreakyap@headbreakyap.tmi.twitch.tv PRIVMSG #handongsuk :찐막 박카스ㅋㅋㅋ\n",
      ":bounceholic!bounceholic@bounceholic.tmi.twitch.tv PRIVMSG #handongsuk :찐찐막\n",
      ":amoeba3066!amoeba3066@amoeba3066.tmi.twitch.tv PRIVMSG #handongsuk :피로도왜 복사되는데\n",
      ":teazle1!teazle1@teazle1.tmi.twitch.tv PRIVMSG #handongsuk :ㅋㅋㅋㅋㅋㅋㅋㅋㅋㅋㅋㅋㅋㅋ\n",
      ":kms111804!kms111804@kms111804.tmi.twitch.tv PRIVMSG #handongsuk :ㅋㅋㅋㅋㅋㅋㅋㅋㅋㅋㅋ\n",
      ":dhwkffks7!dhwkffks7@dhwkffks7.tmi.twitch.tv PRIVMSG #handongsuk :무한이야\n",
      ":chkn300!chkn300@chkn300.tmi.twitch.tv PRIVMSG #handongsuk :한므 박카스\n",
      ":shakeyum!shakeyum@shakeyum.tmi.twitch.tv PRIVMSG #handongsuk :한무동력ㅋㅋㅋ\n",
      ":justwait1128!justwait1128@justwait1128.tmi.twitch.tv PRIVMSG #handongsuk :한무 박카스 ㅋㅋㅋㅋ\n",
      ":mlfctg!mlfctg@mlfctg.tmi.twitch.tv PRIVMSG #handongsuk :경매장에 또있음\n",
      "\n",
      "------------------------------------\n"
     ]
    }
   ],
   "source": [
    "# 2048 = buffer size in bytes / power of 2 can be used\n",
    "\n",
    "resp = sock.recv(2048).decode('utf-8')\n",
    "\n",
    "print(f'response here : \\n {resp}')\n",
    "print('------'*6)"
   ]
  },
  {
   "cell_type": "code",
   "execution_count": 3,
   "id": "73845087",
   "metadata": {},
   "outputs": [
    {
     "ename": "NameError",
     "evalue": "name 'sock' is not defined",
     "output_type": "error",
     "traceback": [
      "\u001b[1;31m---------------------------------------------------------------------------\u001b[0m",
      "\u001b[1;31mNameError\u001b[0m                                 Traceback (most recent call last)",
      "\u001b[1;32mc:\\Users\\dm705\\Study\\TIL\\2022\\twitch_scrapper.ipynb Cell 8'\u001b[0m in \u001b[0;36m<cell line: 1>\u001b[1;34m()\u001b[0m\n\u001b[1;32m----> <a href='vscode-notebook-cell:/c%3A/Users/dm705/Study/TIL/2022/twitch_scrapper.ipynb#ch0000007?line=0'>1</a>\u001b[0m sock\u001b[39m.\u001b[39mclose()\n",
      "\u001b[1;31mNameError\u001b[0m: name 'sock' is not defined"
     ]
    }
   ],
   "source": [
    "# sock.close()"
   ]
  },
  {
   "cell_type": "markdown",
   "id": "f53d3307",
   "metadata": {},
   "source": [
    "# Writing messages to a file"
   ]
  },
  {
   "cell_type": "code",
   "execution_count": 8,
   "id": "ca92db10",
   "metadata": {},
   "outputs": [],
   "source": [
    "import logging\n",
    "\n",
    "logging.basicConfig(level=logging.DEBUG,\n",
    "                   format='%(asctime)s - %(message)s',\n",
    "                   datefmt='%Y-%m-%d_%H:%M:%S',\n",
    "                   handlers=[logging.FileHandler('chat.log', encoding='utf-8')])"
   ]
  },
  {
   "cell_type": "code",
   "execution_count": 11,
   "id": "9caea02a",
   "metadata": {},
   "outputs": [],
   "source": [
    "logging.info(resp)"
   ]
  },
  {
   "cell_type": "code",
   "execution_count": 10,
   "id": "ef6dd4ee",
   "metadata": {},
   "outputs": [
    {
     "ename": "KeyboardInterrupt",
     "evalue": "",
     "output_type": "error",
     "traceback": [
      "\u001b[1;31m---------------------------------------------------------------------------\u001b[0m",
      "\u001b[1;31mKeyboardInterrupt\u001b[0m                         Traceback (most recent call last)",
      "\u001b[1;32mc:\\Users\\dm705\\Study\\TIL\\2022\\twitch_scrapper.ipynb Cell 12'\u001b[0m in \u001b[0;36m<cell line: 3>\u001b[1;34m()\u001b[0m\n\u001b[0;32m      <a href='vscode-notebook-cell:/c%3A/Users/dm705/Study/TIL/2022/twitch_scrapper.ipynb#ch0000011?line=0'>1</a>\u001b[0m \u001b[39mfrom\u001b[39;00m \u001b[39memoji\u001b[39;00m \u001b[39mimport\u001b[39;00m demojize\n\u001b[0;32m      <a href='vscode-notebook-cell:/c%3A/Users/dm705/Study/TIL/2022/twitch_scrapper.ipynb#ch0000011?line=2'>3</a>\u001b[0m \u001b[39mwhile\u001b[39;00m \u001b[39mTrue\u001b[39;00m:\n\u001b[1;32m----> <a href='vscode-notebook-cell:/c%3A/Users/dm705/Study/TIL/2022/twitch_scrapper.ipynb#ch0000011?line=3'>4</a>\u001b[0m     resp \u001b[39m=\u001b[39m sock\u001b[39m.\u001b[39;49mrecv(\u001b[39m2048\u001b[39;49m)\u001b[39m.\u001b[39mdecode(\u001b[39m'\u001b[39m\u001b[39mutf-8\u001b[39m\u001b[39m'\u001b[39m)\n\u001b[0;32m      <a href='vscode-notebook-cell:/c%3A/Users/dm705/Study/TIL/2022/twitch_scrapper.ipynb#ch0000011?line=5'>6</a>\u001b[0m     \u001b[39mif\u001b[39;00m resp\u001b[39m.\u001b[39mstartswith(\u001b[39m'\u001b[39m\u001b[39mPING\u001b[39m\u001b[39m'\u001b[39m):\n\u001b[0;32m      <a href='vscode-notebook-cell:/c%3A/Users/dm705/Study/TIL/2022/twitch_scrapper.ipynb#ch0000011?line=6'>7</a>\u001b[0m         sock\u001b[39m.\u001b[39msend(\u001b[39m\"\u001b[39m\u001b[39mPONG\u001b[39m\u001b[39m\\n\u001b[39;00m\u001b[39m\"\u001b[39m\u001b[39m.\u001b[39mencode(\u001b[39m'\u001b[39m\u001b[39mutf-8\u001b[39m\u001b[39m'\u001b[39m))\n",
      "\u001b[1;31mKeyboardInterrupt\u001b[0m: "
     ]
    }
   ],
   "source": [
    "from emoji import demojize\n",
    "\n",
    "while True:\n",
    "    resp = sock.recv(2048).decode('utf-8')\n",
    "\n",
    "    if resp.startswith('PING'):\n",
    "        sock.send(\"PONG\\n\".encode('utf-8'))\n",
    "    \n",
    "    elif len(resp) > 0:\n",
    "        logging.info(demojize(resp))"
   ]
  },
  {
   "cell_type": "code",
   "execution_count": null,
   "id": "3b5174d4",
   "metadata": {},
   "outputs": [],
   "source": []
  }
 ],
 "metadata": {
  "kernelspec": {
   "display_name": "Python 3 (ipykernel)",
   "language": "python",
   "name": "python3"
  },
  "language_info": {
   "codemirror_mode": {
    "name": "ipython",
    "version": 3
   },
   "file_extension": ".py",
   "mimetype": "text/x-python",
   "name": "python",
   "nbconvert_exporter": "python",
   "pygments_lexer": "ipython3",
   "version": "3.10.2"
  }
 },
 "nbformat": 4,
 "nbformat_minor": 5
}
