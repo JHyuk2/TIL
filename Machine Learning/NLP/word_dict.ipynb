{
 "cells": [
  {
   "cell_type": "code",
   "execution_count": 1,
   "metadata": {},
   "outputs": [],
   "source": [
    "def passpass(scores):\n",
    "    res = []\n",
    "    \n",
    "    for key, value in scores.items():\n",
    "        if value >= 60:\n",
    "            res.append(key)\n",
    "    \n",
    "    return sorted(res, reverse=True) \n",
    "    \n"
   ]
  },
  {
   "cell_type": "code",
   "execution_count": 2,
   "metadata": {},
   "outputs": [
    {
     "name": "stdout",
     "output_type": "stream",
     "text": [
      "['Ruby', 'Python']\n"
     ]
    }
   ],
   "source": [
    "print(passpass({'Java': 10, 'Ruby': 80, 'Python': 65}))"
   ]
  },
  {
   "cell_type": "code",
   "execution_count": 3,
   "metadata": {},
   "outputs": [],
   "source": [
    "def dict_invert(my_dict):\n",
    "    result = {}\n",
    "    \n",
    "    for key, val in my_dict.items():\n",
    "        result[val] = key\n",
    "        \n",
    "    return result"
   ]
  },
  {
   "cell_type": "code",
   "execution_count": 4,
   "metadata": {},
   "outputs": [
    {
     "name": "stdout",
     "output_type": "stream",
     "text": [
      "{10: 1, 20: 2, 30: 3}\n",
      "{10: 1, 20: 2, 30: 4}\n",
      "{True: 3}\n"
     ]
    }
   ],
   "source": [
    "print(dict_invert({1: 10, 2: 20, 3: 30}))\n",
    "print(dict_invert({1: 10, 2: 20, 3: 30, 4: 30}))\n",
    "print(dict_invert({1: True, 2: True, 3: True}))"
   ]
  },
  {
   "cell_type": "code",
   "execution_count": 35,
   "metadata": {},
   "outputs": [],
   "source": [
    "def dict_invert(my_dict):\n",
    "    result = {}\n",
    "    for key, val in my_dict.items():\n",
    "        tmp = []\n",
    "        if val in result.keys():\n",
    "            result[val].append(key)\n",
    "            print(result)\n",
    "        else:\n",
    "            tmp.append(key)\n",
    "            result[val] = tmp\n",
    "            print(result)\n",
    "    return result"
   ]
  },
  {
   "cell_type": "code",
   "execution_count": 37,
   "metadata": {},
   "outputs": [
    {
     "name": "stdout",
     "output_type": "stream",
     "text": [
      "{10: [1]}\n",
      "{10: [1], 20: [2]}\n",
      "{10: [1], 20: [2], 30: [3]}\n",
      "{10: [1], 20: [2], 30: [3, 4]}\n",
      "{10: [1], 20: [2], 30: [3, 4]}\n"
     ]
    }
   ],
   "source": [
    "# 해당 코드를 통해 올바른 결과가 나오는지 확인하세요.\n",
    "#print(dict_invert({1: 10, 2: 20, 3: 30}))\n",
    "print(dict_invert({1: 10, 2: 20, 3: 30, 4: 30}))\n",
    "#print(dict_invert({1: True, 2: True, 3: True}))"
   ]
  },
  {
   "cell_type": "code",
   "execution_count": 38,
   "metadata": {},
   "outputs": [],
   "source": [
    "def dict_invert(d):\n",
    "    v=list(d.values())\n",
    "    dic = dict()\n",
    "    \n",
    "    for vi in v:\n",
    "        dic[vi] =[]\n",
    "    print(dic)\n",
    "    print('-----')\n",
    "    \n",
    "    for key, value in d.items():\n",
    "        for key1 in dic.keys():\n",
    "            if key1 == value:\n",
    "                dic[key1].append(key)\n",
    "                print(dic)\n",
    "                \n",
    "    return dic"
   ]
  },
  {
   "cell_type": "code",
   "execution_count": 31,
   "metadata": {},
   "outputs": [
    {
     "name": "stdout",
     "output_type": "stream",
     "text": [
      "{10: [], 20: [], 30: []}\n",
      "-----\n",
      "{10: [1], 20: [], 30: []}\n",
      "{10: [1], 20: [2], 30: []}\n",
      "{10: [1], 20: [2], 30: [3]}\n",
      "{10: [1], 20: [2], 30: [3, 4]}\n",
      "{10: [1], 20: [2], 30: [3, 4]}\n"
     ]
    }
   ],
   "source": [
    "#print(dict_invert({1: 10, 2: 20, 3: 30}))\n",
    "print(dict_invert({1: 10, 2: 20, 3: 30, 4: 30}))\n",
    "# print(dict_invert({1: True, 2: True, 3: True}))"
   ]
  },
  {
   "cell_type": "code",
   "execution_count": null,
   "metadata": {},
   "outputs": [],
   "source": []
  },
  {
   "cell_type": "code",
   "execution_count": null,
   "metadata": {},
   "outputs": [],
   "source": []
  },
  {
   "cell_type": "code",
   "execution_count": 46,
   "metadata": {},
   "outputs": [],
   "source": [
    "def dict_invert(my_dict):\n",
    "    res = {}\n",
    "    val = list(my_dict.values())\n",
    "    \n",
    "    for v in val:\n",
    "        res[v] = []\n",
    "    \n",
    "    for key, value in my_dict.items():\n",
    "        for k, v in res.items():\n",
    "            if k == value:\n",
    "                res[k].append(key)\n",
    "            \n",
    "    \n",
    "    return res"
   ]
  },
  {
   "cell_type": "code",
   "execution_count": 47,
   "metadata": {},
   "outputs": [
    {
     "name": "stdout",
     "output_type": "stream",
     "text": [
      "{10: [1], 20: [2], 30: [3]}\n",
      "{10: [1], 20: [2], 30: [3, 4]}\n",
      "{True: [1, 2, 3]}\n"
     ]
    }
   ],
   "source": [
    "print(dict_invert({1: 10, 2: 20, 3: 30}))\n",
    "print(dict_invert({1: 10, 2: 20, 3: 30, 4: 30}))\n",
    "print(dict_invert({1: True, 2: True, 3: True}))"
   ]
  },
  {
   "cell_type": "code",
   "execution_count": null,
   "metadata": {},
   "outputs": [],
   "source": [
    "\n"
   ]
  },
  {
   "cell_type": "code",
   "execution_count": null,
   "metadata": {},
   "outputs": [],
   "source": []
  },
  {
   "cell_type": "code",
   "execution_count": null,
   "metadata": {},
   "outputs": [],
   "source": []
  },
  {
   "cell_type": "code",
   "execution_count": null,
   "metadata": {},
   "outputs": [],
   "source": []
  },
  {
   "cell_type": "code",
   "execution_count": null,
   "metadata": {},
   "outputs": [],
   "source": []
  },
  {
   "cell_type": "code",
   "execution_count": null,
   "metadata": {},
   "outputs": [],
   "source": []
  },
  {
   "cell_type": "code",
   "execution_count": null,
   "metadata": {},
   "outputs": [],
   "source": []
  },
  {
   "cell_type": "code",
   "execution_count": 57,
   "metadata": {},
   "outputs": [],
   "source": [
    "def check_score(real_answers, my_answers):\n",
    "    res = 0\n",
    "    \n",
    "    for i in range(len(real_answers)):\n",
    "        if real_answers[i] == my_answers[i]:\n",
    "            res += 4\n",
    "        elif my_answers[i] == '':\n",
    "            res += 0\n",
    "        elif real_answers[i] != my_answers[i]:\n",
    "            res -= 1\n",
    "\n",
    "    return res\n",
    "    "
   ]
  },
  {
   "cell_type": "code",
   "execution_count": 58,
   "metadata": {},
   "outputs": [
    {
     "name": "stdout",
     "output_type": "stream",
     "text": [
      "6\n",
      "7\n",
      "16\n",
      "-3\n"
     ]
    }
   ],
   "source": [
    "print(check_score(['a', 'a', 'b', 'b'], ['a', 'c', 'b', 'd']))\n",
    "print(check_score(['a', 'a', 'c', 'b'], ['a', 'a', 'b', '']))\n",
    "print(check_score(['a', 'a', 'b', 'c'], ['a', 'a', 'b', 'c']))\n",
    "print(check_score(['b', 'c', 'b', 'a'], ['', 'a', 'a', 'c']))"
   ]
  },
  {
   "cell_type": "code",
   "execution_count": null,
   "metadata": {},
   "outputs": [],
   "source": [
    "def check_score(real_answers, my_answers):\n",
    "    res = 0\n",
    "    \n",
    "    for i in range(len(real_answers)):\n",
    "        if real_answers[i] == my_answers[i]:\n",
    "            res += 4\n",
    "        else:\n",
    "            if my_answers[i] == '':\n",
    "                res += 0\n",
    "            else:\n",
    "                if real_answers[i] != my_answers[i]:\n",
    "                    res -= 1\n",
    "\n",
    "    return res\n",
    "    "
   ]
  },
  {
   "cell_type": "code",
   "execution_count": 64,
   "metadata": {},
   "outputs": [
    {
     "data": {
      "text/plain": [
       "'B'"
      ]
     },
     "execution_count": 64,
     "metadata": {},
     "output_type": "execute_result"
    }
   ],
   "source": [
    "chr(ord('b')-32)"
   ]
  },
  {
   "cell_type": "code",
   "execution_count": 65,
   "metadata": {},
   "outputs": [
    {
     "data": {
      "text/plain": [
       "'b'"
      ]
     },
     "execution_count": 65,
     "metadata": {},
     "output_type": "execute_result"
    }
   ],
   "source": [
    "chr(ord('B')+32)"
   ]
  },
  {
   "cell_type": "code",
   "execution_count": 67,
   "metadata": {},
   "outputs": [
    {
     "data": {
      "text/plain": [
       "'@'"
      ]
     },
     "execution_count": 67,
     "metadata": {},
     "output_type": "execute_result"
    }
   ],
   "source": [
    "chr(ord('@'))"
   ]
  },
  {
   "cell_type": "code",
   "execution_count": 68,
   "metadata": {},
   "outputs": [
    {
     "name": "stdout",
     "output_type": "stream",
     "text": [
      "True\n"
     ]
    }
   ],
   "source": [
    "w = 'B'\n",
    "print(65 <= ord(w) < 91)"
   ]
  },
  {
   "cell_type": "code",
   "execution_count": null,
   "metadata": {},
   "outputs": [],
   "source": []
  },
  {
   "cell_type": "code",
   "execution_count": null,
   "metadata": {},
   "outputs": [],
   "source": []
  },
  {
   "cell_type": "code",
   "execution_count": null,
   "metadata": {},
   "outputs": [],
   "source": []
  },
  {
   "cell_type": "code",
   "execution_count": null,
   "metadata": {},
   "outputs": [],
   "source": []
  },
  {
   "cell_type": "code",
   "execution_count": 94,
   "metadata": {},
   "outputs": [],
   "source": [
    "def my_join(target, word):\n",
    "    tmp = ''\n",
    "    \n",
    "    for i in range(len(target)-1):\n",
    "        tmp += (target[i]+word)\n",
    "    \n",
    "    return tmp + target[-1]"
   ]
  },
  {
   "cell_type": "code",
   "execution_count": 95,
   "metadata": {},
   "outputs": [
    {
     "name": "stdout",
     "output_type": "stream",
     "text": [
      "배...고...파\n",
      "123\n"
     ]
    }
   ],
   "source": [
    "print(my_join('배고파', '...'))\n",
    "print(my_join(['1', '2', '3'], ''))"
   ]
  },
  {
   "cell_type": "code",
   "execution_count": 82,
   "metadata": {},
   "outputs": [],
   "source": [
    "tmp =[1,2,3,4,5,6,7,8,9]"
   ]
  },
  {
   "cell_type": "code",
   "execution_count": 91,
   "metadata": {},
   "outputs": [
    {
     "data": {
      "text/plain": [
       "[1, 2, 3, 4, 5, 6, 7, 8, 9]"
      ]
     },
     "execution_count": 91,
     "metadata": {},
     "output_type": "execute_result"
    }
   ],
   "source": [
    "tmp[-99:]"
   ]
  },
  {
   "cell_type": "code",
   "execution_count": null,
   "metadata": {},
   "outputs": [],
   "source": []
  },
  {
   "cell_type": "code",
   "execution_count": null,
   "metadata": {},
   "outputs": [],
   "source": []
  }
 ],
 "metadata": {
  "kernelspec": {
   "display_name": "Python 3",
   "language": "python",
   "name": "python3"
  },
  "language_info": {
   "codemirror_mode": {
    "name": "ipython",
    "version": 3
   },
   "file_extension": ".py",
   "mimetype": "text/x-python",
   "name": "python",
   "nbconvert_exporter": "python",
   "pygments_lexer": "ipython3",
   "version": "3.7.3"
  }
 },
 "nbformat": 4,
 "nbformat_minor": 2
}
