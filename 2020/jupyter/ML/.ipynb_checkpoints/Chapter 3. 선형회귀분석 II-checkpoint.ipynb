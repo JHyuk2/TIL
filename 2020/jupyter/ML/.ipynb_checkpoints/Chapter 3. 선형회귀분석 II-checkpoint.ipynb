{
 "cells": [
  {
   "cell_type": "code",
   "execution_count": 2,
   "metadata": {},
   "outputs": [],
   "source": [
    "# import module\n",
    "from sklearn.linear_model import LinearRegression\n",
    "import pandas as pd\n",
    "import numpy as np\n",
    "import matplotlib.pyplot as plt"
   ]
  },
  {
   "cell_type": "code",
   "execution_count": 3,
   "metadata": {},
   "outputs": [
    {
     "name": "stdout",
     "output_type": "stream",
     "text": [
      "       MedInc  HouseAge  AveRooms  AveBedrms  Population  AveOccup  Latitude  \\\n",
      "0      8.3252      41.0  6.984127   1.023810       322.0  2.555556     37.88   \n",
      "1      8.3014      21.0  6.238137   0.971880      2401.0  2.109842     37.86   \n",
      "2      7.2574      52.0  8.288136   1.073446       496.0  2.802260     37.85   \n",
      "3      5.6431      52.0  5.817352   1.073059       558.0  2.547945     37.85   \n",
      "4      3.8462      52.0  6.281853   1.081081       565.0  2.181467     37.85   \n",
      "...       ...       ...       ...        ...         ...       ...       ...   \n",
      "20635  1.5603      25.0  5.045455   1.133333       845.0  2.560606     39.48   \n",
      "20636  2.5568      18.0  6.114035   1.315789       356.0  3.122807     39.49   \n",
      "20637  1.7000      17.0  5.205543   1.120092      1007.0  2.325635     39.43   \n",
      "20638  1.8672      18.0  5.329513   1.171920       741.0  2.123209     39.43   \n",
      "20639  2.3886      16.0  5.254717   1.162264      1387.0  2.616981     39.37   \n",
      "\n",
      "       Longitude  \n",
      "0        -122.23  \n",
      "1        -122.22  \n",
      "2        -122.24  \n",
      "3        -122.25  \n",
      "4        -122.25  \n",
      "...          ...  \n",
      "20635    -121.09  \n",
      "20636    -121.21  \n",
      "20637    -121.22  \n",
      "20638    -121.32  \n",
      "20639    -121.24  \n",
      "\n",
      "[20640 rows x 8 columns]\n"
     ]
    }
   ],
   "source": [
    "# 데이터 로드 - 캘리포니아 집값 예측\n",
    "\n",
    "from sklearn.datasets import fetch_california_housing\n",
    "\n",
    "california = fetch_california_housing()\n",
    "X = california.data\n",
    "DF = pd.DataFrame(X, columns=california.feature_names)\n",
    "Y = california.target\n",
    "print(DF)"
   ]
  },
  {
   "cell_type": "code",
   "execution_count": 5,
   "metadata": {
    "scrolled": true
   },
   "outputs": [
    {
     "name": "stdout",
     "output_type": "stream",
     "text": [
      "coef\n",
      "[ 4.36693293e-01  9.43577803e-03 -1.07322041e-01  6.45065694e-01\n",
      " -3.97638942e-06 -3.78654265e-03 -4.21314378e-01 -4.34513755e-01]\n",
      "intercept\n",
      "-36.941920207184445\n"
     ]
    }
   ],
   "source": [
    "# 회귀 모형 만들기\n",
    "reg = LinearRegression()\n",
    "\n",
    "Model = reg.fit(X, Y)\n",
    "print('coef')\n",
    "print(Model.coef_)\n",
    "print('intercept')\n",
    "print(Model.intercept_)"
   ]
  },
  {
   "cell_type": "markdown",
   "metadata": {},
   "source": [
    "# 정규화 - Ridge"
   ]
  },
  {
   "cell_type": "code",
   "execution_count": 6,
   "metadata": {},
   "outputs": [
    {
     "name": "stdout",
     "output_type": "stream",
     "text": [
      "coef\n",
      "[ 4.36683387e-01  9.43593980e-03 -1.07303086e-01  6.44965230e-01\n",
      " -3.97578456e-06 -3.78652421e-03 -4.21312878e-01 -4.34510858e-01]\n",
      "intercept\n",
      "-36.94158716336016\n"
     ]
    }
   ],
   "source": [
    "# 정규화 - Ridge(alpha=0.1)\n",
    "from sklearn.linear_model import Ridge\n",
    "rid = Ridge(alpha=0.1)\n",
    "Model = rid.fit(X, Y)\n",
    "print('coef')\n",
    "print(Model.coef_)\n",
    "print('intercept')\n",
    "print(Model.intercept_)"
   ]
  },
  {
   "cell_type": "code",
   "execution_count": 7,
   "metadata": {},
   "outputs": [
    {
     "name": "stdout",
     "output_type": "stream",
     "text": [
      "coef\n",
      "[ 4.36643796e-01  9.43658673e-03 -1.07227325e-01  6.44563694e-01\n",
      " -3.97336560e-06 -3.78645054e-03 -4.21306864e-01 -4.34499254e-01]\n",
      "intercept\n",
      "-36.9402539789278\n"
     ]
    }
   ],
   "source": [
    "# Ridge(alpha=0.5)\n",
    "rid = Ridge(alpha=0.5)\n",
    "Model = rid.fit(X, Y)\n",
    "print('coef')\n",
    "print(Model.coef_)\n",
    "print('intercept')\n",
    "print(Model.intercept_)"
   ]
  },
  {
   "cell_type": "code",
   "execution_count": 8,
   "metadata": {},
   "outputs": [
    {
     "name": "stdout",
     "output_type": "stream",
     "text": [
      "coef\n",
      "[ 4.36594382e-01  9.43739513e-03 -1.07132761e-01  6.44062485e-01\n",
      " -3.97034295e-06 -3.78635869e-03 -4.21299306e-01 -4.34484717e-01]\n",
      "intercept\n",
      "-36.93858523232844\n"
     ]
    }
   ],
   "source": [
    "# Ridge(alpha=1)\n",
    "rid = Ridge(alpha=1)\n",
    "Model = rid.fit(X, Y)\n",
    "print('coef')\n",
    "print(Model.coef_)\n",
    "print('intercept')\n",
    "print(Model.intercept_)"
   ]
  },
  {
   "cell_type": "code",
   "execution_count": 9,
   "metadata": {},
   "outputs": [
    {
     "name": "stdout",
     "output_type": "stream",
     "text": [
      "coef\n",
      "[ 4.36495800e-01  9.43901106e-03 -1.06944092e-01  6.43062429e-01\n",
      " -3.96430115e-06 -3.78617577e-03 -4.21284056e-01 -4.34455530e-01]\n",
      "intercept\n",
      "-36.93524021400867\n"
     ]
    }
   ],
   "source": [
    "# 정규화 - Ridge(alpha=2)\n",
    "rid = Ridge(alpha=2)\n",
    "Model = rid.fit(X, Y)\n",
    "print('coef')\n",
    "print(Model.coef_)\n",
    "print('intercept')\n",
    "print(Model.intercept_)"
   ]
  },
  {
   "cell_type": "markdown",
   "metadata": {},
   "source": [
    "# 정규화 - Lasso"
   ]
  },
  {
   "cell_type": "code",
   "execution_count": 17,
   "metadata": {},
   "outputs": [
    {
     "name": "stdout",
     "output_type": "stream",
     "text": [
      "coef\n",
      "[ 3.90582557e-01  1.50821512e-02 -0.00000000e+00  0.00000000e+00\n",
      "  1.75019561e-05 -3.32253135e-03 -1.14214430e-01 -9.92250689e-02]\n",
      "intercept\n",
      "-7.684589184737941\n"
     ]
    }
   ],
   "source": [
    "# 정규화 - Lasso(alpha=0.1)\n",
    "from sklearn.linear_model import Lasso\n",
    "las = Lasso(alpha=0.1)\n",
    "Model = las.fit(X, Y)\n",
    "print('coef')\n",
    "print(Model.coef_)\n",
    "print('intercept')\n",
    "print(Model.intercept_)"
   ]
  },
  {
   "cell_type": "code",
   "execution_count": 18,
   "metadata": {},
   "outputs": [
    {
     "name": "stdout",
     "output_type": "stream",
     "text": [
      "coef\n",
      "[ 2.88854841e-01  1.20314561e-02  0.00000000e+00 -0.00000000e+00\n",
      "  1.17610340e-05 -0.00000000e+00 -0.00000000e+00 -0.00000000e+00]\n",
      "intercept\n",
      "0.5891563081837057\n"
     ]
    }
   ],
   "source": [
    "# Lasso(alpha=0.5)\n",
    "las = Lasso(alpha=0.5)\n",
    "Model = las.fit(X, Y)\n",
    "print('coef')\n",
    "print(Model.coef_)\n",
    "print('intercept')\n",
    "print(Model.intercept_)"
   ]
  },
  {
   "cell_type": "code",
   "execution_count": 21,
   "metadata": {},
   "outputs": [
    {
     "name": "stdout",
     "output_type": "stream",
     "text": [
      "coef\n",
      "[ 1.45469232e-01  5.81496884e-03  0.00000000e+00 -0.00000000e+00\n",
      " -6.37292607e-06 -0.00000000e+00 -0.00000000e+00 -0.00000000e+00]\n",
      "intercept\n",
      "1.348041367341614\n"
     ]
    }
   ],
   "source": [
    "# Lasso(alpha=1)\n",
    "las = Lasso(alpha=1)\n",
    "Model = las.fit(X, Y)\n",
    "print('coef')\n",
    "print(Model.coef_)\n",
    "print('intercept')\n",
    "print(Model.intercept_)"
   ]
  },
  {
   "cell_type": "code",
   "execution_count": 22,
   "metadata": {},
   "outputs": [
    {
     "name": "stdout",
     "output_type": "stream",
     "text": [
      "coef\n",
      "[ 0.00000000e+00  0.00000000e+00  0.00000000e+00 -0.00000000e+00\n",
      " -2.35579621e-05 -0.00000000e+00 -0.00000000e+00 -0.00000000e+00]\n",
      "intercept\n",
      "2.102139496162415\n"
     ]
    }
   ],
   "source": [
    "# Lasso(alpha=2)\n",
    "las = Lasso(alpha=2)\n",
    "Model = las.fit(X, Y)\n",
    "print('coef')\n",
    "print(Model.coef_)\n",
    "print('intercept')\n",
    "print(Model.intercept_)"
   ]
  },
  {
   "cell_type": "code",
   "execution_count": null,
   "metadata": {},
   "outputs": [],
   "source": []
  }
 ],
 "metadata": {
  "kernelspec": {
   "display_name": "Python 3",
   "language": "python",
   "name": "python3"
  },
  "language_info": {
   "codemirror_mode": {
    "name": "ipython",
    "version": 3
   },
   "file_extension": ".py",
   "mimetype": "text/x-python",
   "name": "python",
   "nbconvert_exporter": "python",
   "pygments_lexer": "ipython3",
   "version": "3.7.6"
  }
 },
 "nbformat": 4,
 "nbformat_minor": 4
}
