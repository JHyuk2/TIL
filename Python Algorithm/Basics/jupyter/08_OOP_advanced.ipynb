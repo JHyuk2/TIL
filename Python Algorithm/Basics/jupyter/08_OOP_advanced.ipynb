{
 "cells": [
  {
   "cell_type": "markdown",
   "metadata": {},
   "source": [
    "# OOP advanced"
   ]
  },
  {
   "cell_type": "markdown",
   "metadata": {},
   "source": [
    "## 클래스 변수와 인스턴스 변수\n",
    "\n",
    "### 클래스 변수\n",
    "* 클래스의 속성\n",
    "* 모든 인스턴스가 공유\n",
    "* 클래스 선언 블록 최상단에 위치\n",
    "* `Class.class_variable` 과 같이 접근(할당)\n",
    "\n",
    "---\n",
    "\n",
    "**활용법**\n",
    "\n",
    "```python\n",
    "class TestClass:\n",
    "    \n",
    "    class_variable = '클래스 변수'\n",
    "    ...\n",
    "\n",
    "TestClass.class_variable  # '클래스 변수'\n",
    "TestClass.class_variable = 'class variable'\n",
    "TestClass.class_variable  # 'class variable'\n",
    "\n",
    "tc = TestClass()\n",
    "tc.class_variable  \n",
    "# 인스턴스 => 클래스 => 전역 순서로 이름공간을 탐색하기 때문에, 접근하게 됩니다.\n",
    "```"
   ]
  },
  {
   "cell_type": "markdown",
   "metadata": {},
   "source": [
    "### 인스턴스 변수\n",
    "* 인스턴스의 속성\n",
    "* 각 인스턴스들의 고유한 변수\n",
    "* 메서드 정의에서 `self.instance_variable` 로 접근(할당)\n",
    "* 인스턴스가 생성된 이후 `instance.instance_variable` 로 접근(할당)\n",
    "\n",
    "---\n",
    "\n",
    "**활용법**\n",
    "\n",
    "```python\n",
    "class TestClass:\n",
    "    \n",
    "    def __init__(self, arg1, arg2):\n",
    "        self.instance_var1 = arg1    # 인스턴스 변수\n",
    "        self.instance_var2 = arg2\n",
    "\n",
    "    def status(self):\n",
    "        return self.instance_var1, self.instance_var2   \n",
    "\n",
    "    \n",
    "tc = TestClass(1, 2)\n",
    "tc.instance_var1  # 1\n",
    "tc.instance_var2  # 2\n",
    "tc.status()  # (1, 2)\n",
    "```"
   ]
  },
  {
   "cell_type": "code",
   "execution_count": null,
   "metadata": {},
   "outputs": [],
   "source": [
    "# 확인해봅시다."
   ]
  },
  {
   "cell_type": "code",
   "execution_count": 1,
   "metadata": {},
   "outputs": [
    {
     "data": {
      "text/plain": [
       "(1, 2)"
      ]
     },
     "execution_count": 1,
     "metadata": {},
     "output_type": "execute_result"
    }
   ],
   "source": [
    "class TestClass:\n",
    "\n",
    "    def __init__(self, arg1, arg2):\n",
    "        self.instance_var1 = arg1    # 인스턴스 변수\n",
    "        self.instance_var2 = arg2\n",
    "\n",
    "    def status(self):\n",
    "        return self.instance_var1, self.instance_var2   \n",
    "\n",
    "\n",
    "tc = TestClass(1, 2)\n",
    "tc.instance_var1  # 1\n",
    "tc.instance_var2  # 2\n",
    "tc.status()  # (1, 2)"
   ]
  },
  {
   "cell_type": "code",
   "execution_count": null,
   "metadata": {},
   "outputs": [],
   "source": [
    "# 클래스 변수에 접근/재할당 해봅시다."
   ]
  },
  {
   "cell_type": "code",
   "execution_count": 4,
   "metadata": {},
   "outputs": [
    {
     "name": "stdout",
     "output_type": "stream",
     "text": [
      "클래스 변수\n",
      "class variable\n"
     ]
    },
    {
     "data": {
      "text/plain": [
       "'class variable'"
      ]
     },
     "execution_count": 4,
     "metadata": {},
     "output_type": "execute_result"
    }
   ],
   "source": [
    "class TestClass:\n",
    "\n",
    "    class_variable = '클래스 변수'\n",
    "    \n",
    "\n",
    "print(TestClass.class_variable)  # '클래스 변수'\n",
    "TestClass.class_variable = 'class variable'\n",
    "print(TestClass.class_variable)  # 'class variable'\n",
    "\n",
    "tc = TestClass()\n",
    "tc.class_variable  \n",
    "tc1 = TestClass()\n",
    "tc1.class_variable"
   ]
  },
  {
   "cell_type": "code",
   "execution_count": 11,
   "metadata": {},
   "outputs": [
    {
     "name": "stdout",
     "output_type": "stream",
     "text": [
      "부릉부릉\n",
      "멈춤\n",
      "뽀독뽀독\n",
      "뽀독뽀독\n"
     ]
    }
   ],
   "source": [
    "class Car:\n",
    "    def __init__(self, name):\n",
    "        self.name = name\n",
    "        \n",
    "    def drive(self):\n",
    "        print('부릉부릉')\n",
    "    \n",
    "    @classmethod\n",
    "    def park(cls):\n",
    "        print('멈춤')\n",
    "    \n",
    "    @staticmethod # 인자를 넣지 않는다.\n",
    "    def wash():\n",
    "        print('뽀독뽀독')\n",
    "        \n",
    "bumblebee = Car('bumblebee')\n",
    "bumblebee.drive()\n",
    "\n",
    "Car.park()\n",
    "Car.wash()\n",
    "bumblebee.wash()"
   ]
  },
  {
   "cell_type": "code",
   "execution_count": null,
   "metadata": {},
   "outputs": [],
   "source": [
    "# 인스턴스를 생성하고 확인해봅시다."
   ]
  },
  {
   "cell_type": "code",
   "execution_count": 12,
   "metadata": {},
   "outputs": [],
   "source": [
    "class MyClass:\n",
    "    def instance_mothod(self):\n",
    "        return self\n",
    "    \n",
    "    @classmethod\n",
    "    def class_method(Qlass):\n",
    "        return Qlass\n",
    "    \n",
    "    @staticmethod\n",
    "    def static_method():\n",
    "        return 'empty'"
   ]
  },
  {
   "cell_type": "code",
   "execution_count": null,
   "metadata": {},
   "outputs": [],
   "source": [
    "# 인스턴스 변수를 재할당 해봅시다."
   ]
  },
  {
   "cell_type": "code",
   "execution_count": null,
   "metadata": {},
   "outputs": [],
   "source": []
  },
  {
   "cell_type": "markdown",
   "metadata": {},
   "source": [
    "## 인스턴스 메서드 / 클래스 메서드 / 스태틱(정적) 메서드 \n",
    "\n",
    "### 인스턴스 메서드\n",
    "* 인스턴스가 사용할 메서드이다.\n",
    "* 메서드 정의 위에 어떠한 데코레이터도 없으면, 자동으로 인스턴스 메서드가 된다.\n",
    "* **첫 번째 인자로 `self` 를 받도록 정의합니다. 이 때, 자동으로 인스턴스 객체가 `self` 가 된다.**\n",
    "\n",
    "---\n",
    "\n",
    "**활용법**\n",
    "\n",
    "```python\n",
    "class MyClass:\n",
    "    def instance_method_name(self, arg1, arg2, ...):\n",
    "        ...\n",
    "\n",
    "my_instance = MyClass()\n",
    "# 인스턴스 생성 후 메서드를 호출하면 자동으로 첫 번째 인자로 인스턴스(my_instance)가 들어갑니다.\n",
    "my_instance.instance_method_name(.., ..)  \n",
    "```"
   ]
  },
  {
   "cell_type": "markdown",
   "metadata": {},
   "source": [
    "### 클래스 메서드\n",
    "* 클래스가 사용할 메서드다.(인스턴스들이 공유할 수도 있는 메서드)\n",
    "* 정의 위에 `@classmethod` 데코레이터를 사용한다.\n",
    "* **첫 번째 인자로 클래스(`cls`) 를 받도록 정의합니다. 이 때, 자동으로 클래스 객체가 `cls` 가 된다.**\n",
    "\n",
    "---\n",
    "\n",
    "**활용법**\n",
    "\n",
    "```python\n",
    "class MyClass:\n",
    "    @classmethod\n",
    "    def class_method_name(cls, arg1, arg2, ...):\n",
    "        ...\n",
    "\n",
    "# 자동으로 첫 번째 인자로 클래스(MyClass)가 들어갑니다.\n",
    "MyClass.class_method_name(.., ..)  \n",
    "```"
   ]
  },
  {
   "cell_type": "markdown",
   "metadata": {},
   "source": [
    "### 스태틱(정적) 메서드\n",
    "* 클래스가 사용할 메서드다.\n",
    "* 정의 위에 `@staticmethod` 데코레이터를 사용한다.\n",
    "* 묵시적인 첫 번째 인자를 받지 않습니다. 즉, 인자 정의는 자유롭게 한다. \n",
    "* **어떠한 인자도 자동으로 넘어가지 않는다.**\n",
    "\n",
    "---\n",
    "\n",
    "**활용법**\n",
    "\n",
    "```python\n",
    "class MyClass:\n",
    "    @staticmethod\n",
    "    def static_method_name(arg1, arg2, ...):\n",
    "        ...\n",
    "\n",
    "# 아무런 일도 자동으로 일어나지 않습니다.\n",
    "MyClass.static_method_name(.., ..)\n",
    "```"
   ]
  },
  {
   "cell_type": "code",
   "execution_count": 21,
   "metadata": {},
   "outputs": [],
   "source": [
    "class MyClass:\n",
    "    def instance_method(self):\n",
    "        return self\n",
    "    \n",
    "    @classmethod\n",
    "    def class_method(Qlass):\n",
    "        return Qlass\n",
    "    \n",
    "    @staticmethod\n",
    "    def static_method(arg):\n",
    "        return arg"
   ]
  },
  {
   "cell_type": "code",
   "execution_count": 22,
   "metadata": {},
   "outputs": [],
   "source": [
    "# 인스턴스 생성\n",
    "mc = MyClass()"
   ]
  },
  {
   "cell_type": "code",
   "execution_count": 24,
   "metadata": {},
   "outputs": [
    {
     "name": "stdout",
     "output_type": "stream",
     "text": [
      "False\n",
      "True\n",
      "으앙\n"
     ]
    }
   ],
   "source": [
    "# 인스턴스 입장에서 확인해 봅시다.\n",
    "print(mc.instance_method() == id(mc))\n",
    "print(mc.class_method() is MyClass)\n",
    "print(mc.static_method('으앙'))"
   ]
  },
  {
   "cell_type": "code",
   "execution_count": null,
   "metadata": {},
   "outputs": [],
   "source": [
    "# 인스턴스는 인스턴스 메서드에 접근 가능합니다.\n"
   ]
  },
  {
   "cell_type": "code",
   "execution_count": null,
   "metadata": {},
   "outputs": [],
   "source": [
    "# 인스턴스는 클래스 메서드에 접근 가능합니다.\n"
   ]
  },
  {
   "cell_type": "code",
   "execution_count": null,
   "metadata": {},
   "outputs": [],
   "source": [
    "# Error => 첫 번째 인자가 없다. 위와 같이 자동으로 첫 번째 인자로 들어가는 것이 없습니다.   \n"
   ]
  },
  {
   "cell_type": "code",
   "execution_count": null,
   "metadata": {},
   "outputs": [],
   "source": [
    "# 인스턴스는 스태틱 메서드에 접근 가능합니다.\n"
   ]
  },
  {
   "cell_type": "markdown",
   "metadata": {},
   "source": [
    "---"
   ]
  },
  {
   "cell_type": "markdown",
   "metadata": {},
   "source": [
    "### 정리 1 - 인스턴스와 메서드\n",
    "- 인스턴스는, 3가지 메서드 모두에 접근할 수 있다.\n",
    "- 하지만 인스턴스에서 클래스 메서드와 스태틱 메서드는 호출하지 않아야 한다. (가능하다 != 사용한다)\n",
    "- 인스턴스가 할 행동은 모두 인스턴스 메서드로 한정 지어서 설계한다."
   ]
  },
  {
   "cell_type": "code",
   "execution_count": null,
   "metadata": {},
   "outputs": [],
   "source": [
    "# 클래스 입장에서 확인해 봅시다."
   ]
  },
  {
   "cell_type": "code",
   "execution_count": null,
   "metadata": {},
   "outputs": [],
   "source": []
  },
  {
   "cell_type": "code",
   "execution_count": null,
   "metadata": {},
   "outputs": [],
   "source": []
  },
  {
   "cell_type": "code",
   "execution_count": null,
   "metadata": {},
   "outputs": [],
   "source": []
  },
  {
   "cell_type": "markdown",
   "metadata": {},
   "source": [
    "### 정리 2 - 클래스와 메서드\n",
    "- 클래스는, 3가지 메서드 모두에 접근할 수 있다.\n",
    "- 하지만 클래스에서 인스턴스 메서드는 호출하지 않다. (가능하다 != 사용한다)\n",
    "- 클래스가 할 행동은 다음 원칙에 따라 설계한다.\n",
    "    - 클래스 자체(`cls`)와 그 속성에 접근할 필요가 있다면 클래스 메서드로 정의한다.\n",
    "    - 클래스와 클래스 속성에 접근할 필요가 없다면 스태틱 메서드로 정의한다.  \n",
    "    \n",
    "---\n",
    "\n",
    "**활용법**\n",
    "\n",
    "```python\n",
    "\n",
    "@classmethod\n",
    "def methodname(cls):\n",
    "    codeblock\n",
    "```"
   ]
  },
  {
   "cell_type": "markdown",
   "metadata": {},
   "source": [
    "### 실습 1 - Doggy (같이) \n",
    "\n",
    "- Doggy 클래스의 속성에 접근하는 클래스 메서드를 생성해 봅시다.\n",
    "- 클래스 변수 `num_of_dogs`를 통해 개가 생길 때마다 증가 시키도록 하겠습니다.\n",
    "- 개들은 각자의 이름/나이를 갖고 있습니다.\n",
    "- `bark()` 메서드를 호출하면 짖을 수 있습니다."
   ]
  },
  {
   "cell_type": "markdown",
   "metadata": {},
   "source": [
    "#### 클래스 메서드\n",
    "\n",
    "```python\n",
    "\n",
    "@classmethod\n",
    "def methodname():\n",
    "    codeblock\n",
    "```"
   ]
  },
  {
   "cell_type": "code",
   "execution_count": null,
   "metadata": {},
   "outputs": [],
   "source": []
  },
  {
   "cell_type": "code",
   "execution_count": null,
   "metadata": {},
   "outputs": [],
   "source": [
    "# Doggy 3 마리를 만들어보고,"
   ]
  },
  {
   "cell_type": "code",
   "execution_count": null,
   "metadata": {},
   "outputs": [],
   "source": []
  },
  {
   "cell_type": "code",
   "execution_count": null,
   "metadata": {},
   "outputs": [],
   "source": [
    "# 함수를 호출해봅시다."
   ]
  },
  {
   "cell_type": "code",
   "execution_count": null,
   "metadata": {},
   "outputs": [],
   "source": []
  },
  {
   "cell_type": "code",
   "execution_count": null,
   "metadata": {},
   "outputs": [],
   "source": []
  },
  {
   "cell_type": "markdown",
   "metadata": {},
   "source": [
    "#### 스태틱 메서드\n",
    "\n",
    "```python\n",
    "\n",
    "@staticmethod\n",
    "def methodname():\n",
    "    codeblock\n",
    "```"
   ]
  },
  {
   "cell_type": "code",
   "execution_count": null,
   "metadata": {},
   "outputs": [],
   "source": [
    "# Doggy 에 어떠한 속성에도 접근하지 않는 스태틱 메서드를 만들어보겠습니다."
   ]
  },
  {
   "cell_type": "code",
   "execution_count": null,
   "metadata": {},
   "outputs": [],
   "source": [
    "class Doggy:\n",
    "    num_of_dogs = 0\n",
    "    birth_of_dogs = 0\n",
    "    \n",
    "    def __init__(self, name, breed):\n",
    "        self.name = name\n",
    "        self.breed = breed\n",
    "        Doggy.num_of_dogs += 1\n",
    "        Doggy.birth_of_dogs += 1\n",
    "        \n",
    "    def __del__(self):\n",
    "        Doggy.num_of_dogs -= 1\n",
    "    \n",
    "    def bark(self):\n",
    "        return '왈왈!'\n",
    "    \n",
    "    @classmethod\n",
    "    def get_status(cls):\n",
    "        return f'Birth: {cls.birth_of_dogs}, Current: {cls.num_of_dogs}'\n",
    "\n"
   ]
  },
  {
   "cell_type": "code",
   "execution_count": null,
   "metadata": {},
   "outputs": [],
   "source": [
    "# Doggy 3 마리를 만들어보고,"
   ]
  },
  {
   "cell_type": "code",
   "execution_count": null,
   "metadata": {},
   "outputs": [],
   "source": []
  },
  {
   "cell_type": "code",
   "execution_count": null,
   "metadata": {},
   "outputs": [],
   "source": [
    "# 함수를 호출해 봅시다."
   ]
  },
  {
   "cell_type": "code",
   "execution_count": null,
   "metadata": {},
   "outputs": [],
   "source": []
  },
  {
   "cell_type": "markdown",
   "metadata": {},
   "source": [
    "### 실습 2 - Calculator (정적/스태틱 메서드)\n",
    "\n",
    "> 계산기 class인 `Calculator`를 만들어 봅시다.\n",
    "\n",
    "* 다음과 같이 정적 메서드를 구성한다. \n",
    "* 모든 정적 메서드는, 두 수를 받아서 각각의 연산을 한 결과를 리턴한다.\n",
    "* `a` 연산자 `b` 의 순서로 연산한다. (`a - b`, `a / b`)\n",
    "    1. `add(a, b)` : 덧셈\n",
    "    2. `sub(a, b)` : 뺄셈 \n",
    "    3. `mul(a, b)` : 곱셈\n",
    "    4. `div(a, b)` : 나눗셈"
   ]
  },
  {
   "cell_type": "code",
   "execution_count": null,
   "metadata": {},
   "outputs": [],
   "source": [
    "# 아래에 코드를 작성하세요."
   ]
  },
  {
   "cell_type": "code",
   "execution_count": null,
   "metadata": {},
   "outputs": [],
   "source": []
  },
  {
   "cell_type": "code",
   "execution_count": null,
   "metadata": {},
   "outputs": [],
   "source": [
    "# 정적 메서드를 호출하세요."
   ]
  },
  {
   "cell_type": "code",
   "execution_count": null,
   "metadata": {},
   "outputs": [],
   "source": []
  },
  {
   "cell_type": "markdown",
   "metadata": {},
   "source": [
    "# 상속 \n",
    "\n",
    "## 기초\n",
    "\n",
    "클래스에서 가장 큰 특징은 '상속' 기능을 가지고 있다는 것입니다. \n",
    "\n",
    "부모 클래스의 모든 속성이 자식 클래스에게 상속 되므로 코드 재사용성이 높아집니다.\n",
    "\n",
    "---\n",
    "\n",
    "**활용법**\n",
    "\n",
    "\n",
    "```python\n",
    "class DerivedClassName(BaseClassName):\n",
    "    code block\n",
    "```"
   ]
  },
  {
   "cell_type": "code",
   "execution_count": null,
   "metadata": {},
   "outputs": [],
   "source": [
    "# 인사만 할 수 있는 간단한 Person 클래스를 만들어 봅시다."
   ]
  },
  {
   "cell_type": "code",
   "execution_count": 3,
   "metadata": {},
   "outputs": [],
   "source": [
    "class Person:\n",
    "    def __init__(self, name):\n",
    "        self.name = name\n",
    "        \n",
    "    def greeting(self):\n",
    "        print(f'안녕하세요, {self.name}입니다.')"
   ]
  },
  {
   "cell_type": "code",
   "execution_count": 5,
   "metadata": {},
   "outputs": [
    {
     "name": "stdout",
     "output_type": "stream",
     "text": [
      "안녕하세요, hyuk입니다.\n"
     ]
    }
   ],
   "source": [
    "hyuk = Person('hyuk')\n",
    "hyuk.greeting()"
   ]
  },
  {
   "cell_type": "code",
   "execution_count": null,
   "metadata": {},
   "outputs": [],
   "source": [
    "# Person 클래스를 상속받아 Student 클래스를 만들어봅시다."
   ]
  },
  {
   "cell_type": "code",
   "execution_count": 6,
   "metadata": {},
   "outputs": [],
   "source": [
    "class Student(Person):\n",
    "    pass"
   ]
  },
  {
   "cell_type": "code",
   "execution_count": 8,
   "metadata": {},
   "outputs": [
    {
     "name": "stdout",
     "output_type": "stream",
     "text": [
      "안녕하세요, jhyuk입니다.\n"
     ]
    }
   ],
   "source": [
    "jhyuk = Student('jhyuk')\n",
    "jhyuk.greeting()"
   ]
  },
  {
   "cell_type": "code",
   "execution_count": null,
   "metadata": {},
   "outputs": [],
   "source": [
    "# 학생을 만들어봅시다."
   ]
  },
  {
   "cell_type": "code",
   "execution_count": 9,
   "metadata": {},
   "outputs": [],
   "source": [
    "## 상속\n",
    "class Parent(Person):\n",
    "    def greeting(self):\n",
    "        print(f'안녕하세요 학부모 {self.name}입니다.')"
   ]
  },
  {
   "cell_type": "code",
   "execution_count": 12,
   "metadata": {},
   "outputs": [
    {
     "name": "stdout",
     "output_type": "stream",
     "text": [
      "안녕하세요 학부모 daddy입니다.\n"
     ]
    }
   ],
   "source": [
    "jhyuk_parent = Parent('daddy')\n",
    "jhyuk_parent.greeting()"
   ]
  },
  {
   "cell_type": "code",
   "execution_count": null,
   "metadata": {},
   "outputs": [],
   "source": []
  },
  {
   "cell_type": "code",
   "execution_count": null,
   "metadata": {},
   "outputs": [],
   "source": [
    "# 부모 클래스에 정의된 메서드를 호출 할 수 있습니다."
   ]
  },
  {
   "cell_type": "code",
   "execution_count": null,
   "metadata": {},
   "outputs": [],
   "source": []
  },
  {
   "cell_type": "markdown",
   "metadata": {},
   "source": [
    "> 이처럼 상속은 공통된 속성이나 메서드를 부모 클래스에 정의하고, 이를 상속받아 다양한 형태의 사람들을 만들 수 있습니다."
   ]
  },
  {
   "cell_type": "code",
   "execution_count": null,
   "metadata": {},
   "outputs": [],
   "source": [
    "# 진짜 상속관계인지 확인해봅시다. (클래스 상속 검사)"
   ]
  },
  {
   "cell_type": "code",
   "execution_count": 14,
   "metadata": {},
   "outputs": [
    {
     "data": {
      "text/plain": [
       "True"
      ]
     },
     "execution_count": 14,
     "metadata": {},
     "output_type": "execute_result"
    }
   ],
   "source": [
    "issubclass(Student, Person) # <-> superclass(상위, 부모)"
   ]
  },
  {
   "cell_type": "code",
   "execution_count": null,
   "metadata": {},
   "outputs": [],
   "source": []
  },
  {
   "cell_type": "code",
   "execution_count": null,
   "metadata": {},
   "outputs": [],
   "source": [
    "# issubclass 참고"
   ]
  },
  {
   "cell_type": "markdown",
   "metadata": {},
   "source": [
    "Student의 하위 클래스를 만드는 게 가능할까?"
   ]
  },
  {
   "cell_type": "markdown",
   "metadata": {},
   "source": [
    "## super()\n",
    "\n",
    "* 자식 클래스에 메서드를 추가로 구현할 수 있다.\n",
    "\n",
    "* 부모 클래스의 내용을 사용하고자 할 때, `super()`를 사용할 수 있다.\n",
    "\n",
    "---\n",
    "\n",
    "**활용법**\n",
    "\n",
    "\n",
    "```python\n",
    "class BabyClass(ParentClass):\n",
    "    def method(self, arg):\n",
    "        super().method(arg) \n",
    "```"
   ]
  },
  {
   "cell_type": "code",
   "execution_count": 20,
   "metadata": {},
   "outputs": [],
   "source": [
    "class Person:\n",
    "    def __init__(self, name, age, birthday, email):\n",
    "        self.name = name\n",
    "        self.age = age\n",
    "        self.birthday = birthday\n",
    "        self.email = email\n",
    "        \n",
    "    def greeting(self):\n",
    "        print(f'안녕하세요 {self.name}입니다.')\n",
    "        \n",
    "### 상속받아놓고 왜 굳이 이렇게 길게 늘어서 써야되는가?!\n",
    "\n",
    "class Student(Person):\n",
    "    def __init__(self, name, age, birthday, email, student_id, grade):\n",
    "        self.name = name\n",
    "        self.age = age\n",
    "        self.birthday = birthday\n",
    "        self.email = email\n",
    "        self.student_id = student_id\n",
    "        self.grade = grade"
   ]
  },
  {
   "cell_type": "code",
   "execution_count": 21,
   "metadata": {},
   "outputs": [],
   "source": [
    "class Person:\n",
    "    def __init__(self, name, age, birthday, email):\n",
    "        self.name = name\n",
    "        self.age = age\n",
    "        self.birthday = birthday\n",
    "        self.email = email\n",
    "        \n",
    "    def greeting(self):\n",
    "        print(f'안녕하세요 {self.name}입니다.')\n",
    "        \n",
    "### 상속받아놓고 왜 굳이 이렇게 길게 늘어서 써야되는가?!\n",
    "\n",
    "class Student(Person):\n",
    "    def __init__(self, name, age, birthday, email, student_id, grade):\n",
    "        # -> 부모클래스 상속 후 재정의\n",
    "        super().__init__(name, age, birthday, email, student_id, grade) # \n",
    "        self.student_id = student_id\n",
    "        self.grade = grade\n",
    "        \n",
    "#         self.name = name\n",
    "#         self.age = age\n",
    "#         self.birthday = birthday\n",
    "#         self.email = email\n",
    "#         self.student_id = student_id\n",
    "#         self.grade = grade\n",
    "    \n",
    "    \n",
    "     "
   ]
  },
  {
   "cell_type": "code",
   "execution_count": null,
   "metadata": {},
   "outputs": [],
   "source": [
    "class college_student(Student):\n",
    "    def __init__(self)"
   ]
  },
  {
   "cell_type": "markdown",
   "metadata": {},
   "source": [
    "위의 코드를 보면, 상속을 했음에도 불구하고 동일한 코드가 반복됩니다. \n",
    "\n",
    "이를 수정해봅시다."
   ]
  },
  {
   "cell_type": "code",
   "execution_count": 23,
   "metadata": {},
   "outputs": [],
   "source": [
    "Student = ('john', 35, '0125', 'hphk.john@gmail.com', '0000', '1')"
   ]
  },
  {
   "cell_type": "markdown",
   "metadata": {},
   "source": [
    "### 실습 1 - Rectangle & Square class\n",
    "\n",
    "아래의 조건에 만족하는 클래스 `Rentangle` 을 작성하세요.\n",
    "\n",
    "---\n",
    "\n",
    "> Rectangle 클래스는 아래와 같은 속성과 메서드를 갖는다.\n",
    "- 인스턴스 속성\n",
    "    - `length`: 가로 길이\n",
    "    - `width`: 세로 길이\n",
    ">\n",
    ">   \n",
    "- 인스턴스 메서드\n",
    "    - `area`: 직사각형의 넓이를 리턴한다.\n",
    "    - `perimeter`: 직사각형의 둘레의 길이를 리턴한다."
   ]
  },
  {
   "cell_type": "code",
   "execution_count": null,
   "metadata": {},
   "outputs": [],
   "source": [
    "# 아래에 코드를 작성하세요."
   ]
  },
  {
   "cell_type": "code",
   "execution_count": 24,
   "metadata": {},
   "outputs": [],
   "source": [
    "class Rectangle:\n",
    "    def __init__(self, length, width):\n",
    "        self.length = length\n",
    "        self.width = width\n",
    "\n",
    "# 상속\n",
    "class Square(Rectangle):\n",
    "    def area(self):\n",
    "        return self.length*self.width\n",
    "    \n",
    "    def perimeter(self):\n",
    "        return (self.length+self.width) * 2"
   ]
  },
  {
   "cell_type": "code",
   "execution_count": 25,
   "metadata": {},
   "outputs": [],
   "source": [
    "# Rectangle 클래스로부터 인스턴스를 하나 만들어 가로 길이 4, 세로 길이 8인 직사각형의 넓이와 둘레 길이를 구해주세요."
   ]
  },
  {
   "cell_type": "code",
   "execution_count": 28,
   "metadata": {
    "scrolled": true
   },
   "outputs": [
    {
     "name": "stdout",
     "output_type": "stream",
     "text": [
      "32\n",
      "24\n"
     ]
    }
   ],
   "source": [
    "rc = Rectangle(4, 8)\n",
    "print(rc.area())\n",
    "print(rc.perimeter())"
   ]
  },
  {
   "cell_type": "code",
   "execution_count": null,
   "metadata": {},
   "outputs": [],
   "source": [
    "# Rectangle 클래스를 상속받아 Sqaure 클래스를 만들어 주세요.\n",
    "# Square 클래스는 Rectangle 클래스에서 상속받은 속성 외 추가 속성을 가지고 있지 않습니다."
   ]
  },
  {
   "cell_type": "code",
   "execution_count": null,
   "metadata": {},
   "outputs": [],
   "source": [
    "class Rectangle:\n",
    "    def __init__(self, length, width):\n",
    "        self.length = length\n",
    "        self.width = width\n",
    "        \n",
    "    def area(self):\n",
    "        return self.length*self.width\n",
    "    \n",
    "    def perimeter(self):\n",
    "        return (self.length+self.width) * 2\n",
    "\n",
    "# 상속\n",
    "class Square(Rectangle):\n"
   ]
  },
  {
   "cell_type": "code",
   "execution_count": null,
   "metadata": {},
   "outputs": [],
   "source": [
    "# Square 클래스로부터 인스턴스를 하나 만들어 가로/세로 길이4가 4인 직사각형의 넓이와 둘레 길이를 구해주세요."
   ]
  },
  {
   "cell_type": "code",
   "execution_count": null,
   "metadata": {},
   "outputs": [],
   "source": []
  },
  {
   "cell_type": "markdown",
   "metadata": {},
   "source": [
    "## 메서드 오버라이딩\n",
    "> method overriding\n",
    "\n",
    "* 메서드를 재정의할 수도 있다.\n",
    "* 상속 받은 클래스에서 메서드를 덮어쓴다."
   ]
  },
  {
   "cell_type": "code",
   "execution_count": 29,
   "metadata": {},
   "outputs": [],
   "source": [
    "# Person 클래스의 상속을 받아 군인처럼 인사하는 Soldier 클래스를 만들어봅시다.\n",
    "\n",
    "class Person:\n",
    "    def __init__(self, name, age, number, email):\n",
    "        self.name = name\n",
    "        self.age = age\n",
    "        self.number = number\n",
    "        self.email = email \n",
    "        \n",
    "    def greeting(self):\n",
    "        print(f'안녕, {self.name}')"
   ]
  },
  {
   "cell_type": "code",
   "execution_count": 30,
   "metadata": {},
   "outputs": [],
   "source": [
    "class Soldier(Person):\n",
    "    def __init__(self, name, age, number, email, rank):\n",
    "        super().__init__(name, age, number, email)\n",
    "        self.rank = rank\n",
    "        \n",
    "    def greeting(self):\n",
    "        print(f'충성!, {self.rank} {self.name}입니다.')"
   ]
  },
  {
   "cell_type": "code",
   "execution_count": 31,
   "metadata": {},
   "outputs": [
    {
     "name": "stdout",
     "output_type": "stream",
     "text": [
      "충성!, 중위 ciao입니다.\n"
     ]
    }
   ],
   "source": [
    "sd_76 = Soldier('ciao', 50, '1225', 'ciao@hphk.kr', '중위')\n",
    "sd_76.greeting()\n"
   ]
  },
  {
   "cell_type": "markdown",
   "metadata": {},
   "source": [
    "## 상속관계에서의 이름공간\n",
    "\n",
    "* 기존의 `인스턴스 -> 클래스` 순으로 이름 공간을 탐색해나가는 과정에서 상속관계에 있으면 아래와 같이 확장된다.\n",
    "\n",
    "* 인스턴스 -> 클래스 -> 전역\n",
    "* 인스턴스 -> 자식 클래스 -> 부모 클래스 -> 전역"
   ]
  },
  {
   "cell_type": "markdown",
   "metadata": {},
   "source": [
    "## 실습 1\n",
    "\n",
    "> 사실 사람은 포유류입니다. \n",
    ">\n",
    "> Animal Class를 만들고, Person클래스가 상속받도록 구성해봅시다.\n",
    ">\n",
    "> 변수나, 메서드는 자유롭게 만들어봅시다."
   ]
  },
  {
   "cell_type": "code",
   "execution_count": null,
   "metadata": {},
   "outputs": [],
   "source": [
    "# 아래에 코드를 작성해주세요."
   ]
  },
  {
   "cell_type": "code",
   "execution_count": 34,
   "metadata": {},
   "outputs": [
    {
     "name": "stdout",
     "output_type": "stream",
     "text": [
      "쩝쩝\n",
      "냠냠\n"
     ]
    }
   ],
   "source": [
    "class Animal:\n",
    "    def __init__(self, alive =True):\n",
    "        self.alive = alive\n",
    "    \n",
    "    def eat(self):\n",
    "        if self.alive:\n",
    "            print('쩝쩝')\n",
    "            \n",
    "class Person(Animal):\n",
    "    def __init__(self, name, alive = True):\n",
    "        super().__init__(alive)\n",
    "        self.name = name\n",
    "    \n",
    "    def eat(self):\n",
    "        if self.alive:\n",
    "            print('냠냠')\n",
    "    \n",
    "a = Animal()\n",
    "p = Person('종혁')\n",
    "\n",
    "a.eat()\n",
    "p.eat()"
   ]
  },
  {
   "cell_type": "markdown",
   "metadata": {},
   "source": [
    "## 다중 상속\n",
    "두개 이상의 클래스를 상속받는 경우, 다중 상속이 됩니다."
   ]
  },
  {
   "cell_type": "code",
   "execution_count": null,
   "metadata": {},
   "outputs": [],
   "source": [
    "# Person 클래스를 정의합니다."
   ]
  },
  {
   "cell_type": "code",
   "execution_count": 37,
   "metadata": {},
   "outputs": [],
   "source": [
    "class Person:\n",
    "    def __init__(self, name):\n",
    "        self.name= name\n",
    "        \n",
    "    def breathe(self):\n",
    "        print('씁씁후후')"
   ]
  },
  {
   "cell_type": "code",
   "execution_count": 38,
   "metadata": {},
   "outputs": [],
   "source": [
    "# Mom 클래스를 정의합니다."
   ]
  },
  {
   "cell_type": "code",
   "execution_count": 60,
   "metadata": {},
   "outputs": [],
   "source": [
    "class Mom(Person):\n",
    "    gene = 'XX'\n",
    "    \n",
    "    def talk(self):\n",
    "        print('안녕')"
   ]
  },
  {
   "cell_type": "code",
   "execution_count": 61,
   "metadata": {},
   "outputs": [],
   "source": [
    "# Dad 클래스를 정의합니다."
   ]
  },
  {
   "cell_type": "code",
   "execution_count": 62,
   "metadata": {},
   "outputs": [],
   "source": [
    "class Dad(Person):\n",
    "    gene = 'XY'\n",
    "    \n",
    "    def sleep(self):\n",
    "        print('쿨쿨')"
   ]
  },
  {
   "cell_type": "code",
   "execution_count": 63,
   "metadata": {},
   "outputs": [],
   "source": [
    "# FirstChild 클래스를 정의합니다."
   ]
  },
  {
   "cell_type": "code",
   "execution_count": 64,
   "metadata": {},
   "outputs": [],
   "source": [
    "class FirstChild(Mom, Dad):\n",
    "    def sleep(self):\n",
    "        print('쌔근쌔근')\n",
    "    \n",
    "    def cry(self):\n",
    "        print('응애')"
   ]
  },
  {
   "cell_type": "code",
   "execution_count": 65,
   "metadata": {},
   "outputs": [],
   "source": [
    "# FirstChild 의 인스턴스 객체를 확인합니다."
   ]
  },
  {
   "cell_type": "code",
   "execution_count": 59,
   "metadata": {},
   "outputs": [
    {
     "name": "stdout",
     "output_type": "stream",
     "text": [
      "씁씁후후\n",
      "XX\n"
     ]
    }
   ],
   "source": [
    "baby = FirstChild('애기')\n",
    "baby.breathe()\n",
    "print(baby.gene)"
   ]
  },
  {
   "cell_type": "code",
   "execution_count": 84,
   "metadata": {},
   "outputs": [
    {
     "name": "stdout",
     "output_type": "stream",
     "text": [
      "<span class=\"blind\">네이버</span>\n",
      "<span class=\"blind\">금융</span>\n",
      "<span class=\"blind\">자동완성 펼치기</span>\n",
      "<h2 class=\"blind\">자동완성</h2>\n",
      "<span class=\"blind\">검색</span>\n",
      "<span class=\"blind\">국내증시</span>\n",
      "<span class=\"blind\">주요시세정보</span>\n",
      "<span class=\"blind\">코스피</span>\n",
      "<span class=\"blind\">코스닥</span>\n",
      "<span class=\"blind\">선물</span>\n",
      "<span class=\"blind\">코스피200</span>\n",
      "<span class=\"blind\">코넥스</span>\n",
      "<span class=\"blind\">시가총액</span>\n",
      "<span class=\"blind\">배당</span>\n",
      "<span class=\"blind\">업종</span>\n",
      "<span class=\"blind\">테마</span>\n",
      "<span class=\"blind\">그룹사</span>\n",
      "<span class=\"blind\">ETF</span>\n",
      "<span class=\"blind\">ETN</span>\n",
      "<span class=\"blind\">ª?Ω?</span>\n",
      "<span class=\"blind\">보합</span>\n",
      "<span class=\"blind\">하락</span>\n",
      "<span class=\"blind\">상한가</span>\n",
      "<span class=\"blind\">하한가</span>\n",
      "<span class=\"blind\">급등</span>\n",
      "<span class=\"blind\">급락</span>\n",
      "<span class=\"blind\">거래상위</span>\n",
      "<span class=\"blind\">급증</span>\n",
      "<span class=\"blind\">급감</span>\n",
      "<span class=\"blind\">투자자별매매동향</span>\n",
      "<span class=\"blind\">외국인매매</span>\n",
      "<span class=\"blind\">기관매매</span>\n",
      "<span class=\"blind\">프로그램매매동향</span>\n",
      "<span class=\"blind\">증시자금동향</span>\n",
      "<span class=\"blind\">신규상장</span>\n",
      "<span class=\"blind\">외국인보유</span>\n",
      "<span class=\"blind\">장외시세</span>\n",
      "<span class=\"blind\">IPO</span>\n",
      "<span class=\"blind\">투자자보호</span>\n",
      "<span class=\"blind\">관리종목</span>\n",
      "<span class=\"blind\">거래정지종목</span>\n",
      "<span class=\"blind\">시장경보종목</span>\n",
      "<span class=\"blind\">종목조건검색</span>\n",
      "<span class=\"blind\">골든크로스</span>\n",
      "<span class=\"blind\">갭상승</span>\n",
      "<span class=\"blind\">이격도과열</span>\n",
      "<span class=\"blind\">투심과열</span>\n",
      "<span class=\"blind\">상대강도과열</span>\n",
      "<span class=\"blind\">기업 전자공시</span>\n",
      "<span class=\"blind\">공매도 종합 현황</span>\n",
      "<span class=\"blind\">코스피</span>\n",
      "<span class=\"blind\">상승</span>\n",
      "<span class=\"blind\">코스닥</span>\n",
      "<span class=\"blind\">상승</span>\n",
      "<em class=\"blind\">코스피200</em>\n",
      "<span class=\"blind\">상승</span>\n",
      "<h3 class=\"blind\">코스피</h3>\n",
      "<span class=\"blind\">실시간</span>\n",
      "<span class=\"blind\">등락종목</span>\n",
      "<span class=\"blind\">프로그램 매매동향</span>\n",
      "<h3 class=\"blind\">코스닥</h3>\n",
      "<span class=\"blind\">실시간</span>\n",
      "<span class=\"blind\">등락종목</span>\n",
      "<span class=\"blind\">프로그램 매매동향</span>\n",
      "<h3 class=\"blind\">코스피 200</h3>\n",
      "<span class=\"blind\">실시간</span>\n",
      "<span class=\"blind\">베이시스</span>\n",
      "<span class=\"blind\">콘탱고</span>\n",
      "<span class=\"blind\">프로그램 매매동향</span>\n",
      "<span class=\"blind\">인기 검색 종목</span>\n",
      "<span class=\"blind\">상승</span>\n",
      "<span class=\"blind\">하락</span>\n",
      "<span class=\"blind\">상승</span>\n",
      "<span class=\"blind\">상승</span>\n",
      "<span class=\"blind\">하락</span>\n",
      "<span class=\"blind\">하락</span>\n",
      "<span class=\"blind\">상승</span>\n",
      "<span class=\"blind\">상승</span>\n",
      "<span class=\"blind\">하락</span>\n",
      "<span class=\"blind\">하락</span>\n",
      "<span class=\"blind\">주요 해외 지수</span>\n",
      "<span class=\"blind\">하락</span>\n",
      "<span class=\"blind\">상승</span>\n",
      "<span class=\"blind\">하락</span>\n",
      "<span class=\"blind\">하락</span>\n",
      "<span class=\"blind\">하락</span>\n",
      "<span class=\"blind\">상승</span>\n",
      "<span class=\"blind\">상한</span>\n",
      "<span class=\"blind\">상승</span>\n",
      "<span class=\"blind\">상승</span>\n",
      "<span class=\"blind\">상승</span>\n",
      "<span class=\"blind\">상승</span>\n",
      "<span class=\"blind\">상승</span>\n",
      "<span class=\"blind\">하락</span>\n",
      "<span class=\"blind\">하락</span>\n",
      "<span class=\"blind\">하락</span>\n",
      "<span class=\"blind\">하락</span>\n",
      "<span class=\"blind\">하락</span>\n",
      "<span class=\"blind\">하락</span>\n",
      "<span class=\"blind\">상승</span>\n",
      "<span class=\"blind\">하락</span>\n",
      "<span class=\"blind\">하락</span>\n",
      "<span class=\"blind\">하락</span>\n",
      "<span class=\"blind\">하락</span>\n",
      "<span class=\"blind\">하락</span>\n",
      "<span class=\"blind\">하락</span>\n",
      "<span class=\"blind\">하락</span>\n",
      "<span class=\"blind\">하락</span>\n",
      "<span class=\"blind\">하락</span>\n",
      "<span class=\"blind\">하락</span>\n",
      "<span class=\"blind\">하락</span>\n",
      "<span class=\"blind\">하락</span>\n",
      "<span class=\"blind\">상승</span>\n",
      "<span class=\"blind\">하락</span>\n",
      "<span class=\"blind\">상승</span>\n",
      "<span class=\"blind\">하락</span>\n",
      "<span class=\"blind\">상한</span>\n",
      "<span class=\"blind\">상한</span>\n",
      "<span class=\"blind\">상한</span>\n",
      "<span class=\"blind\">상한</span>\n",
      "<span class=\"blind\">상한</span>\n",
      "<span class=\"blind\">하한</span>\n",
      "<span class=\"blind\">하한</span>\n",
      "<span class=\"blind\">하한</span>\n",
      "<span class=\"blind\">상승</span>\n",
      "<span class=\"blind\">상승</span>\n",
      "<span class=\"blind\">상승</span>\n",
      "<span class=\"blind\">상승</span>\n",
      "<span class=\"blind\">상승</span>\n",
      "<span class=\"blind\">상승</span>\n",
      "<span class=\"blind\">상승</span>\n",
      "<span class=\"blind\">상승</span>\n",
      "<span class=\"blind\">상승</span>\n",
      "<span class=\"blind\">상승</span>\n",
      "<span class=\"blind\">하락</span>\n",
      "<span class=\"blind\">하락</span>\n",
      "<span class=\"blind\">하락</span>\n",
      "<span class=\"blind\">하락</span>\n",
      "<span class=\"blind\">하락</span>\n",
      "<span class=\"blind\">하락</span>\n",
      "<span class=\"blind\">하락</span>\n",
      "<span class=\"blind\">하락</span>\n",
      "<span class=\"blind\">하락</span>\n",
      "<span class=\"blind\">하락</span>\n",
      "<span class=\"blind\">상승</span>\n",
      "<span class=\"blind\">하락</span>\n",
      "<span class=\"blind\">하락</span>\n",
      "<span class=\"blind\">상승</span>\n",
      "<span class=\"blind\">상승</span>\n",
      "<span class=\"blind\">하락</span>\n",
      "<span class=\"blind\">상승</span>\n",
      "<span class=\"blind\">상승</span>\n",
      "<span class=\"blind\">하락</span>\n",
      "<span class=\"blind\">하락</span>\n",
      "<span class=\"blind\">하락</span>\n",
      "<span class=\"blind\">하락</span>\n",
      "<span class=\"blind\">하락</span>\n",
      "<span class=\"blind\">하락</span>\n",
      "<span class=\"blind\">하락</span>\n",
      "<span class=\"blind\">하락</span>\n",
      "<span class=\"blind\">상승</span>\n",
      "<span class=\"blind\">상승</span>\n",
      "<span class=\"blind\">상승</span>\n",
      "<span class=\"blind\">하락</span>\n",
      "<span class=\"blind\">하락</span>\n",
      "<span class=\"blind\">하락</span>\n",
      "<span class=\"blind\">하락</span>\n",
      "<span class=\"blind\">하락</span>\n",
      "<span class=\"blind\">하락</span>\n",
      "<span class=\"blind\">하락</span>\n",
      "<span class=\"blind\">하락</span>\n",
      "<span class=\"blind\">하락</span>\n",
      "<span class=\"blind\">하락</span>\n",
      "<span class=\"blind\">하락</span>\n"
     ]
    }
   ],
   "source": [
    "from bs4 import BeautifulSoup as bs\n",
    "import requests\n",
    "\n",
    "res = requests.get('https://finance.naver.com/sise/')\n",
    "for e in bs(res.text).select('.blind'):\n",
    "    print(e)\n",
    "# print(res.text)"
   ]
  },
  {
   "cell_type": "code",
   "execution_count": 80,
   "metadata": {},
   "outputs": [],
   "source": [
    "\n",
    "# cry 메서드를 실행합니다."
   ]
  },
  {
   "cell_type": "code",
   "execution_count": null,
   "metadata": {},
   "outputs": [],
   "source": []
  },
  {
   "cell_type": "code",
   "execution_count": null,
   "metadata": {},
   "outputs": [],
   "source": [
    "# swim 메서드를 실행합니다."
   ]
  },
  {
   "cell_type": "code",
   "execution_count": null,
   "metadata": {},
   "outputs": [],
   "source": []
  },
  {
   "cell_type": "code",
   "execution_count": null,
   "metadata": {},
   "outputs": [],
   "source": [
    "# walk 메서드를 실행합니다."
   ]
  },
  {
   "cell_type": "code",
   "execution_count": null,
   "metadata": {},
   "outputs": [],
   "source": []
  },
  {
   "cell_type": "code",
   "execution_count": null,
   "metadata": {},
   "outputs": [],
   "source": [
    "# gene 은 누구의 속성을 참조할까요?"
   ]
  },
  {
   "cell_type": "code",
   "execution_count": null,
   "metadata": {},
   "outputs": [],
   "source": []
  },
  {
   "cell_type": "code",
   "execution_count": null,
   "metadata": {},
   "outputs": [],
   "source": [
    "# 그렇다면 상속 순서를 바꿔봅시다."
   ]
  },
  {
   "cell_type": "code",
   "execution_count": null,
   "metadata": {},
   "outputs": [],
   "source": []
  },
  {
   "cell_type": "code",
   "execution_count": null,
   "metadata": {},
   "outputs": [],
   "source": [
    "# SecondChild 의 인스턴스 객체를 확인합니다."
   ]
  },
  {
   "cell_type": "code",
   "execution_count": null,
   "metadata": {},
   "outputs": [],
   "source": []
  },
  {
   "cell_type": "code",
   "execution_count": null,
   "metadata": {},
   "outputs": [],
   "source": [
    "# cry 메서드를 실행합니다."
   ]
  },
  {
   "cell_type": "code",
   "execution_count": null,
   "metadata": {},
   "outputs": [],
   "source": []
  },
  {
   "cell_type": "code",
   "execution_count": null,
   "metadata": {},
   "outputs": [],
   "source": [
    "# walk 메서드를 실행합니다."
   ]
  },
  {
   "cell_type": "code",
   "execution_count": null,
   "metadata": {},
   "outputs": [],
   "source": []
  },
  {
   "cell_type": "code",
   "execution_count": null,
   "metadata": {},
   "outputs": [],
   "source": [
    "# swim 메서드를 실행합니다."
   ]
  },
  {
   "cell_type": "code",
   "execution_count": null,
   "metadata": {},
   "outputs": [],
   "source": []
  },
  {
   "cell_type": "code",
   "execution_count": null,
   "metadata": {},
   "outputs": [],
   "source": [
    "# gene 은 누구의 속성을 참조할까요?"
   ]
  },
  {
   "cell_type": "code",
   "execution_count": 99,
   "metadata": {},
   "outputs": [],
   "source": [
    "class Person:\n",
    "    def __init__(self, name, age):\n",
    "        self.name= name\n",
    "        self.age = age\n",
    "        \n",
    "    def breathe(self):\n",
    "        print('씁씁후후')\n",
    "    \n",
    "    def __add__(self, second):\n",
    "        return self.age + second.age\n",
    "    \n",
    "    def __str__(self):\n",
    "        return f'<{self.name}>:<{self.age}>\n",
    "    \n",
    "    def __lt__(self, second):\n",
    "        return second.age < self.age\n",
    "    \n",
    "    def __eq__(self, second):\n",
    "        return self.age == second.age"
   ]
  },
  {
   "cell_type": "code",
   "execution_count": 104,
   "metadata": {},
   "outputs": [
    {
     "data": {
      "text/plain": [
       "True"
      ]
     },
     "execution_count": 104,
     "metadata": {},
     "output_type": "execute_result"
    }
   ],
   "source": [
    "student = Person('ashley', 25)\n",
    "teacher = Person('john', 35)\n",
    "student2 = Person('eric', 25)\n",
    "\n",
    "teacher > student\n",
    "student.__lt__(teacher)\n",
    "\n",
    "student2 == student"
   ]
  },
  {
   "cell_type": "code",
   "execution_count": 96,
   "metadata": {},
   "outputs": [
    {
     "data": {
      "text/plain": [
       "['__class__',\n",
       " '__delattr__',\n",
       " '__dict__',\n",
       " '__dir__',\n",
       " '__doc__',\n",
       " '__eq__',\n",
       " '__format__',\n",
       " '__ge__',\n",
       " '__getattribute__',\n",
       " '__gt__',\n",
       " '__hash__',\n",
       " '__init__',\n",
       " '__init_subclass__',\n",
       " '__le__',\n",
       " '__lt__',\n",
       " '__module__',\n",
       " '__ne__',\n",
       " '__new__',\n",
       " '__reduce__',\n",
       " '__reduce_ex__',\n",
       " '__repr__',\n",
       " '__setattr__',\n",
       " '__sizeof__',\n",
       " '__str__',\n",
       " '__subclasshook__',\n",
       " '__weakref__',\n",
       " 'age',\n",
       " 'breathe',\n",
       " 'name']"
      ]
     },
     "execution_count": 96,
     "metadata": {},
     "output_type": "execute_result"
    }
   ],
   "source": [
    "## 매직메소드 // 함수 생성하면 자동으로 만들어지는 메소드\n",
    "dir(student)"
   ]
  },
  {
   "cell_type": "markdown",
   "metadata": {},
   "source": [
    "- lt: less than\n",
    "- le: less than or equal\n",
    "- gt: greater than\n",
    "- ge: greater than or equal\n",
    "- eq: equal\n",
    "- str: string으로 출력\n",
    "- rept: represent"
   ]
  },
  {
   "cell_type": "code",
   "execution_count": 102,
   "metadata": {},
   "outputs": [
    {
     "data": {
      "text/plain": [
       "3"
      ]
     },
     "execution_count": 102,
     "metadata": {},
     "output_type": "execute_result"
    }
   ],
   "source": [
    "(1).__add__(2)"
   ]
  },
  {
   "cell_type": "code",
   "execution_count": null,
   "metadata": {},
   "outputs": [],
   "source": []
  }
 ],
 "metadata": {
  "kernelspec": {
   "display_name": "Python 3",
   "language": "python",
   "name": "python3"
  },
  "language_info": {
   "codemirror_mode": {
    "name": "ipython",
    "version": 3
   },
   "file_extension": ".py",
   "mimetype": "text/x-python",
   "name": "python",
   "nbconvert_exporter": "python",
   "pygments_lexer": "ipython3",
   "version": "3.7.3"
  },
  "latex_envs": {
   "LaTeX_envs_menu_present": true,
   "autoclose": false,
   "autocomplete": true,
   "bibliofile": "biblio.bib",
   "cite_by": "apalike",
   "current_citInitial": 1,
   "eqLabelWithNumbers": true,
   "eqNumInitial": 1,
   "hotkeys": {
    "equation": "Ctrl-E",
    "itemize": "Ctrl-I"
   },
   "labels_anchors": false,
   "latex_user_defs": false,
   "report_style_numbering": false,
   "user_envs_cfg": false
  },
  "toc": {
   "base_numbering": 1,
   "nav_menu": {},
   "number_sections": true,
   "sideBar": true,
   "skip_h1_title": false,
   "title_cell": "Table of Contents",
   "title_sidebar": "Contents",
   "toc_cell": false,
   "toc_position": {
    "height": "calc(100% - 180px)",
    "left": "10px",
    "top": "150px",
    "width": "361px"
   },
   "toc_section_display": true,
   "toc_window_display": false
  }
 },
 "nbformat": 4,
 "nbformat_minor": 2
}
