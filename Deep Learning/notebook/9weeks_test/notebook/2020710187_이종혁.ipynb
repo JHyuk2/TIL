{
 "cells": [
  {
   "cell_type": "markdown",
   "metadata": {},
   "source": [
    "### 문제와 실행결과를 바탕으로 프로그래밍 하시오, 영문과 한글 주석을 참고하시오(1문제 오답에 -3점씩 감점 참고)\n",
    "### 정답 파일을 학번_이름.ipynb 형식으로 저장하고 압축한 후 i-campus 9주차 테스트 과제에 제출바랍니다."
   ]
  },
  {
   "cell_type": "code",
   "execution_count": 1,
   "metadata": {},
   "outputs": [],
   "source": [
    "# import numpy and pandas\n",
    "import numpy as np\n",
    "import pandas as pd\n",
    "\n",
    "# used for dates\n",
    "import datetime\n",
    "from datetime import datetime, date\n",
    "\n",
    "# Set some pandas options controlling output format\n",
    "pd.set_option('display.notebook_repr_html', False)\n",
    "pd.set_option('display.max_columns', 10)\n",
    "pd.set_option('display.max_rows', 10)\n",
    "pd.set_option('display.width', 100)"
   ]
  },
  {
   "cell_type": "code",
   "execution_count": 5,
   "metadata": {},
   "outputs": [
    {
     "data": {
      "text/plain": [
       "           price  mileage condition left\n",
       "brand                                   \n",
       "toyota      6300   274117   10 days left\n",
       "ford        2899   190552    6 days left\n",
       "dodge       5350    39590    2 days left\n",
       "ford       25000    64146  22 hours left\n",
       "chevrolet  27700     6654  22 hours left\n",
       "...          ...      ...            ...\n",
       "nissan      7800    23609    1 days left\n",
       "nissan      9200    34553  21 hours left\n",
       "nissan      9200    31594  21 hours left\n",
       "nissan      9200    32557    2 days left\n",
       "nissan      9200    31371  21 hours left\n",
       "\n",
       "[2499 rows x 3 columns]"
      ]
     },
     "execution_count": 5,
     "metadata": {},
     "output_type": "execute_result"
    }
   ],
   "source": [
    "df = pd.read_csv('../data/USA_cars_datasets.csv', index_col='brand', usecols=[0, 2, 4, 10]) # 미국 자동차 셋(북미 지역의 자동자 경매)참조\n",
    "df"
   ]
  },
  {
   "cell_type": "code",
   "execution_count": 7,
   "metadata": {},
   "outputs": [
    {
     "data": {
      "text/plain": [
       "           price  mileage condition_left\n",
       "brand                                   \n",
       "toyota      6300   274117   10 days left\n",
       "ford        2899   190552    6 days left\n",
       "dodge       5350    39590    2 days left\n",
       "ford       25000    64146  22 hours left\n",
       "chevrolet  27700     6654  22 hours left\n",
       "...          ...      ...            ...\n",
       "nissan      7800    23609    1 days left\n",
       "nissan      9200    34553  21 hours left\n",
       "nissan      9200    31594  21 hours left\n",
       "nissan      9200    32557    2 days left\n",
       "nissan      9200    31371  21 hours left\n",
       "\n",
       "[2499 rows x 3 columns]"
      ]
     },
     "execution_count": 7,
     "metadata": {},
     "output_type": "execute_result"
    }
   ],
   "source": [
    "df.rename(columns={\n",
    "        'condition left': 'condition_left'},\n",
    "        inplace=True)\n",
    "df\n",
    "# 컬럼 이름 변경 'condition left'를 condition_left'로 변경 rename() "
   ]
  },
  {
   "cell_type": "code",
   "execution_count": 6,
   "metadata": {},
   "outputs": [
    {
     "data": {
      "text/plain": [
       "Index(['price', 'mileage', 'condition left'], dtype='object')"
      ]
     },
     "execution_count": 6,
     "metadata": {},
     "output_type": "execute_result"
    }
   ],
   "source": [
    "# we can see the column is changed  컬럼 속성 표시\n",
    "df.columns"
   ]
  },
  {
   "cell_type": "code",
   "execution_count": 8,
   "metadata": {},
   "outputs": [
    {
     "data": {
      "text/plain": [
       "Index(['price', 'mileage', 'condition_left'], dtype='object')"
      ]
     },
     "execution_count": 8,
     "metadata": {},
     "output_type": "execute_result"
    }
   ],
   "source": [
    "df.columns # 위 과정에서 이미 진행\n",
    "# we can see the column is changed   rename( ) inplace 속성 활용 컬럼 이름 변경 'condition left'를 'condition_left' 로 변경\n",
    "df.columns                # 컬럼 속성 표시"
   ]
  },
  {
   "cell_type": "code",
   "execution_count": 9,
   "metadata": {},
   "outputs": [
    {
     "data": {
      "text/plain": [
       "brand\n",
       "toyota        10 days left\n",
       "ford           6 days left\n",
       "dodge          2 days left\n",
       "ford         22 hours left\n",
       "chevrolet    22 hours left\n",
       "                 ...      \n",
       "nissan         1 days left\n",
       "nissan       21 hours left\n",
       "nissan       21 hours left\n",
       "nissan         2 days left\n",
       "nissan       21 hours left\n",
       "Name: condition_left, Length: 2499, dtype: object"
      ]
     },
     "execution_count": 9,
     "metadata": {},
     "output_type": "execute_result"
    }
   ],
   "source": [
    "df.condition_left                    # 데이터프레임 컬럼 속성"
   ]
  },
  {
   "cell_type": "code",
   "execution_count": 11,
   "metadata": {},
   "outputs": [
    {
     "data": {
      "text/plain": [
       "           price  mileage condition_left\n",
       "brand                                   \n",
       "toyota      6300   274100   10 days left\n",
       "ford        2899   190600    6 days left\n",
       "dodge       5350    39600    2 days left\n",
       "ford       25000    64100  22 hours left\n",
       "chevrolet  27700     6700  22 hours left\n",
       "...          ...      ...            ...\n",
       "nissan      7800    23600    1 days left\n",
       "nissan      9200    34600  21 hours left\n",
       "nissan      9200    31600  21 hours left\n",
       "nissan      9200    32600    2 days left\n",
       "nissan      9200    31400  21 hours left\n",
       "\n",
       "[2499 rows x 3 columns]"
      ]
     },
     "execution_count": 11,
     "metadata": {},
     "output_type": "execute_result"
    }
   ],
   "source": [
    "df_copy = df.copy()\n",
    "# add the new column\n",
    "df_copy['mileage'] = df.mileage.round(-2)               # mileage 십의자리까지 0처리 mileage 컬럼에 반영 round()\n",
    "df_copy"
   ]
  },
  {
   "cell_type": "code",
   "execution_count": 15,
   "metadata": {},
   "outputs": [
    {
     "data": {
      "text/plain": [
       "        price  mileagePrice  mileage condition_left\n",
       "brand                                              \n",
       "toyota   6300        274100   274117   10 days left\n",
       "ford     2899        190600   190552    6 days left"
      ]
     },
     "execution_count": 15,
     "metadata": {},
     "output_type": "execute_result"
    }
   ],
   "source": [
    "# make a copy so that we keep the original data unchanged\n",
    "copy = df.copy()\n",
    "# insert df.mileage as the \n",
    "# second column in the DataFrame\n",
    "copy.insert(1, 'mileagePrice', copy.mileage.round(-2))                                                 #insert() 인덱스'1' 위치,mileage를 십의자리까지 0 적용, mileagePrice 컬럼명으로 추가\n",
    "copy[:2]"
   ]
  },
  {
   "cell_type": "code",
   "execution_count": 16,
   "metadata": {},
   "outputs": [
    {
     "data": {
      "text/plain": [
       "        price  mileage condition_left color\n",
       "brand                                      \n",
       "toyota   6300   274117   10 days left  blue\n",
       "ford     2899   190552    6 days left  blue\n",
       "dodge    5350    39590    2 days left  blue"
      ]
     },
     "execution_count": 16,
     "metadata": {},
     "output_type": "execute_result"
    }
   ],
   "source": [
    "# copy of subset / slice\n",
    "ss = df[:3].copy()\n",
    "# add the new column initialized to 0\n",
    "ss.loc[:,'color'] = 'blue'                           # color 컬럼의 blue 값 추가 .loc 속성\n",
    "# take a look at the results\n",
    "ss"
   ]
  },
  {
   "cell_type": "code",
   "execution_count": 17,
   "metadata": {},
   "outputs": [
    {
     "data": {
      "text/plain": [
       "        price  mileage condition_left     color\n",
       "brand                                          \n",
       "toyota   6300   274117   10 days left  0.469112\n",
       "ford     2899   190552    6 days left -0.282863\n",
       "dodge    5350    39590    2 days left -1.509059"
      ]
     },
     "execution_count": 17,
     "metadata": {},
     "output_type": "execute_result"
    }
   ],
   "source": [
    "# copy of subset / slice\n",
    "ss = df[:3].copy()\n",
    "# add the new column initialized with random numbers\n",
    "np.random.seed(123456)\n",
    "ss.loc[:, 'color'] = pd.Series(np.random.normal(size=3), index=ss.index) # color 필드 추가 .loc속성\n",
    "# take a look at the results\n",
    "ss"
   ]
  },
  {
   "cell_type": "code",
   "execution_count": 20,
   "metadata": {},
   "outputs": [
    {
     "data": {
      "text/plain": [
       "           mileagePrice\n",
       "brand                  \n",
       "toyota           274100\n",
       "ford             190600\n",
       "dodge             39600\n",
       "ford              64100\n",
       "chevrolet          6700\n",
       "...                 ...\n",
       "nissan            23600\n",
       "nissan            34600\n",
       "nissan            31600\n",
       "nissan            32600\n",
       "nissan            31400\n",
       "\n",
       "[2499 rows x 1 columns]"
      ]
     },
     "execution_count": 20,
     "metadata": {},
     "output_type": "execute_result"
    }
   ],
   "source": [
    "# create a DataFrame with only the RoundedPrice column\n",
    "rounded_mileage = pd.DataFrame({'mileagePrice': df.mileage.round(-2)})  # round()함수 활용, mileage를 mileagePrice 컬럼명으로 백의 자리까지 0처리 값 적용\n",
    "rounded_mileage"
   ]
  },
  {
   "cell_type": "code",
   "execution_count": 22,
   "metadata": {},
   "outputs": [
    {
     "data": {
      "text/plain": [
       "           price  mileage condition_left\n",
       "brand                                   \n",
       "toyota      6300   274117   10 days left\n",
       "ford        2899   190552    6 days left\n",
       "dodge       5350    39590    2 days left\n",
       "ford       25000    64146  22 hours left\n",
       "chevrolet  27700     6654  22 hours left"
      ]
     },
     "execution_count": 22,
     "metadata": {},
     "output_type": "execute_result"
    }
   ],
   "source": [
    "# concatenate along the columns axis\n",
    "pd.concat([df, rounded_mileage], axis=1)  # concat(), df, rounded_mileage 열 단위 접합\n",
    "df[:5]"
   ]
  },
  {
   "cell_type": "code",
   "execution_count": 25,
   "metadata": {},
   "outputs": [
    {
     "data": {
      "text/plain": [
       "           price  mileage condition_left  mileagePrice\n",
       "brand                                                 \n",
       "toyota      6300   274117   10 days left        274100\n",
       "ford        2899   190552    6 days left        190600\n",
       "dodge       5350    39590    2 days left         39600\n",
       "ford       25000    64146  22 hours left         64100\n",
       "chevrolet  27700     6654  22 hours left          6700"
      ]
     },
     "execution_count": 25,
     "metadata": {},
     "output_type": "execute_result"
    }
   ],
   "source": [
    "# concatenate along the columns axis\n",
    "concatenated = pd.concat([df, rounded_mileage], axis=1)# concat(), df, rounded_mileage 열 단위 접합 객체 생성 \n",
    "concatenated[:5]"
   ]
  },
  {
   "cell_type": "code",
   "execution_count": 28,
   "metadata": {},
   "outputs": [
    {
     "data": {
      "text/plain": [
       "           mileagePrice\n",
       "brand                  \n",
       "toyota           274120\n",
       "ford             190550\n",
       "dodge             39590\n",
       "ford              64150\n",
       "chevrolet          6650"
      ]
     },
     "execution_count": 28,
     "metadata": {},
     "output_type": "execute_result"
    }
   ],
   "source": [
    "# create a DataFrame with only the RoundedPrice column\n",
    "rounded_mileage = pd.DataFrame({'mileagePrice': df.mileage.round(-1)})  # mileage 일의 자리 0처리, mileagePrice 반영, round() 사용\n",
    "rounded_mileage[:5]"
   ]
  },
  {
   "cell_type": "code",
   "execution_count": 31,
   "metadata": {},
   "outputs": [
    {
     "data": {
      "text/plain": [
       "           price  mileage condition_left  mileagePrice\n",
       "brand                                                 \n",
       "toyota      6300   274117   10 days left        274120\n",
       "ford        2899   190552    6 days left        190550\n",
       "dodge       5350    39590    2 days left         39590\n",
       "ford       25000    64146  22 hours left         64150\n",
       "chevrolet  27700     6654  22 hours left          6650"
      ]
     },
     "execution_count": 31,
     "metadata": {},
     "output_type": "execute_result"
    }
   ],
   "source": [
    "# this will result in duplicate Price columm\n",
    "dups = pd.concat([df, rounded_mileage], axis=1)               # concat(), 열단위 접합 df, rounded_mileage\n",
    "dups[:5]"
   ]
  },
  {
   "cell_type": "code",
   "execution_count": 32,
   "metadata": {},
   "outputs": [
    {
     "data": {
      "text/plain": [
       "2499"
      ]
     },
     "execution_count": 32,
     "metadata": {},
     "output_type": "execute_result"
    }
   ],
   "source": [
    "len(dups)                  # dups 데이터 길이"
   ]
  },
  {
   "cell_type": "code",
   "execution_count": 33,
   "metadata": {},
   "outputs": [
    {
     "data": {
      "text/plain": [
       "brand\n",
       "toyota       274120\n",
       "ford         190550\n",
       "dodge         39590\n",
       "ford          64150\n",
       "chevrolet      6650\n",
       "Name: mileagePrice, dtype: int64"
      ]
     },
     "execution_count": 33,
     "metadata": {},
     "output_type": "execute_result"
    }
   ],
   "source": [
    "# retrieves both Price columns\n",
    "dups.mileagePrice[:5]                       # mileagePrice 컬럼 속성으로 5행 표시"
   ]
  },
  {
   "cell_type": "code",
   "execution_count": 34,
   "metadata": {},
   "outputs": [
    {
     "data": {
      "text/plain": [
       "brand\n",
       "toyota       274120\n",
       "ford         190550\n",
       "dodge         39590\n",
       "ford          64150\n",
       "chevrolet      6650\n",
       "              ...  \n",
       "nissan        23610\n",
       "nissan        34550\n",
       "nissan        31590\n",
       "nissan        32560\n",
       "nissan        31370\n",
       "Name: mileagePrice, Length: 2499, dtype: int64"
      ]
     },
     "execution_count": 34,
     "metadata": {},
     "output_type": "execute_result"
    }
   ],
   "source": [
    "# retrieves both Price columns\n",
    "dups.iloc[:,3]                     #iloc 속성, 3열 모든행"
   ]
  },
  {
   "cell_type": "code",
   "execution_count": 36,
   "metadata": {},
   "outputs": [
    {
     "data": {
      "text/plain": [
       "brand\n",
       "toyota       274117\n",
       "ford         190552\n",
       "dodge         39590\n",
       "ford          64146\n",
       "chevrolet      6654\n",
       "              ...  \n",
       "nissan        23609\n",
       "nissan        34553\n",
       "nissan        31594\n",
       "nissan        32557\n",
       "nissan        31371\n",
       "Name: mileage, Length: 2499, dtype: int64"
      ]
     },
     "execution_count": 36,
     "metadata": {},
     "output_type": "execute_result"
    }
   ],
   "source": [
    "# retrieves both Price columns\n",
    "dups.loc[:,'mileage']                      # loc 속성, mileage컬럼 모든 행"
   ]
  },
  {
   "cell_type": "code",
   "execution_count": 38,
   "metadata": {},
   "outputs": [
    {
     "data": {
      "text/plain": [
       "          condition_left  mileage  price\n",
       "brand                                   \n",
       "toyota      10 days left   274117   6300\n",
       "ford         6 days left   190552   2899\n",
       "dodge        2 days left    39590   5350\n",
       "ford       22 hours left    64146  25000\n",
       "chevrolet  22 hours left     6654  27700"
      ]
     },
     "execution_count": 38,
     "metadata": {},
     "output_type": "execute_result"
    }
   ],
   "source": [
    "# return a new DataFrame with the columns reversed\n",
    "reversed_column_names = df.columns[::-1]                  # 컬럼 역순 정렬 객체 생성\n",
    "df[reversed_column_names].head()"
   ]
  },
  {
   "cell_type": "code",
   "execution_count": 39,
   "metadata": {},
   "outputs": [
    {
     "data": {
      "text/plain": [
       "Index(['condition_left', 'mileage', 'price'], dtype='object')"
      ]
     },
     "execution_count": 39,
     "metadata": {},
     "output_type": "execute_result"
    }
   ],
   "source": [
    "# return a new DataFrame with the columns reversed\n",
    "\n",
    "reversed_column_names    "
   ]
  },
  {
   "cell_type": "code",
   "execution_count": 45,
   "metadata": {},
   "outputs": [
    {
     "data": {
      "text/plain": [
       "           price  mileage condition_left\n",
       "brand                                   \n",
       "toyota      6300   274120   10 days left\n",
       "ford        2899   190550    6 days left\n",
       "dodge       5350    39590    2 days left\n",
       "ford       25000    64150  22 hours left\n",
       "chevrolet  27700     6650  22 hours left"
      ]
     },
     "execution_count": 45,
     "metadata": {},
     "output_type": "execute_result"
    }
   ],
   "source": [
    "# this occurs in-place so let's use a copy\n",
    "copy = df.copy()\n",
    "# replace the Price column data with rounded values\n",
    "copy.loc[:, 'mileage'] = rounded_mileage.mileagePrice  # loc 속성, rounded_mileage.mileagePrice를 'mileage' 반영\n",
    "copy.head()"
   ]
  },
  {
   "cell_type": "code",
   "execution_count": 47,
   "metadata": {},
   "outputs": [
    {
     "data": {
      "text/plain": [
       "        price condition_left\n",
       "brand                       \n",
       "toyota   6300   10 days left\n",
       "ford     2899    6 days left"
      ]
     },
     "execution_count": 47,
     "metadata": {},
     "output_type": "execute_result"
    }
   ],
   "source": [
    "# Example of using del to delete a column\n",
    "# make a copy as this is done in-place\n",
    "copy = df.copy()\n",
    "del copy['mileage']           # del 'mileage' 컬럼 삭제\n",
    "copy[:2]"
   ]
  },
  {
   "cell_type": "code",
   "execution_count": 48,
   "metadata": {},
   "outputs": [
    {
     "data": {
      "text/plain": [
       "        price condition_left\n",
       "brand                       \n",
       "toyota   6300   10 days left\n",
       "ford     2899    6 days left"
      ]
     },
     "execution_count": 48,
     "metadata": {},
     "output_type": "execute_result"
    }
   ],
   "source": [
    "# Example of using pop to remove a column from a DataFrame\n",
    "# first make a copy of a subset of the data frame as\n",
    "# pop works in place\n",
    "copy = df.copy()\n",
    "# this will remove mileage and return it as a series\n",
    "popped = copy.pop('mileage')      \n",
    "# mileage column removed in-place    # pop() 'mileage' 삭제\n",
    "copy[:2]"
   ]
  },
  {
   "cell_type": "code",
   "execution_count": 49,
   "metadata": {},
   "outputs": [
    {
     "data": {
      "text/plain": [
       "brand\n",
       "toyota       274117\n",
       "ford         190552\n",
       "dodge         39590\n",
       "ford          64146\n",
       "chevrolet      6654\n",
       "Name: mileage, dtype: int64"
      ]
     },
     "execution_count": 49,
     "metadata": {},
     "output_type": "execute_result"
    }
   ],
   "source": [
    "# and we have the Sector column as the result of the pop\n",
    "popped[:5]   # 즉석에서 Series를 삭제한 후 삭제한 Series를 반환 "
   ]
  },
  {
   "cell_type": "code",
   "execution_count": 50,
   "metadata": {},
   "outputs": [
    {
     "data": {
      "text/plain": [
       "           price condition_left\n",
       "brand                          \n",
       "toyota      6300   10 days left\n",
       "ford        2899    6 days left\n",
       "dodge       5350    2 days left\n",
       "ford       25000  22 hours left\n",
       "chevrolet  27700  22 hours left\n",
       "...          ...            ...\n",
       "nissan      7800    1 days left\n",
       "nissan      9200  21 hours left\n",
       "nissan      9200  21 hours left\n",
       "nissan      9200    2 days left\n",
       "nissan      9200  21 hours left\n",
       "\n",
       "[2499 rows x 2 columns]"
      ]
     },
     "execution_count": 50,
     "metadata": {},
     "output_type": "execute_result"
    }
   ],
   "source": [
    "# Example of using drop to remove a column \n",
    "# make a copy of a subset of the data frame\n",
    "copy = df.copy()\n",
    "# this will return a new DataFrame with 'mileage’ removed\n",
    "# the copy DataFrame is not modified\n",
    "afterdrop = copy.drop(['mileage'], axis=1)                   # drop() mileage 컬럼 삭제, 행, 컬럼이 삭제 새 데이터프레임 반환, 원래 DataFrame 변경되지 않음\n",
    "afterdrop"
   ]
  },
  {
   "cell_type": "code",
   "execution_count": 51,
   "metadata": {
    "scrolled": true
   },
   "outputs": [
    {
     "data": {
      "text/plain": [
       "           price  mileage condition_left\n",
       "brand                                   \n",
       "dodge       5350    39590    2 days left\n",
       "chevrolet  27700     6654  22 hours left\n",
       "dodge       5700    45561    2 days left\n",
       "chevrolet   7300   149050  22 hours left\n",
       "gmc        13350    23525  20 hours left\n",
       "...          ...      ...            ...\n",
       "nissan      7800    23609    1 days left\n",
       "nissan      9200    34553  21 hours left\n",
       "nissan      9200    31594  21 hours left\n",
       "nissan      9200    32557    2 days left\n",
       "nissan      9200    31371  21 hours left\n",
       "\n",
       "[1263 rows x 3 columns]"
      ]
     },
     "execution_count": 51,
     "metadata": {},
     "output_type": "execute_result"
    }
   ],
   "source": [
    "# Example of using drop to remove a column \n",
    "# make a copy of a subset of the data frame\n",
    "copy = df.copy()\n",
    "# this will return a new DataFrame with 'toyota','ford' removed\n",
    "# the copy DataFrame is not modified\n",
    "copy1 = copy.drop(['toyota', 'ford'], axis=0)                              # drop() 행 단위 toyota','ford' 삭제\n",
    "copy1"
   ]
  },
  {
   "cell_type": "code",
   "execution_count": 52,
   "metadata": {},
   "outputs": [
    {
     "data": {
      "text/plain": [
       "brand\n",
       "toyota        True\n",
       "ford         False\n",
       "dodge        False\n",
       "ford         False\n",
       "chevrolet    False\n",
       "             ...  \n",
       "nissan       False\n",
       "nissan       False\n",
       "nissan       False\n",
       "nissan       False\n",
       "nissan       False\n",
       "Name: mileage, Length: 2499, dtype: bool"
      ]
     },
     "execution_count": 52,
     "metadata": {},
     "output_type": "execute_result"
    }
   ],
   "source": [
    "# determine the rows where mileage > 250000\n",
    "selection = df.mileage >250000\n",
    "# report number of rows and number that will be dropped           mileage 컬럼 250000 보다 큰 객체 생성\n",
    "selection"
   ]
  },
  {
   "cell_type": "code",
   "execution_count": 53,
   "metadata": {},
   "outputs": [
    {
     "data": {
      "text/plain": [
       "(2499, 21)"
      ]
     },
     "execution_count": 53,
     "metadata": {},
     "output_type": "execute_result"
    }
   ],
   "source": [
    "# determine the rows where mileage > 250000\n",
    "# report number of rows and number that will be dropped         len(), sum()\n",
    "(len(selection), selection.sum())"
   ]
  },
  {
   "cell_type": "code",
   "execution_count": 54,
   "metadata": {},
   "outputs": [
    {
     "data": {
      "text/plain": [
       "           price  mileage condition_left\n",
       "brand                                   \n",
       "ford        2899   190552    6 days left\n",
       "dodge       5350    39590    2 days left\n",
       "ford       25000    64146  22 hours left\n",
       "chevrolet  27700     6654  22 hours left\n",
       "dodge       5700    45561    2 days left\n",
       "...          ...      ...            ...\n",
       "nissan      7800    23609    1 days left\n",
       "nissan      9200    34553  21 hours left\n",
       "nissan      9200    31594  21 hours left\n",
       "nissan      9200    32557    2 days left\n",
       "nissan      9200    31371  21 hours left\n",
       "\n",
       "[2478 rows x 3 columns]"
      ]
     },
     "execution_count": 54,
     "metadata": {},
     "output_type": "execute_result"
    }
   ],
   "source": [
    "# select the complement of the expression\n",
    "# note the use of the complement of the selection\n",
    "price_less_than_250000 = df[~selection]   # 250000보다 작거나 같은 객체 생성\n",
    "price_less_than_250000"
   ]
  },
  {
   "cell_type": "markdown",
   "metadata": {},
   "source": [
    "### 수고하셨습니다. "
   ]
  },
  {
   "cell_type": "markdown",
   "metadata": {},
   "source": [
    "# -> 오늘도 좋은강의 감사합니다~!"
   ]
  },
  {
   "cell_type": "code",
   "execution_count": null,
   "metadata": {},
   "outputs": [],
   "source": []
  }
 ],
 "metadata": {
  "anaconda-cloud": {},
  "kernelspec": {
   "display_name": "Python 3",
   "language": "python",
   "name": "python3"
  },
  "language_info": {
   "codemirror_mode": {
    "name": "ipython",
    "version": 3
   },
   "file_extension": ".py",
   "mimetype": "text/x-python",
   "name": "python",
   "nbconvert_exporter": "python",
   "pygments_lexer": "ipython3",
   "version": "3.7.6"
  }
 },
 "nbformat": 4,
 "nbformat_minor": 1
}
