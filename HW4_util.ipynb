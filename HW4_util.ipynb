{
 "cells": [
  {
   "cell_type": "code",
   "execution_count": 1,
   "metadata": {},
   "outputs": [],
   "source": [
    "# -*- coding: utf-8 -*-\n",
    "from PyKomoran import *\n",
    "import json\n",
    "import math\n",
    "\n",
    "komoran = Komoran('EXP')\n",
    "\n",
    "#   *** Do not modify the code ***\n",
    "class Preprocess_util:\n",
    "\tdef __init__(self):\n",
    "\t\tself.Train_Doc = dict()\n",
    "\t\tself.Total_Word = list()\n",
    "\t\treturn\n",
    "\n",
    "\tdef Calculate_TF_IDF_Normalization(self):\n",
    "\t\treturn\n",
    "\n",
    "\tdef Load_Data(self):\n",
    "\t\tprint(\"형태소 분석중 입니다. 조금만 기다려 주세요.\")\n",
    "\t\twith open('./SpeechAct_tr.json') as f:\n",
    "\t\t\ttrain_dataload = json.load(f)\n",
    "\n",
    "\t\tcount = 0\n",
    "\t\tfor i in range(len(train_dataload)):\n",
    "\t\t\tkey = str(i+1)\n",
    "\t\t\tfor j in range(len(train_dataload[key])):\n",
    "\t\t\t\t\tself.Train_Doc[count] = komoran.get_morphes_by_tags(train_dataload[key][j][1], tag_list=['NNG','NNP','VV'])\n",
    "\t\t\t\t\tself.Total_Word.extend(komoran.get_morphes_by_tags(train_dataload[key][j][1], tag_list=['NNG','NNP','VV']))\n",
    "\t\t\t\t\tcount += 1\n",
    "\n",
    "\t\tself.Total_Word = set(self.Total_Word)\n",
    "\t\tself.Total_Word = list(self.Total_Word)\n",
    "\n",
    "\tdef Output_Result(self, answer_data=None, std_name=None, std_id=None):\n",
    "\t\tpath = \"./\" + str(std_name) + \"_\" + str(std_id) + \"_hw4.txt\"\n",
    "\n",
    "\t\twith open(path, mode='w', encoding=\"UTF-8-sig\", errors=\"ignore\") as out:\n",
    "\t\t\tfor i in answer_data[0]:\n",
    "\t\t\t\tout.write(str(i)[:6]+' ')\n",
    "\t\t\t\t\n",
    "\t\tprint(\"\\nSave the result file : {0}\".format(path))\n",
    "\n",
    "\t\treturn\n",
    "#   *** Do not modify the code ***"
   ]
  },
  {
   "cell_type": "code",
   "execution_count": null,
   "metadata": {},
   "outputs": [],
   "source": []
  }
 ],
 "metadata": {
  "kernelspec": {
   "display_name": "Python 3.7.3 64-bit",
   "language": "python",
   "name": "python37364bit5992200e62d14719bcdeb39d5720987a"
  },
  "language_info": {
   "codemirror_mode": {
    "name": "ipython",
    "version": 3
   },
   "file_extension": ".py",
   "mimetype": "text/x-python",
   "name": "python",
   "nbconvert_exporter": "python",
   "pygments_lexer": "ipython3",
   "version": "3.7.3"
  }
 },
 "nbformat": 4,
 "nbformat_minor": 2
}
