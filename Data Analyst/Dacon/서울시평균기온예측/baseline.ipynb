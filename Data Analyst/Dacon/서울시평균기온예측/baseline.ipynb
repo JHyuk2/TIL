{
 "cells": [
  {
   "cell_type": "markdown",
   "metadata": {},
   "source": [
    "# 서울시 평균 기온 예측 Baseline"
   ]
  },
  {
   "cell_type": "markdown",
   "metadata": {},
   "source": [
    "## 진행 순서\n",
    "1. 라이브러리 및 데이터셋 불러오기\n",
    "2. 3. EDA\n",
    "   1. 데이터타입 확인\n",
    "   2. 인사이트 정리하기\n",
    "3. 전처리(Preprocessing)\n",
    "   1. train/validation split  \n",
    "   2. 결측값 처리\n",
    "   3. 인코딩(LabelEncoding or dummy) - object type에 대해서 원핫인코딩 or 라벨인코딩\n",
    "   4. 스케일링 - Standard Scaler / MinMaxScaler\n",
    "4. 모델링\n",
    "   1. 모델 선정 \n",
    "      1. 머신러닝 모델 - 랜덤포레스트, SVM, LightGBM, XGBoost, Catboost 등\n",
    "      2. 딥 러닝 모델 - LSTM, CNN-LSTM, GRU 등\n",
    "   2. 하이퍼파라미터 튜닝 (Optuna, gridsearch)\n",
    "   3. 교차검증(Cross Validation)\n",
    "   4. 앙상블 (Ensemble)\n",
    "5. 결과도출\n",
    "   1. pd.DataFrame.to_csv()"
   ]
  },
  {
   "cell_type": "code",
   "execution_count": 2,
   "metadata": {},
   "outputs": [],
   "source": [
    "# 라이브러리 및 데이터셋 불러오기\n",
    "import pandas as pd\n",
    "import numpy as np\n",
    "import matplotlib.pyplot as plt\n"
   ]
  },
  {
   "cell_type": "code",
   "execution_count": null,
   "metadata": {},
   "outputs": [],
   "source": []
  }
 ],
 "metadata": {
  "kernelspec": {
   "display_name": "Python 3",
   "language": "python",
   "name": "python3"
  },
  "language_info": {
   "codemirror_mode": {
    "name": "ipython",
    "version": 3
   },
   "file_extension": ".py",
   "mimetype": "text/x-python",
   "name": "python",
   "nbconvert_exporter": "python",
   "pygments_lexer": "ipython3",
   "version": "3.10.2"
  }
 },
 "nbformat": 4,
 "nbformat_minor": 2
}
