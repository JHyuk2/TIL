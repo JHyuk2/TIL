{
 "cells": [
  {
   "cell_type": "markdown",
   "metadata": {},
   "source": [
    "주피터를 실행하자마자 에러가 떴는데, pip를 새로 설치하면서 jupyter가 pip에 없어서 발생하는 에러였다!  \n",
    "당황하지 말고 pip install jupyter로 해결해주자."
   ]
  },
  {
   "cell_type": "code",
   "execution_count": 2,
   "metadata": {},
   "outputs": [],
   "source": [
    "# 진행률을 표기하기 위한 tqdm\n",
    "from tqdm import tqdm\n",
    "\n",
    "# DataFrame분석을 위한 pandas\n",
    "import pandas as pd\n",
    "\n",
    "# validation을 위한 전처리 train_test_split\n",
    "from sklearn.model_selection import train_test_split\n",
    "\n",
    "# 분석 및 평가를 위한 sklearn.metrics\n",
    "from sklearn.metrics import confusion_matrix, accuracy_score\n",
    "\n",
    "# 시각화 모듈을 위한 matplotlib\n",
    "import matplotlib.pyplot as plt\n",
    "import matplotlib.font_manager as fm\n",
    "import seaborn"
   ]
  },
  {
   "cell_type": "markdown",
   "metadata": {},
   "source": [
    "## 1. Read Datasets"
   ]
  },
  {
   "cell_type": "code",
   "execution_count": 3,
   "metadata": {},
   "outputs": [],
   "source": [
    "# 용량이 상당히 크다... (무려 2.7기가)\n",
    "train = pd.read_csv(\"./Datasets/train.csv\")\n",
    "test = pd.read_csv(\"./Datasets/test.csv\")"
   ]
  },
  {
   "cell_type": "code",
   "execution_count": null,
   "metadata": {},
   "outputs": [],
   "source": [
    "# 데이터 양이 애초에 너무 많아, 샘플로 깎아서 진행한다.\n",
    "train_df_sample = train.sample(2860539)"
   ]
  }
 ],
 "metadata": {
  "kernelspec": {
   "display_name": "Python 3",
   "language": "python",
   "name": "python3"
  },
  "language_info": {
   "codemirror_mode": {
    "name": "ipython",
    "version": 3
   },
   "file_extension": ".py",
   "mimetype": "text/x-python",
   "name": "python",
   "nbconvert_exporter": "python",
   "pygments_lexer": "ipython3",
   "version": "3.10.9"
  }
 },
 "nbformat": 4,
 "nbformat_minor": 2
}
