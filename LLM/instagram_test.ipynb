{
 "cells": [
  {
   "cell_type": "code",
   "execution_count": 1,
   "metadata": {},
   "outputs": [
    {
     "name": "stdout",
     "output_type": "stream",
     "text": [
      "Requirement already satisfied: python-dotenv in c:\\users\\dm705\\appdata\\local\\programs\\python\\python311\\lib\\site-packages (1.0.1)\n"
     ]
    }
   ],
   "source": [
    "!pip install python-dotenv"
   ]
  },
  {
   "cell_type": "code",
   "execution_count": 30,
   "metadata": {},
   "outputs": [],
   "source": [
    "import requests\n",
    "import json\n",
    "import os\n",
    "from pprint import pprint as pp\n",
    "from dotenv import load_dotenv\n",
    "\n",
    "# load .env\n",
    "load_dotenv()\n",
    "IG_ACCESS_TOKEN=os.environ.get(\"IG_ACCESS_TOKEN\")\n",
    "FB_APP_SECRET_CODE=os.environ.get('FB_APP_SECRET_CODE')\n",
    "IG_BUSINESS_ID=os.environ.get('IG_BUSINESS_ID')\n",
    "\n",
    "# FB_APP_ID=os.environ.get('FB_APP_ID')\n",
    "# FB_PAGE_ID=os.environ.get('FB_PAGE_ID')\n",
    "# IG_USER_ID=os.environ.get(\"IG_USER_ID\")\n",
    "# FB_USER_ID=os.environ.get('FB_USER_ID')\n",
    "\n",
    "def getCreds():\n",
    "    \"\"\"\n",
    "    Get creds required for use in the applications\n",
    "\n",
    "    Returns:\n",
    "        dictionary: credentials needed globally\n",
    "    \"\"\"\n",
    "\n",
    "    creds = dict() \n",
    "    creds['access_token'] = IG_ACCESS_TOKEN   # access token for use with all api calls\n",
    "    creds['client_secret'] = FB_APP_SECRET_CODE  # client secret from facebook app\n",
    "    creds['graph_domain'] = 'https://graph.facebook.com/' # base domain for api calls\n",
    "    creds['graph_version'] = 'v20.0' # version of api we are hitting\n",
    "    creds['instagram_account_id'] = IG_BUSINESS_ID # user business account id\n",
    "\n",
    "    # with domain and version\n",
    "    creds['endpoint_base'] = creds['graph_domain'] + creds['graph_version'] + '/' # base endpoint\n",
    "\n",
    "    # creds['client_id'] = FB_APP_ID  # client id from facebook app IG graph API Test\n",
    "    # creds['ig_username'] = 'analyst_hyuk' # ig usernaem\n",
    "    # creds['page_id'] = FB_PAGE_ID # users page id\n",
    "    # creds['debug'] = 'no' # debug mode for api call\n",
    "\n",
    "    return creds\n",
    "    "
   ]
  },
  {
   "cell_type": "code",
   "execution_count": 31,
   "metadata": {},
   "outputs": [],
   "source": [
    "def makeApiCall(url, endpointParams, type):\n",
    "    \"\"\" Request data from endpoint with params\n",
    "\n",
    "    Args:\n",
    "        url: string of the url endpoint to make request from\n",
    "        endpointParams: dictionary keyed by the names of the url parameters\n",
    "\n",
    "    Return:\n",
    "        object: data from the endpoint\n",
    "    \"\"\"\n",
    "\n",
    "    if type == 'POST': # post request\n",
    "        data = requests.post(url, endpointParams)\n",
    "    else: # get request\n",
    "        data = requests.get(url, endpointParams)\n",
    "    \n",
    "    data = requests.get(url, endpointParams) # make get request\n",
    "\n",
    "    response = dict()\n",
    "    response['url'] = url\n",
    "    response['endpoint_params'] = endpointParams\n",
    "    response['endpoint_params_pretty'] = json.dumps(endpointParams, indent=4) # pretty point for cli\n",
    "    response['json_data'] = json.loads(data.content) # response data from the api\n",
    "    response['json_data_pretty'] = json.dumps(response['json_data'], indent=4) # pretty point for cli\n",
    "\n",
    "    return response"
   ]
  },
  {
   "cell_type": "code",
   "execution_count": 14,
   "metadata": {},
   "outputs": [],
   "source": [
    "# def getInstagramAccount( params ) :\n",
    "# \tendpointParams = dict() # parameter to send to the endpoint\n",
    "# \tendpointParams['access_token'] = params['access_token'] # tell facebook we want to exchange token\n",
    "# \tendpointParams['fields'] = 'instagram_business_account' # access token\n",
    "# \turl = params['endpoint_base'] + params['page_id'] # endpoint url\n",
    "# \treturn makeApiCall( url, endpointParams, 'GET') # make the api call\n",
    "\n",
    "# params = getCreds() # get creds\n",
    "# params['debug'] = 'yes' # set debug\n",
    "# response = getInstagramAccount( params ) # get debug info"
   ]
  },
  {
   "cell_type": "code",
   "execution_count": 32,
   "metadata": {},
   "outputs": [],
   "source": [
    "def createMediaObject(params):\n",
    "    \"\"\"Create media object\n",
    "    \n",
    "    Args:\n",
    "        params: dictionary of params\n",
    "\n",
    "    API Endpoint:\n",
    "        https://graph.facebook.com/\n",
    "        v20.0/{ig-user-id}/media?image_url={image-url}&caption={caption}&access_token={access_token}\n",
    "        https://graph.facebook.com/\n",
    "        v20.0/{ig-user-id}/media?video_url={video-url}&caption={caption}&access_token={access_token}\n",
    "\n",
    "    Returns:\n",
    "        object: data from the endpoint\n",
    "    \"\"\"\n",
    "\n",
    "    url = params['endpoint_base'] + params['instagram_account_id'] + '/media'\n",
    "\n",
    "    endpointParams = dict()\n",
    "    endpointParams['caption'] = params['caption']\n",
    "    endpointParams['access_token'] = params['access_token']\n",
    "\n",
    "    if params['media_type'] == 'image':\n",
    "        endpointParams['image_url'] = params['media_url']\n",
    "    else:\n",
    "        endpointParams['video_url'] = params['media_url']\n",
    "        endpointParams['media_type'] = params['media_type']\n",
    "    \n",
    "    return makeApiCall(url, endpointParams, 'POST')"
   ]
  },
  {
   "cell_type": "code",
   "execution_count": 18,
   "metadata": {},
   "outputs": [],
   "source": [
    "\n",
    "# def getMediaObjectStatus(mediaObjectId, params):\n",
    "#     \"\"\" Check the status of a media object\n",
    "\n",
    "#     Args:\n",
    "#         mediaObjectId: id of the media obejct\n",
    "#         params: dictionary of params\n",
    "\n",
    "#     API Endpoint:\n",
    "#         https://graph.facebook.com/v20.0/{ig-container-id}?fileds=status_code\n",
    "    \n",
    "#     Returns:\n",
    "#         object: data from the endpoint\n",
    "#     \"\"\"\n",
    "\n",
    "#     url = params['endpoint_base'] + '/' + mediaObjectId\n",
    "\n",
    "#     endpointParams = dict()\n",
    "#     endpointParams['fields'] = 'status_code'\n",
    "#     endpointParams['access_token'] = params['access_token']\n",
    "\n",
    "#     return makeApiCall(url, endpointParams, 'GET')\n",
    "\n",
    "def publishMedia(mediaObjectId, params):\n",
    "    \"\"\" Publish content\n",
    "\n",
    "    Args:\n",
    "        mediaObjectId: id of the media obejct\n",
    "        params: dictionary of params\n",
    "\n",
    "    API Endpoint:\n",
    "        https://graph.facebook.com/\n",
    "        v20.0/{ig-user-id}/media_publish?creation_id={creation-id}&access_token={access_token}\n",
    "\n",
    "    Returns:\n",
    "        object: data from the endpoint\n",
    "    \"\"\"\n",
    "\n",
    "    url = params['endpoint_base'] + params['instagram_account_id'] + '/media_publish'\n",
    "\n",
    "    endpointParams = dict()\n",
    "    endpointParams['creation_id'] = mediaObjectId\n",
    "    endpointParams['access_token'] = params['access_token']\n",
    "\n",
    "    return makeApiCall(url, endpointParams, 'POST')"
   ]
  },
  {
   "cell_type": "code",
   "execution_count": 20,
   "metadata": {},
   "outputs": [],
   "source": [
    "# main.py\n",
    "\n",
    "params = getCreds()\n",
    "params['media_type'] = 'IMAGE'\n",
    "params['media_url'] = 'https://encrypted-tbn0.gstatic.com/images?q=tbn:ANd9GcSCK8YiyxtZvfmGrgrxdwbLG1z7o9VxdI5Nkw&s'\n",
    "params['caption'] = 'This image was posted through the Instagram Graph API with a python script'"
   ]
  },
  {
   "cell_type": "code",
   "execution_count": 22,
   "metadata": {},
   "outputs": [],
   "source": [
    "imageMediaObjectResponse = createMediaObject(params)"
   ]
  },
  {
   "cell_type": "code",
   "execution_count": 39,
   "metadata": {},
   "outputs": [
    {
     "data": {
      "text/plain": [
       "'18050730832696979'"
      ]
     },
     "execution_count": 39,
     "metadata": {},
     "output_type": "execute_result"
    }
   ],
   "source": [
    "imageMediaObjectResponse['json_data']['data'][0]['id']"
   ]
  },
  {
   "cell_type": "code",
   "execution_count": 37,
   "metadata": {},
   "outputs": [
    {
     "data": {
      "text/plain": [
       "{'url': 'https://graph.facebook.com/v20.0/17841467510518283/media_publish',\n",
       " 'endpoint_params': {'creation_id': '18159784981312615',\n",
       "  'access_token': 'EAAMZCN23AZACwBOzBDKl6e5jNLbebNYC8w9hJfDDobcZAhEmVjD9ZBEIEpf3WHH21mn2HzY3BC2vlRedBrEZA3CbZC1qZBFpZAoEbwjhmgJS14woDN1U6C3qXPbi2ZAsqIpZCtrqOc8v99ZBZBOSNsB1UUY3mmZB1UWbrY7yOWVIFkyAXijnlLCb38pciNzZCm'},\n",
       " 'endpoint_params_pretty': '{\\n    \"creation_id\": \"18159784981312615\",\\n    \"access_token\": \"EAAMZCN23AZACwBOzBDKl6e5jNLbebNYC8w9hJfDDobcZAhEmVjD9ZBEIEpf3WHH21mn2HzY3BC2vlRedBrEZA3CbZC1qZBFpZAoEbwjhmgJS14woDN1U6C3qXPbi2ZAsqIpZCtrqOc8v99ZBZBOSNsB1UUY3mmZB1UWbrY7yOWVIFkyAXijnlLCb38pciNzZCm\"\\n}',\n",
       " 'json_data': {'error': {'message': '(#100) Tried accessing nonexisting field (media_publish) on node type (IGUser)',\n",
       "   'type': 'OAuthException',\n",
       "   'code': 100,\n",
       "   'fbtrace_id': 'ApoVnbUd2kIe3_keCMT-auW'}},\n",
       " 'json_data_pretty': '{\\n    \"error\": {\\n        \"message\": \"(#100) Tried accessing nonexisting field (media_publish) on node type (IGUser)\",\\n        \"type\": \"OAuthException\",\\n        \"code\": 100,\\n        \"fbtrace_id\": \"ApoVnbUd2kIe3_keCMT-auW\"\\n    }\\n}'}"
      ]
     },
     "execution_count": 37,
     "metadata": {},
     "output_type": "execute_result"
    }
   ],
   "source": [
    "publishMedia(imageMediaObjectId, params)"
   ]
  },
  {
   "cell_type": "code",
   "execution_count": 116,
   "metadata": {},
   "outputs": [
    {
     "name": "stdout",
     "output_type": "stream",
     "text": [
      "{'id': '18071294863546010'}\n"
     ]
    }
   ],
   "source": [
    "media_data = {'image_url':params['media_url'], 'caption':params['caption'], 'access_token':params['access_token']}\n",
    "\n",
    "response = requests.post(params['endpoint_base']+params['instagram_account_id']+'/media', media_data)\n",
    "# print(params['endpoint_base']+params['instagram_account_id']+'/media')\n",
    "pp(response.json())"
   ]
  },
  {
   "cell_type": "code",
   "execution_count": 28,
   "metadata": {},
   "outputs": [
    {
     "name": "stdout",
     "output_type": "stream",
     "text": [
      "\n",
      "---- IMAGE MEDIA OBJECT ---- \n",
      "\n",
      "\tID:\n",
      "\t18159784981312615\n",
      "\n",
      "---- PUBLISHED IMAGE RESPONSE ---- \n",
      "\n",
      "\tResponse:\n",
      "{\n",
      "    \"error\": {\n",
      "        \"message\": \"(#100) Tried accessing nonexisting field (media_publish) on node type (IGUser)\",\n",
      "        \"type\": \"OAuthException\",\n",
      "        \"code\": 100,\n",
      "        \"fbtrace_id\": \"AACBVajZFgLb0jpJ-xnLDlK\"\n",
      "    }\n",
      "}\n"
     ]
    }
   ],
   "source": [
    "imageMediaObjectId = imageMediaObjectResponse['json_data']['data'][1]['id']\n",
    "imageMediaObjectStatusCode = 'IN_PROGRESS'\n",
    "\n",
    "print(\"\\n---- IMAGE MEDIA OBJECT ---- \\n\") # title\n",
    "print(\"\\tID:\") # label\n",
    "print(\"\\t\" + imageMediaObjectId) # id of the object\n",
    "\n",
    "publishImageResponse = publishMedia(imageMediaObjectId, params)\n",
    "\n",
    "print(\"\\n---- PUBLISHED IMAGE RESPONSE ---- \\n\")\n",
    "print(\"\\tResponse:\")\n",
    "print(publishImageResponse['json_data_pretty'])"
   ]
  },
  {
   "cell_type": "code",
   "execution_count": null,
   "metadata": {},
   "outputs": [
    {
     "name": "stdout",
     "output_type": "stream",
     "text": [
      "{'error': {'code': 100,\n",
      "           'fbtrace_id': 'AwYkJ1JvSOY_LqvlIUdUhW5',\n",
      "           'message': '(#100) Tried accessing nonexisting field (status_code) '\n",
      "                      'on node type (Business)',\n",
      "           'type': 'OAuthException'}}\n"
     ]
    }
   ],
   "source": [
    "import requests\n",
    "\n",
    "access_token = IG_ACCESS_TOKEN\n",
    "media_id = '465050113145549'\n",
    "\n",
    "# 게시물 상태 확인\n",
    "status_url = f'https://graph.facebook.com/v20.0/{media_id}'\n",
    "params = {\n",
    "    'fields': 'status_code',\n",
    "    'access_token': access_token\n",
    "}\n",
    "response = requests.get(status_url, params=params)\n",
    "status_response = response.json()\n",
    "\n",
    "pp(status_response)"
   ]
  },
  {
   "cell_type": "markdown",
   "metadata": {},
   "source": [
    "```python\n",
    "POST https://graph.facebook.com/{api-version}/{ig-user-id}/media\n",
    "    ?image_url={image-url}\n",
    "    &is_carousel_item={is-carousel-item}\n",
    "    &caption={caption}\n",
    "    &location_id={location-id}\n",
    "    &user_tags={user-tags}\n",
    "    &product_tags={product-tags}\n",
    "    &access_token={access-token}\n",
    "```"
   ]
  },
  {
   "cell_type": "code",
   "execution_count": 5,
   "metadata": {},
   "outputs": [
    {
     "ename": "NameError",
     "evalue": "name 'ig_business_id' is not defined",
     "output_type": "error",
     "traceback": [
      "\u001b[1;31m---------------------------------------------------------------------------\u001b[0m",
      "\u001b[1;31mNameError\u001b[0m                                 Traceback (most recent call last)",
      "Cell \u001b[1;32mIn[5], line 6\u001b[0m\n\u001b[0;32m      4\u001b[0m base_url \u001b[38;5;241m=\u001b[39m \u001b[38;5;124m'\u001b[39m\u001b[38;5;124mhttps://graph.facebook.com/\u001b[39m\u001b[38;5;124m'\u001b[39m \u001b[38;5;241m+\u001b[39m version\n\u001b[0;32m      5\u001b[0m fields \u001b[38;5;241m=\u001b[39m \u001b[38;5;124m'\u001b[39m\u001b[38;5;124mid, name\u001b[39m\u001b[38;5;124m'\u001b[39m\n\u001b[1;32m----> 6\u001b[0m media_url \u001b[38;5;241m=\u001b[39m \u001b[38;5;124mf\u001b[39m\u001b[38;5;124m'\u001b[39m\u001b[38;5;132;01m{\u001b[39;00mbase_url\u001b[38;5;132;01m}\u001b[39;00m\u001b[38;5;124m/\u001b[39m\u001b[38;5;132;01m{\u001b[39;00m\u001b[43mig_business_id\u001b[49m\u001b[38;5;132;01m}\u001b[39;00m\u001b[38;5;124m?fields=\u001b[39m\u001b[38;5;132;01m{\u001b[39;00mfields\u001b[38;5;132;01m}\u001b[39;00m\u001b[38;5;124m&access_token=\u001b[39m\u001b[38;5;132;01m{\u001b[39;00mIG_ACCESS_TOKEN\u001b[38;5;132;01m}\u001b[39;00m\u001b[38;5;124m'\u001b[39m\n\u001b[0;32m      8\u001b[0m response \u001b[38;5;241m=\u001b[39m requests\u001b[38;5;241m.\u001b[39mget(media_url)\n\u001b[0;32m      9\u001b[0m media_data \u001b[38;5;241m=\u001b[39m response\u001b[38;5;241m.\u001b[39mjson()\n",
      "\u001b[1;31mNameError\u001b[0m: name 'ig_business_id' is not defined"
     ]
    }
   ],
   "source": [
    "import requests\n",
    "import pprint\n",
    "version = 'v20.0'\n",
    "base_url = 'https://graph.facebook.com/' + version\n",
    "fields = 'id, name'\n",
    "media_url = f'{base_url}/{ig_business_id}?fields={fields}&access_token={IG_ACCESS_TOKEN}'\n",
    "\n",
    "response = requests.get(media_url)\n",
    "media_data = response.json()\n",
    "pp(media_data)\n"
   ]
  },
  {
   "cell_type": "code",
   "execution_count": 6,
   "metadata": {},
   "outputs": [
    {
     "name": "stdout",
     "output_type": "stream",
     "text": [
      "{'id': '18030268691473731'}\n"
     ]
    }
   ],
   "source": [
    "ig_business_id = \"17841467510518283\"\n",
    "# fb_id = \"352736951262950\"\n",
    "\n",
    "create_media_url = f'{base_url}/{ig_business_id}/media'\n",
    "media_data = {\n",
    "    \n",
    "    \"image_url\" : 'https://encrypted-tbn0.gstatic.com/images?q=tbn:ANd9GcSCK8YiyxtZvfmGrgrxdwbLG1z7o9VxdI5Nkw&s',\n",
    "    \"caption\" : \"good_test\",\n",
    "    \"access_token\": IG_ACCESS_TOKEN\n",
    "}\n",
    "\n",
    "response = requests.post(create_media_url, data=media_data)\n",
    "media_response= response.json()\n",
    "\n",
    "print(media_response)"
   ]
  },
  {
   "cell_type": "code",
   "execution_count": 7,
   "metadata": {},
   "outputs": [
    {
     "name": "stdout",
     "output_type": "stream",
     "text": [
      "{'id': '18050730832696979'}\n"
     ]
    }
   ],
   "source": [
    "# 미디어 객체 게시\n",
    "if 'id' in media_response:\n",
    "    media_id = media_response['id']\n",
    "\n",
    "    publish_media_url = f'https://graph.facebook.com/v20.0/{ig_business_id}/media_publish'\n",
    "    publish_data = {\n",
    "        'creation_id': media_id,\n",
    "        'access_token': IG_ACCESS_TOKEN\n",
    "    }\n",
    "\n",
    "    response = requests.post(publish_media_url, data=publish_data)\n",
    "    publish_response = response.json()\n",
    "    print(publish_response)\n",
    "else:\n",
    "    print(\"Failed to create media object:\", media_response)"
   ]
  },
  {
   "cell_type": "code",
   "execution_count": 40,
   "metadata": {},
   "outputs": [
    {
     "name": "stdout",
     "output_type": "stream",
     "text": [
      "{'error': {'message': 'The requested resource does not exist', 'type': 'OAuthException', 'code': 24, 'error_subcode': 2207008, 'is_transient': False, 'error_user_title': '미디어 빌더를 찾을 수 없습니다', 'error_user_msg': 'creation id = 18050730832696979인 미디어 빌더가 없거나 만료되었습니다.', 'fbtrace_id': 'ACzna0OGEXmgY_ddINaRVlS'}}\n"
     ]
    }
   ],
   "source": [
    "18159784981312615\n",
    "\n",
    "\n",
    "# 미디어 객체 게시\n",
    "\n",
    "media_id = '18050730832696979'\n",
    "\n",
    "publish_media_url = f'https://graph.facebook.com/v20.0/{ig_business_id}/media_publish'\n",
    "publish_data = {\n",
    "    'creation_id': media_id,\n",
    "    'access_token': IG_ACCESS_TOKEN\n",
    "}\n",
    "\n",
    "response = requests.post(publish_media_url, data=publish_data)\n",
    "publish_response = response.json()\n",
    "print(publish_response)\n"
   ]
  },
  {
   "cell_type": "code",
   "execution_count": 10,
   "metadata": {},
   "outputs": [
    {
     "name": "stdout",
     "output_type": "stream",
     "text": [
      "{'error': {'code': 200,\n",
      "           'fbtrace_id': 'A8WTxsA1bjfqlBSxVfOvJUy',\n",
      "           'message': '(#200) Provide valid app ID',\n",
      "           'type': 'OAuthException'}}\n"
     ]
    }
   ],
   "source": [
    "from pprint import pprint as pp\n",
    "\n",
    "response = requests.get(f'{base_url}/{ig_business_id}/content_publishing_limit')\n",
    "media_data = response.json()\n",
    "pp(media_data)"
   ]
  },
  {
   "cell_type": "code",
   "execution_count": 41,
   "metadata": {},
   "outputs": [
    {
     "name": "stdout",
     "output_type": "stream",
     "text": [
      "{'id': '465050113145549', 'name': 'analyst_hyuk'}\n"
     ]
    }
   ],
   "source": [
    "import requests\n",
    "\n",
    "base_url = 'https://graph.facebook.com/v20.0'\n",
    "media_url = f'{base_url}/465050113145549?fields=id,name&access_token={IG_ACCESS_TOKEN}'\n",
    "\n",
    "response = requests.get(media_url)\n",
    "media_data = response.json()\n",
    "\n",
    "print(media_data)"
   ]
  },
  {
   "cell_type": "code",
   "execution_count": null,
   "metadata": {},
   "outputs": [],
   "source": []
  }
 ],
 "metadata": {
  "kernelspec": {
   "display_name": "Python 3",
   "language": "python",
   "name": "python3"
  },
  "language_info": {
   "codemirror_mode": {
    "name": "ipython",
    "version": 3
   },
   "file_extension": ".py",
   "mimetype": "text/x-python",
   "name": "python",
   "nbconvert_exporter": "python",
   "pygments_lexer": "ipython3",
   "version": "3.11.7"
  }
 },
 "nbformat": 4,
 "nbformat_minor": 2
}
