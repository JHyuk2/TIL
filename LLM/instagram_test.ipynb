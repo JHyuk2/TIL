{
 "cells": [
  {
   "cell_type": "code",
   "execution_count": 1,
   "metadata": {},
   "outputs": [
    {
     "name": "stdout",
     "output_type": "stream",
     "text": [
      "Requirement already satisfied: python-dotenv in c:\\users\\dm705\\appdata\\local\\programs\\python\\python311\\lib\\site-packages (1.0.1)\n"
     ]
    }
   ],
   "source": [
    "!pip install python-dotenv"
   ]
  },
  {
   "cell_type": "code",
   "execution_count": 1,
   "metadata": {},
   "outputs": [],
   "source": [
    "\"\"\"\n",
    "requirements: pip install python-dotenv\n",
    "\"\"\"\n",
    "import os\n",
    "from dotenv import load_dotenv\n",
    "\n",
    "# load .env\n",
    "load_dotenv()\n",
    "IG_ACCESS_TOKEN=os.environ.get(\"IG_ACCESS_TOKEN\")\n",
    "IG_USER_ID=os.environ.get(\"IG_USER_ID\")\n"
   ]
  },
  {
   "cell_type": "markdown",
   "metadata": {},
   "source": [
    "```python\n",
    "POST https://graph.facebook.com/{api-version}/{ig-user-id}/media\n",
    "    ?image_url={image-url}\n",
    "    &is_carousel_item={is-carousel-item}\n",
    "    &caption={caption}\n",
    "    &location_id={location-id}\n",
    "    &user_tags={user-tags}\n",
    "    &product_tags={product-tags}\n",
    "    &access_token={access-token}\n",
    "```"
   ]
  },
  {
   "cell_type": "code",
   "execution_count": 2,
   "metadata": {},
   "outputs": [
    {
     "name": "stdout",
     "output_type": "stream",
     "text": [
      "{'id': '465050113145549', 'name': 'analyst_hyuk'}\n"
     ]
    }
   ],
   "source": [
    "import requests\n",
    "\n",
    "base_url = 'https://graph.facebook.com/v20.0'\n",
    "media_url = f'{base_url}/465050113145549?fields=id,name&access_token={IG_ACCESS_TOKEN}'\n",
    "\n",
    "response = requests.get(media_url)\n",
    "media_data = response.json()\n",
    "\n",
    "print(media_data)"
   ]
  },
  {
   "cell_type": "code",
   "execution_count": 4,
   "metadata": {},
   "outputs": [
    {
     "name": "stdout",
     "output_type": "stream",
     "text": [
      "{'id': '18443654491049086'}\n"
     ]
    }
   ],
   "source": [
    "ig_business_id = \"17841467510518283\"\n",
    "# fb_id = \"352736951262950\"\n",
    "\n",
    "create_media_url = f'{base_url}/{ig_business_id}/media'\n",
    "media_data = {\n",
    "    \"is_carousel_item\" : True,\n",
    "    \"image_url\" : \"./my_photo.jpg\",\n",
    "    \"caption\" : \"good_test\",\n",
    "    \"access_token\": IG_ACCESS_TOKEN\n",
    "}\n",
    "\n",
    "response = requests.post(create_media_url, data=media_data)\n",
    "media_response= response.json()\n",
    "\n",
    "print(media_response)"
   ]
  },
  {
   "cell_type": "code",
   "execution_count": 5,
   "metadata": {},
   "outputs": [
    {
     "name": "stdout",
     "output_type": "stream",
     "text": [
      "{'id': '17947876868714026'}\n"
     ]
    }
   ],
   "source": [
    "# 미디어 객체 게시\n",
    "if 'id' in media_response:\n",
    "    media_id = media_response['id']\n",
    "\n",
    "    publish_media_url = f'https://graph.facebook.com/v20.0/{ig_business_id}/media_publish'\n",
    "    publish_data = {\n",
    "        'creation_id': media_id,\n",
    "        'access_token': IG_ACCESS_TOKEN\n",
    "    }\n",
    "\n",
    "    response = requests.post(publish_media_url, data=publish_data)\n",
    "    publish_response = response.json()\n",
    "    print(publish_response)\n",
    "else:\n",
    "    print(\"Failed to create media object:\", media_response)"
   ]
  },
  {
   "cell_type": "code",
   "execution_count": 6,
   "metadata": {},
   "outputs": [
    {
     "name": "stdout",
     "output_type": "stream",
     "text": [
      "{'access_token': 'EAAMZCN23AZACwBOZCzEV5X8vQM8YiLCMXdEkccwDMUlIdi7rXEk1daCNOuiKNx4OjKkKdlnULl8sdKlcnVFaTvPCM6eQF8HhhwfaZBMQJwZADCbQA6oP7HJw2AkX0NVj4ARAHp2hA2VqVtpbb4NKHRhsKPozrWxJEwYfEqwFitnjPCg0awZC89wUAS',\n",
      " 'caption': 'good_test',\n",
      " 'image_url': 'https://avatars.githubusercontent.com/u/60080684?v=4',\n",
      " 'is_carousel_item': True}\n"
     ]
    }
   ],
   "source": [
    "from pprint import pprint as pp\n",
    "\n",
    "response = requests.get(f'{base_url}/{IG_USER_ID}/content_publishing_limit')\n",
    "meida_data = response.json()\n",
    "pp(media_data)"
   ]
  },
  {
   "cell_type": "code",
   "execution_count": null,
   "metadata": {},
   "outputs": [],
   "source": [
    "media_data = {\n",
    "    'image_url': image_url,\n",
    "    'caption': caption,\n",
    "    'access_token': access_token\n",
    "}\n",
    "\n",
    "response = requests.post(create_media_url, data=media_data)\n",
    "media_response = response.json()\n",
    "print(media_response)  # 생성된 미디어 객체 ID 확인"
   ]
  },
  {
   "cell_type": "code",
   "execution_count": 12,
   "metadata": {},
   "outputs": [
    {
     "name": "stdout",
     "output_type": "stream",
     "text": [
      "{'error': {'code': 100,\n",
      "           'error_subcode': 33,\n",
      "           'fbtrace_id': 'AKhqIe25fMPaw9bDZjvL-As',\n",
      "           'message': 'Unsupported post request. Object with ID '\n",
      "                      \"'3199279496869154' does not exist, cannot be loaded due \"\n",
      "                      'to missing permissions, or does not support this '\n",
      "                      'operation. Please read the Graph API documentation at '\n",
      "                      'https://developers.facebook.com/docs/graph-api',\n",
      "           'type': 'GraphMethodException'}}\n"
     ]
    }
   ],
   "source": [
    "from pprint import pprint as pp\n",
    "\n",
    "pp(media_response)"
   ]
  },
  {
   "cell_type": "code",
   "execution_count": null,
   "metadata": {},
   "outputs": [],
   "source": []
  }
 ],
 "metadata": {
  "kernelspec": {
   "display_name": "Python 3",
   "language": "python",
   "name": "python3"
  },
  "language_info": {
   "codemirror_mode": {
    "name": "ipython",
    "version": 3
   },
   "file_extension": ".py",
   "mimetype": "text/x-python",
   "name": "python",
   "nbconvert_exporter": "python",
   "pygments_lexer": "ipython3",
   "version": "3.11.7"
  }
 },
 "nbformat": 4,
 "nbformat_minor": 2
}
