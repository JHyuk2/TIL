{
 "cells": [
  {
   "cell_type": "markdown",
   "metadata": {},
   "source": [
    "# Instagram Graph API call"
   ]
  },
  {
   "cell_type": "markdown",
   "metadata": {},
   "source": [
    "## 1. Get Credential (w/ dotenv)\n",
    "\n",
    "To protect credential info, you have to make `.env` file  \n",
    "Here's some examples  \n",
    "\n",
    "1. INSTAGRAM_ACCESS_TOKEN\n",
    "2. INSTAGRAM_BUSINESS_ACCOUNT\n",
    "3. FB_APP_SECRET_CODE\n",
    "4. FB_CLIENT_ID"
   ]
  },
  {
   "cell_type": "code",
   "execution_count": 2,
   "metadata": {},
   "outputs": [],
   "source": [
    "import requests\n",
    "import json\n",
    "import os\n",
    "from pprint import pprint as pp\n",
    "from dotenv import load_dotenv\n",
    "\n",
    "# load .env\n",
    "load_dotenv()\n",
    "IG_ACCESS_TOKEN=os.environ.get(\"IG_ACCESS_TOKEN\")\n",
    "FB_APP_SECRET_CODE=os.environ.get('FB_APP_SECRET_CODE')\n",
    "IG_BUSINESS_ID=os.environ.get('IG_BUSINESS_ID')\n",
    "\n",
    "def get_creds():\n",
    "    creds = dict() \n",
    "    creds['access_token'] = IG_ACCESS_TOKEN   # access token for use with all api calls\n",
    "    creds['client_secret'] = FB_APP_SECRET_CODE  # client secret from facebook app\n",
    "    creds['graph_domain'] = 'https://graph.facebook.com/' # base domain for api calls\n",
    "    creds['graph_version'] = 'v20.0' # version of api we are hitting\n",
    "    creds['instagram_account_id'] = IG_BUSINESS_ID # user business account id\n",
    "    # with domain and version\n",
    "    creds['endpoint_base'] = creds['graph_domain'] + creds['graph_version'] + '/' # base endpoint\n",
    "    \n",
    "    return creds"
   ]
  },
  {
   "cell_type": "markdown",
   "metadata": {},
   "source": [
    "## 2. Create Media Object Response & Publish Media"
   ]
  },
  {
   "cell_type": "markdown",
   "metadata": {},
   "source": [
    "### (Optional) Create Carousel post\n",
    "\n",
    "Steps required for making a carousel post are.  \n",
    "1. Upload every images or video you want to make a carousel of one by one and store the container_id in a list.  \n",
    "2. Make another container that contains the container_id list.  \n",
    "3. Publish the container.  "
   ]
  },
  {
   "cell_type": "code",
   "execution_count": 3,
   "metadata": {},
   "outputs": [],
   "source": [
    "def create_media_object(params):\n",
    "    \"\"\"Create media `Container` object\n",
    "    \n",
    "    API Endpoint:\n",
    "    - For image\n",
    "        https://graph.facebook.com/\n",
    "        v20.0/{ig-user-id}/media?image_url={image-url}&caption={caption}&access_token={access_token}\n",
    "    \n",
    "    - For video\n",
    "        https://graph.facebook.com/\n",
    "        v20.0/{ig-user-id}/media?video_url={video-url}&caption={caption}&access_token={access_token}\n",
    "\n",
    "    Returns:\n",
    "        json object: data from the endpoint\n",
    "    \"\"\"\n",
    "\n",
    "    url = params['endpoint_base'] + params['instagram_account_id'] + '/media'\n",
    "\n",
    "    endpointParams = dict()\n",
    "    if params['media_type'] == 'image':\n",
    "        endpointParams['image_url'] = params['media_url']\n",
    "    else:\n",
    "        endpointParams['video_url'] = params['media_url']\n",
    "        endpointParams['media_type'] = params['media_type']\n",
    "    \n",
    "    endpointParams['caption'] = params['caption']\n",
    "    endpointParams['access_token'] = params['access_token']\n",
    "    \n",
    "    response = requests.post(url, data=endpointParams)\n",
    "\n",
    "    return response.json()\n",
    "\n",
    "\n",
    "\n",
    "def publish_media(media_object_id, params):\n",
    "    \"\"\" Publish `media Container` object\n",
    "    \n",
    "    API Endpoint:\n",
    "        https://graph.facebook.com/\n",
    "        v20.0/{ig-user-id}/media_publish?creation_id={creation-id}&access_token={access_token}\n",
    "\n",
    "    Returns:\n",
    "        json object: data from the endpoint\n",
    "    \"\"\"\n",
    "\n",
    "    url = params['endpoint_base'] + params['instagram_account_id'] + '/media_publish'\n",
    "\n",
    "    endpointParams = dict()\n",
    "    endpointParams['creation_id'] = media_object_id\n",
    "    endpointParams['access_token'] = params['access_token']\n",
    "\n",
    "    response = requests.post(url, data=endpointParams)\n",
    "    \n",
    "    print(\"\\n---- IMAGE MEDIA OBJECT PUBLISHED ---- \\n\")\n",
    "    print(\"\\tID:\") # label\n",
    "    print(\"\\t\" + response.json()['id']) # id of the object\n",
    "\n",
    "    return response.json()"
   ]
  },
  {
   "cell_type": "markdown",
   "metadata": {},
   "source": [
    "#### Example Post"
   ]
  },
  {
   "cell_type": "code",
   "execution_count": 43,
   "metadata": {},
   "outputs": [],
   "source": [
    "# main.py\n",
    "params=get_creds()\n",
    "params['media_type'] = 'image' # there are 2 types in input('image', 'video')\n",
    "\n",
    "params['media_url'] = 'https://encrypted-tbn0.gstatic.com/images?q=tbn:ANd9GcSCK8YiyxtZvfmGrgrxdwbLG1z7o9VxdI5Nkw&s' # sample image with high \n",
    "params['caption'] = 'This image was posted through the Instagram Graph API with a python script, test3 \\n  #안정성 테스트 #해치웠나?'\n",
    "\n",
    "image_media_object_response = create_media_object(params)\n",
    "image_media_id = image_media_object_response['id']\n",
    "published_media_id = publish_media(image_media_id, params)"
   ]
  },
  {
   "cell_type": "markdown",
   "metadata": {},
   "source": [
    "## 3. Get User Media & Comments"
   ]
  },
  {
   "cell_type": "code",
   "execution_count": 36,
   "metadata": {},
   "outputs": [],
   "source": [
    "def get_user_media(params):\n",
    "    \"\"\" Get User Media id\n",
    "    \n",
    "    API Endpoint:\n",
    "        https://graph.facebook.com/\n",
    "        v20.0/{ig-user-id}?fields=media&access_token={access_token}\n",
    "    \"\"\"\n",
    "    \n",
    "    url = params['endpoint_base'] + params['instagram_account_id'] + '/media'\n",
    "    \n",
    "    endpointParams = dict()\n",
    "    endpointParams['access_token'] = params['access_token']\n",
    "    endpointParams['fields'] = 'media'\n",
    "    response = requests.get(url, endpointParams)\n",
    "    return response.json()\n",
    "\n",
    "\n",
    "\n",
    "def get_media_comments(media_id, params):\n",
    "    \"\"\"  Get media comments\n",
    "\n",
    "    API Endpoint:\n",
    "        https://graph.facebook.com/v20.0/{media_id}/comments?access_token={access_token}\n",
    "    \"\"\"\n",
    "    url = params['endpoint_base'] + media_id + '/comments?'\n",
    "    endpointParams = dict()\n",
    "    endpointParams['access_token'] = params['access_token']\n",
    "\n",
    "    response = requests.get(url, endpointParams)\n",
    "    return response.json()"
   ]
  },
  {
   "cell_type": "markdown",
   "metadata": {},
   "source": [
    "### "
   ]
  },
  {
   "cell_type": "code",
   "execution_count": 37,
   "metadata": {},
   "outputs": [
    {
     "name": "stdout",
     "output_type": "stream",
     "text": [
      "[{'data': [{'id': '18011557040594782',\n",
      "            'text': '댓글을 작성해봅시다',\n",
      "            'timestamp': '2024-07-17T19:17:41+0000'}]},\n",
      " {'data': []},\n",
      " {'data': []},\n",
      " {'data': []}]\n"
     ]
    }
   ],
   "source": [
    "from pprint import pprint as pp\n",
    "\n",
    "my_media = get_user_media(params)\n",
    "comments_data = []\n",
    "\n",
    "for data in my_media['data']:\n",
    "    temp_media_id = data['id']\n",
    "    comments_data.append(get_media_comments(temp_media_id, params))\n",
    "\n",
    "pp(comments_data)"
   ]
  },
  {
   "cell_type": "code",
   "execution_count": 44,
   "metadata": {},
   "outputs": [
    {
     "data": {
      "text/plain": [
       "'\\nhttps://medium.com/@maanideeprkummiitha/a-beginners-guide-to-interacting-with-instagram-using-python-and-the-graph-api-8fe7956fcc   # create api function tutorial\\n\\nhttps://velog.io/@shi9476/Instagram-API-%EC%97%B0%EB%8F%99               # 참고자료 1 - long live token 자동재발급\\n\\nhttps://developers.facebook.com/docs/instagram-platform/instagram-graph-api/content-publishing#----------            # publishing\\n\\nhttps://developers.facebook.com/docs/instagram-platform/instagram-graph-api/reference/ig-user/media_publish         # replied comment\\n\\nhttps://developers.facebook.com/docs/instagram-platform/instagram-graph-api/comment-moderation'"
      ]
     },
     "execution_count": 44,
     "metadata": {},
     "output_type": "execute_result"
    }
   ],
   "source": [
    "# 댓글 작성 - 내일 참고하며 다시 해볼 것.\n",
    "\"\"\"\n",
    "https://medium.com/@maanideeprkummiitha/a-beginners-guide-to-interacting-with-instagram-using-python-and-the-graph-api-8fe7956fcc   # create api function tutorial\n",
    "\n",
    "https://velog.io/@shi9476/Instagram-API-%EC%97%B0%EB%8F%99               # 참고자료 1 - long live token 자동재발급\n",
    "\n",
    "https://developers.facebook.com/docs/instagram-platform/instagram-graph-api/content-publishing#----------            # publishing\n",
    "\n",
    "https://developers.facebook.com/docs/instagram-platform/instagram-graph-api/reference/ig-user/media_publish         # replied comment\n",
    "\n",
    "https://developers.facebook.com/docs/instagram-platform/instagram-graph-api/comment-moderation\"\"\" # 댓글에 답글 작성\n"
   ]
  },
  {
   "cell_type": "code",
   "execution_count": null,
   "metadata": {},
   "outputs": [],
   "source": []
  }
 ],
 "metadata": {
  "kernelspec": {
   "display_name": "Python 3",
   "language": "python",
   "name": "python3"
  },
  "language_info": {
   "codemirror_mode": {
    "name": "ipython",
    "version": 3
   },
   "file_extension": ".py",
   "mimetype": "text/x-python",
   "name": "python",
   "nbconvert_exporter": "python",
   "pygments_lexer": "ipython3",
   "version": "3.11.7"
  }
 },
 "nbformat": 4,
 "nbformat_minor": 2
}
