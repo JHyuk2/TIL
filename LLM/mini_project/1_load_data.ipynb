{
 "cells": [
  {
   "cell_type": "markdown",
   "metadata": {},
   "source": [
    "# 1. 데이터 불러오기\n",
    "사용하는 데이터는 2가지 형식이다.  \n",
    "- 1. PDF(`.pdf`)\n",
    "- 2. PPT(`.pptx`)"
   ]
  },
  {
   "cell_type": "markdown",
   "metadata": {},
   "source": [
    "## 1-1. PDF reader\n",
    "\n",
    "PDF 파일을 읽어주는 라이브러리는 크게 세 가지(`PyPDF2, PyMuPDF, PdfPlumber`)가 있다.  \n",
    "하나를 선택해서 사용하기보단, 길이가 가장 긴 라이브러리를 사용해 텍스트를 추출 후  \n",
    "데이터 전처리 및 후처리를 거쳐 깔끔한 문장으로 구성된 텍스트 데이터(`.txt`)를 생성한다."
   ]
  },
  {
   "cell_type": "code",
   "execution_count": 1,
   "metadata": {},
   "outputs": [],
   "source": [
    "\"\"\"\n",
    "Requirements: pip install pypdf2 pymupdf pdfplumber\n",
    "\"\"\"\n",
    "\n",
    "import PyPDF2 # PyPDF2\n",
    "import fitz  # PyMuPDF\n",
    "import pdfplumber # python-pdfplumber\n",
    "\n",
    "\n",
    "def read_pdf(file_path):\n",
    "    pypdf_reader = PyPDF2.PdfReader(file_path)\n",
    "    fitz_reader = fitz.open(file_path)\n",
    "    pdfplumber_reader  = pdfplumber.open(file_path)\n",
    "\n",
    "    # 길이 비교를 위한 리스트\n",
    "    text_list = []\n",
    "\n",
    "    # 1) pypdf reader\n",
    "    text = ''\n",
    "    for page in pypdf_reader.pages:\n",
    "        text += page.extract_text()\n",
    "    text_list.append(text)\n",
    "\n",
    "    # 2) pymupdf\n",
    "    text = ''\n",
    "    for page_num in range(len(fitz_reader)):\n",
    "        page = fitz_reader.load_page(page_num)\n",
    "        text += page.get_text()\n",
    "    text_list.append(text)\n",
    "\n",
    "    # 3) pdfplumber\n",
    "    text = ''\n",
    "    for page in pdfplumber_reader.pages:\n",
    "        text += page.extract_text()\n",
    "    text_list.append(text)\n",
    "\n",
    "    # 길이비교 후 가장 긴 텍스트를 결과값으로 반환\n",
    "    length_list = [len(text) for text in text_list]\n",
    "    max_idx = length_list.index(max(length_list))\n",
    "    \n",
    "    # 메모리 누수 방지(파일 닫기\n",
    "    fitz_reader.close()\n",
    "    pdfplumber_reader.close()\n",
    "\n",
    "    # print(length_list, max_idx) # 길이를 보고싶을 땐 출력\n",
    "    return text_list[max_idx]"
   ]
  },
  {
   "cell_type": "markdown",
   "metadata": {},
   "source": [
    "## 1-2. PPTX reader\n",
    "`pdf, pptx` 두 가지 파일이 모두 존재하는 경우, 비교를 통해 더 텍스트 추출이 잘 된 것을 사용한다."
   ]
  },
  {
   "cell_type": "code",
   "execution_count": 2,
   "metadata": {},
   "outputs": [],
   "source": [
    "\"\"\"\n",
    "Requirements: pip install python-pptx\n",
    "\"\"\"\n",
    "\n",
    "from pptx import Presentation\n",
    "import pandas as pd\n",
    "\n",
    "\n",
    "# extract text from slide\n",
    "def extract_text_from_slide(slide):\n",
    "    text = \"\"\n",
    "    for shape in slide.shapes:\n",
    "        if hasattr(shape, \"text_frame\") and shape.text_frame:\n",
    "            for paragraph in shape.text_frame.paragraphs:\n",
    "                for run in paragraph.runs:\n",
    "                    text += run.text + \" \"\n",
    "    return text.strip()\n",
    "\n",
    "def read_ppt(file_path):\n",
    "    text = ''\n",
    "    prs = Presentation(file_path)\n",
    "    for slide in prs.slides:\n",
    "        text += extract_text_from_slide(slide) + '\\n'\n",
    "    return text"
   ]
  },
  {
   "cell_type": "markdown",
   "metadata": {},
   "source": [
    "## 돌아가는 코드"
   ]
  },
  {
   "cell_type": "code",
   "execution_count": 3,
   "metadata": {},
   "outputs": [],
   "source": [
    "# 기본경로\n",
    "import os\n",
    "# 정리 이후 디렉토리 패스 변경, (기존 directory = \"./dataset/\")\n",
    "directory = \"./dataset/pdf_pptx/\"\n",
    "\n",
    "files = os.listdir(directory)\n",
    "\n",
    "# 모든 pdf, pptx 불러오기\n",
    "pdf_files = [file for file in files if file.endswith('.pdf')]\n",
    "pptx_files = [file for file in files if file.endswith('pptx')]\n",
    "pdf_files_name = list(map(lambda x:x[:-4], pdf_files))\n",
    "ppt_files_name = list(map(lambda x:x[:-5], pptx_files))\n",
    "\n",
    "# pdf기반으로 살펴보되, pptx가 존재하면 ppt도 읽기\n",
    "for file_name in pdf_files_name:\n",
    "    file_path = directory + file_name\n",
    "    read_text = read_pdf(f'{file_path}.pdf')\n",
    "\n",
    "    # ppt file의 문서 길이가 더 긴 경우, ppt 읽기\n",
    "    if file_name in ppt_files_name:\n",
    "        ppt_text = read_ppt(f'{file_path}.pptx')\n",
    "        if len(ppt_text) > len(read_text):\n",
    "            read_text = ppt_text\n",
    "\n",
    "    # 텍스트(.txt) 문서 저장        \n",
    "    with open(f\"{directory}{file_name}.txt\", \"w\", encoding='utf-8') as f:\n",
    "        f.write(read_text)"
   ]
  },
  {
   "cell_type": "code",
   "execution_count": 4,
   "metadata": {},
   "outputs": [
    {
     "data": {
      "text/html": [
       "<div>\n",
       "<style scoped>\n",
       "    .dataframe tbody tr th:only-of-type {\n",
       "        vertical-align: middle;\n",
       "    }\n",
       "\n",
       "    .dataframe tbody tr th {\n",
       "        vertical-align: top;\n",
       "    }\n",
       "\n",
       "    .dataframe thead th {\n",
       "        text-align: right;\n",
       "    }\n",
       "</style>\n",
       "<table border=\"1\" class=\"dataframe\">\n",
       "  <thead>\n",
       "    <tr style=\"text-align: right;\">\n",
       "      <th></th>\n",
       "      <th>Slide Number</th>\n",
       "      <th>Text</th>\n",
       "      <th>processed_text</th>\n",
       "    </tr>\n",
       "  </thead>\n",
       "  <tbody>\n",
       "    <tr>\n",
       "      <th>0</th>\n",
       "      <td>1</td>\n",
       "      <td>편견 을 걷어내면  인재 가 보입니다 직장 내 장애인 인식개선 교육 장애인 고용</td>\n",
       "      <td>1. 편견 을 걷어내면 인재 가 보입니다\\n2. 직장 내 장애인 인식개선 교육\\n3...</td>\n",
       "    </tr>\n",
       "    <tr>\n",
       "      <th>1</th>\n",
       "      <td>2</td>\n",
       "      <td>장애인 고용 ,  기업에게 어떤 의미가 있을까 함께 일하는 동료 이해하기  장애인 ...</td>\n",
       "      <td>1. 장애인 고용, 기업에게 어떤 의미인가? 함께 일하는 동료 이해하기\\n2. 장애...</td>\n",
       "    </tr>\n",
       "    <tr>\n",
       "      <th>2</th>\n",
       "      <td>3</td>\n",
       "      <td>01 장애인 고용 , 기업에게 어떤 의미가 있을까</td>\n",
       "      <td>1. 장애인 고용, 기업에게 어떤 의미인가요?</td>\n",
       "    </tr>\n",
       "    <tr>\n",
       "      <th>3</th>\n",
       "      <td>4</td>\n",
       "      <td>차별도 우대도 없었던   게임 산업 분위기 속  장애인 고용의 돌파구 2011 년 ...</td>\n",
       "      <td>1. 차별도 우대도 없었던 게임 산업 분위기 속 장애인 고용의 돌파구 2011 년 ...</td>\n",
       "    </tr>\n",
       "    <tr>\n",
       "      <th>4</th>\n",
       "      <td>5</td>\n",
       "      <td>장애인 업무의 한계를 없애다   상시  근로자  100,016 명  /  장애인  ...</td>\n",
       "      <td>1. 장애인 업무의 한계를 없애다\\n2. 상시 근로자 100,016 명 / 장애 근...</td>\n",
       "    </tr>\n",
       "  </tbody>\n",
       "</table>\n",
       "</div>"
      ],
      "text/plain": [
       "   Slide Number                                               Text  \\\n",
       "0             1       편견 을 걷어내면  인재 가 보입니다 직장 내 장애인 인식개선 교육 장애인 고용   \n",
       "1             2  장애인 고용 ,  기업에게 어떤 의미가 있을까 함께 일하는 동료 이해하기  장애인 ...   \n",
       "2             3                        01 장애인 고용 , 기업에게 어떤 의미가 있을까   \n",
       "3             4  차별도 우대도 없었던   게임 산업 분위기 속  장애인 고용의 돌파구 2011 년 ...   \n",
       "4             5  장애인 업무의 한계를 없애다   상시  근로자  100,016 명  /  장애인  ...   \n",
       "\n",
       "                                      processed_text  \n",
       "0  1. 편견 을 걷어내면 인재 가 보입니다\\n2. 직장 내 장애인 인식개선 교육\\n3...  \n",
       "1  1. 장애인 고용, 기업에게 어떤 의미인가? 함께 일하는 동료 이해하기\\n2. 장애...  \n",
       "2                          1. 장애인 고용, 기업에게 어떤 의미인가요?  \n",
       "3  1. 차별도 우대도 없었던 게임 산업 분위기 속 장애인 고용의 돌파구 2011 년 ...  \n",
       "4  1. 장애인 업무의 한계를 없애다\\n2. 상시 근로자 100,016 명 / 장애 근...  "
      ]
     },
     "execution_count": 4,
     "metadata": {},
     "output_type": "execute_result"
    }
   ],
   "source": [
    "import pandas as pd\n",
    "df = pd.read_csv('output.csv')\n",
    "\n",
    "df.head()"
   ]
  },
  {
   "cell_type": "code",
   "execution_count": null,
   "metadata": {},
   "outputs": [],
   "source": []
  }
 ],
 "metadata": {
  "kernelspec": {
   "display_name": "Python 3",
   "language": "python",
   "name": "python3"
  },
  "language_info": {
   "codemirror_mode": {
    "name": "ipython",
    "version": 3
   },
   "file_extension": ".py",
   "mimetype": "text/x-python",
   "name": "python",
   "nbconvert_exporter": "python",
   "pygments_lexer": "ipython3",
   "version": "3.11.7"
  }
 },
 "nbformat": 4,
 "nbformat_minor": 2
}
