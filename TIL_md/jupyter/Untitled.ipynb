{
 "cells": [
  {
   "cell_type": "code",
   "execution_count": 5,
   "metadata": {},
   "outputs": [
    {
     "name": "stdout",
     "output_type": "stream",
     "text": [
      "3\n",
      "17\n",
      "1\n",
      "39\n",
      "8\n",
      "41\n",
      "2\n",
      "32\n",
      "99\n",
      "2\n"
     ]
    }
   ],
   "source": [
    "# test_case = input()\n",
    "test_case = '3 17 1 39 8 41 2 32 99 2'\n",
    "tmp = test_case.split(' ')\n",
    "result = 0\n",
    "\n",
    "for t in tmp:\n",
    "    print(int(t))"
   ]
  },
  {
   "cell_type": "code",
   "execution_count": 8,
   "metadata": {},
   "outputs": [
    {
     "name": "stdout",
     "output_type": "stream",
     "text": [
      "3\n",
      "12345\n",
      "#1 12345\n",
      "3\n",
      "#2 3\n",
      "1\n",
      "#3 1\n"
     ]
    }
   ],
   "source": [
    "T = int(input()) ## 입력받음\n",
    "\n",
    "for tc in range(T) :\n",
    "    nums = map(int,input().split())\n",
    "    res = sum(n for n in nums if n%2==1)\n",
    "    print( f\"#{tc+1} {res}\" )"
   ]
  },
  {
   "cell_type": "code",
   "execution_count": 13,
   "metadata": {},
   "outputs": [
    {
     "name": "stdout",
     "output_type": "stream",
     "text": [
      "[1, 2, 3, 4, 5]\n"
     ]
    }
   ],
   "source": [
    "l1 = '1,2,3,4,5'\n",
    "l2 = [4,5,6,7,8]\n",
    "\n",
    "print(list(map(int, l1.split(','))))"
   ]
  },
  {
   "cell_type": "code",
   "execution_count": 40,
   "metadata": {},
   "outputs": [],
   "source": [
    "rs_text = ['!@#%!!@#%', 'asdfa알뭉리!@#$!#$']"
   ]
  },
  {
   "cell_type": "code",
   "execution_count": 45,
   "metadata": {},
   "outputs": [
    {
     "data": {
      "text/plain": [
       "['!@#%!!@#%!@#$@!', 'asdfa알뭉리!@#$!#$']"
      ]
     },
     "execution_count": 45,
     "metadata": {},
     "output_type": "execute_result"
    }
   ],
   "source": [
    "rs_text"
   ]
  },
  {
   "cell_type": "code",
   "execution_count": 46,
   "metadata": {},
   "outputs": [],
   "source": [
    "def remove_special(after_remove_url): # 특수문자제거\n",
    "    result = []\n",
    "    for i, line in enumerate(after_remove_url):\n",
    "        tmp = ' '.join([word if word.isalpha() else (''.join([w for w in word if w.isalpha()])) for word in line])\n",
    "        result.append(tmp)\n",
    "    return result"
   ]
  },
  {
   "cell_type": "code",
   "execution_count": 38,
   "metadata": {},
   "outputs": [],
   "source": [
    "def romove_special(after_remove_url):\n",
    "    result = []\n",
    "    for i, line in enumerate(after_remove_url):\n",
    "        tmp = ''\n",
    "        for word in line:\n",
    "            if word.isalpha():\n",
    "                tmp += word\n",
    "            else:\n",
    "                ''.join([w for w in word if w.isalpha()])\n",
    "                \n",
    "        result.append(tmp)\n",
    "    return result"
   ]
  },
  {
   "cell_type": "code",
   "execution_count": 52,
   "metadata": {},
   "outputs": [],
   "source": [
    "def ssafy(name, location = '서울'):\n",
    "    print(f'{name}의 지역은 {location}입니다.')"
   ]
  },
  {
   "cell_type": "code",
   "execution_count": 54,
   "metadata": {},
   "outputs": [
    {
     "name": "stdout",
     "output_type": "stream",
     "text": [
      "철수의 지역은 대전입니다.\n"
     ]
    }
   ],
   "source": [
    "ssafy(location='대전', name='철수')"
   ]
  },
  {
   "cell_type": "code",
   "execution_count": 55,
   "metadata": {},
   "outputs": [
    {
     "name": "stdout",
     "output_type": "stream",
     "text": [
      "길동의 지역은 광주입니다.\n"
     ]
    }
   ],
   "source": [
    "ssafy('길동', location = '광주')"
   ]
  },
  {
   "cell_type": "code",
   "execution_count": 64,
   "metadata": {},
   "outputs": [
    {
     "ename": "TypeError",
     "evalue": "ssafy() got multiple values for argument 'name'",
     "output_type": "error",
     "traceback": [
      "\u001b[1;31m---------------------------------------------------------------------------\u001b[0m",
      "\u001b[1;31mTypeError\u001b[0m                                 Traceback (most recent call last)",
      "\u001b[1;32m<ipython-input-64-da637d89dba6>\u001b[0m in \u001b[0;36m<module>\u001b[1;34m\u001b[0m\n\u001b[1;32m----> 1\u001b[1;33m \u001b[0mssafy\u001b[0m\u001b[1;33m(\u001b[0m\u001b[1;34m'허준'\u001b[0m\u001b[1;33m,\u001b[0m \u001b[0mname\u001b[0m \u001b[1;33m=\u001b[0m \u001b[1;34m'구미'\u001b[0m\u001b[1;33m)\u001b[0m\u001b[1;33m\u001b[0m\u001b[1;33m\u001b[0m\u001b[0m\n\u001b[0m",
      "\u001b[1;31mTypeError\u001b[0m: ssafy() got multiple values for argument 'name'"
     ]
    }
   ],
   "source": [
    "ssafy('허준', name = '구미')"
   ]
  },
  {
   "cell_type": "code",
   "execution_count": 65,
   "metadata": {},
   "outputs": [
    {
     "ename": "SyntaxError",
     "evalue": "non-default argument follows default argument (<ipython-input-65-bbf15b7f3edb>, line 1)",
     "output_type": "error",
     "traceback": [
      "\u001b[1;36m  File \u001b[1;32m\"<ipython-input-65-bbf15b7f3edb>\"\u001b[1;36m, line \u001b[1;32m1\u001b[0m\n\u001b[1;33m    def ssafy(name = '종혁', location):\u001b[0m\n\u001b[1;37m             ^\u001b[0m\n\u001b[1;31mSyntaxError\u001b[0m\u001b[1;31m:\u001b[0m non-default argument follows default argument\n"
     ]
    }
   ],
   "source": [
    "def ssafy(name = '종혁', location):\n",
    "    print(f'{name}의 지역은 {location}입니다.')"
   ]
  },
  {
   "cell_type": "code",
   "execution_count": null,
   "metadata": {},
   "outputs": [],
   "source": []
  }
 ],
 "metadata": {
  "kernelspec": {
   "display_name": "Python 3",
   "language": "python",
   "name": "python3"
  },
  "language_info": {
   "codemirror_mode": {
    "name": "ipython",
    "version": 3
   },
   "file_extension": ".py",
   "mimetype": "text/x-python",
   "name": "python",
   "nbconvert_exporter": "python",
   "pygments_lexer": "ipython3",
   "version": "3.7.3"
  }
 },
 "nbformat": 4,
 "nbformat_minor": 4
}
