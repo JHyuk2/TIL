{
 "cells": [
  {
   "cell_type": "markdown",
   "metadata": {},
   "source": [
    "## 보충 Q1.\n",
    "\n",
    "> 양수/음수/0의 비율을 각각 순서대로 출력하시오.\n",
    "\n",
    "```\n",
    "예시 입력)\n",
    "0 -1 3 5 \n",
    "\n",
    "예시 출력)\n",
    "0.5 0.25 0.25\n",
    "```\n",
    "\n"
   ]
  },
  {
   "cell_type": "code",
   "execution_count": 13,
   "metadata": {},
   "outputs": [
    {
     "name": "stdout",
     "output_type": "stream",
     "text": [
      "0 -1 3 5\n",
      "0.5 0.25 0.25\n"
     ]
    }
   ],
   "source": [
    "numbers = input()\n",
    "# 아래에 코드를 작성하세요\n",
    "\n",
    "num_list = list(int(num) for num in numbers.split(' '))\n",
    "\n",
    "total = len(num_list)\n",
    "positive = 0\n",
    "negative = 0\n",
    "zero = 0\n",
    "\n",
    "for num in num_list:\n",
    "    if num >0 :\n",
    "        positive += 1\n",
    "    elif num <0:\n",
    "        negative += 1\n",
    "    else:\n",
    "        zero += 1\n",
    "    \n",
    "print(positive/total, negative/total, zero/total)"
   ]
  },
  {
   "cell_type": "code",
   "execution_count": 14,
   "metadata": {},
   "outputs": [
    {
     "name": "stdout",
     "output_type": "stream",
     "text": [
      "0 -1 3 5\n",
      "0.5 0.25 0.25\n"
     ]
    }
   ],
   "source": [
    "tc = input()\n",
    "\n",
    "numbers = [int(n) for n in tc.split()]\n",
    "\n",
    "total = len(numbers)\n",
    "positive = len([num for num in numbers if num>0]) / total\n",
    "negative = len([num for num in numbers if num<0]) / total\n",
    "zero = len([num for num in numbers if num==0]) / total\n",
    "\n",
    "print(positive, negative, zero)"
   ]
  },
  {
   "cell_type": "code",
   "execution_count": null,
   "metadata": {},
   "outputs": [],
   "source": [
    "tc = input()\n",
    "numbers = list(int(n) for n in tc.split())\n",
    "total = len(numbers)\n",
    "\n",
    "positive, negative, zero = 0, 0, 0\n",
    "tmp = []\n",
    "\n",
    "# list comprehension\n",
    "# - list를 순회하여, 특정 조건의 값들로 구성된 list를 만들 때 사용."
   ]
  },
  {
   "cell_type": "markdown",
   "metadata": {},
   "source": [
    "## 보충 Q2.\n",
    "\n",
    "> justin과 neo가 카드게임을 하고 있다. 아래의 예시 값은 카드를 낸 순서이다. \n",
    ">\n",
    "> 숫자를 비교해서 같으면 0점, 숫자가 더 크면 1점이라고 할 때 justin과 neo의 점수를 순서대로 출력하시오.\n",
    "\n",
    "```\n",
    "예시 값)\n",
    "justin = [10, 6, 8, 2, 1]\n",
    "neo = [2, 7, 3, 5, 10]\n",
    "\n",
    "예시 출력)\n",
    "2 3\n",
    "```"
   ]
  },
  {
   "cell_type": "code",
   "execution_count": 7,
   "metadata": {},
   "outputs": [
    {
     "name": "stdout",
     "output_type": "stream",
     "text": [
      "2 3\n"
     ]
    }
   ],
   "source": [
    "justin = [10, 6, 8, 2, 1]\n",
    "neo = [2, 7, 3, 5, 10]\n",
    "\n",
    "# 아래에 코드를 작성하세요.\n",
    "j_score = 0\n",
    "n_score = 0\n",
    "\n",
    "for j, n in zip(justin, neo):\n",
    "    if j > n:\n",
    "        j_score += 1\n",
    "    elif j< n :\n",
    "        n_score +=1\n",
    "    else: # j == n\n",
    "        continue\n",
    "        \n",
    "print(j_score, n_score)"
   ]
  },
  {
   "cell_type": "code",
   "execution_count": null,
   "metadata": {},
   "outputs": [],
   "source": [
    "for idx in range(len(justin)):\n",
    "    if justin[idx] "
   ]
  },
  {
   "cell_type": "markdown",
   "metadata": {},
   "source": [
    "## 보충 Q3.\n",
    "\n",
    "> 두 단어 중에 중복된 알파벳이 있는지 여부를 판단하여 True 혹은 False를 반환하시오.\n",
    "\n",
    "```\n",
    "예시 입력)\n",
    "print(is_contain_same_alphabet('my', 'sweet home'))\n",
    "print(is_contain_same_alphabet('oreo', 'kikat'))\n",
    "\n",
    "예시 출력)\n",
    "True\n",
    "False\n",
    "```"
   ]
  },
  {
   "cell_type": "code",
   "execution_count": 10,
   "metadata": {},
   "outputs": [],
   "source": [
    "def is_contain_same_alphabet(a, b):\n",
    "    # 아래에 코드를 작성하시오.\n",
    "    flag = 0\n",
    "    for i in a:\n",
    "        for j in b:\n",
    "            if j == i:\n",
    "                flag = 1\n",
    "            else:\n",
    "                continue\n",
    "                \n",
    "    return bool(flag)"
   ]
  },
  {
   "cell_type": "code",
   "execution_count": 21,
   "metadata": {},
   "outputs": [],
   "source": [
    "def is_contain_same_alphabet(a, b):\n",
    "    # 아래에 코드를 작성하시오.\n",
    "    for char in a:\n",
    "        if a in b:\n",
    "            return True # return을 만나면 거기서 실행이 종료된다.\n",
    "        \n",
    "    return False"
   ]
  },
  {
   "cell_type": "code",
   "execution_count": 22,
   "metadata": {},
   "outputs": [
    {
     "name": "stdout",
     "output_type": "stream",
     "text": [
      "False\n",
      "False\n"
     ]
    }
   ],
   "source": [
    "print(is_contain_same_alphabet('my', 'sweet home'))\n",
    "print(is_contain_same_alphabet('oreo', 'kikat'))"
   ]
  },
  {
   "cell_type": "code",
   "execution_count": 23,
   "metadata": {},
   "outputs": [],
   "source": [
    "def palindrome(word):\n",
    "    middle = len(word)//2\n",
    "    for i in range(middle) +1:\n",
    "        if word[i] != word[-1-i:]:\n",
    "            return False\n",
    "        else:\n",
    "            continue\n",
    "    else:\n",
    "        return True"
   ]
  },
  {
   "cell_type": "code",
   "execution_count": 49,
   "metadata": {},
   "outputs": [
    {
     "name": "stdout",
     "output_type": "stream",
     "text": [
      "3번째 인덱스, a != v\n",
      "False\n"
     ]
    }
   ],
   "source": [
    "word = 'htoavoth'\n",
    "middle = len(word)//2\n",
    "\n",
    "flag = 1\n",
    "for i in range(middle):\n",
    "    if word[i] != word[-1-i]:\n",
    "        print(f'{i}번째 인덱스, {word[i]} != {word[-1-i]}')\n",
    "        flag = 0\n",
    "        break\n",
    "    else:\n",
    "        continue\n",
    "        \n",
    "print(bool(flag))"
   ]
  },
  {
   "cell_type": "code",
   "execution_count": 45,
   "metadata": {},
   "outputs": [
    {
     "data": {
      "text/plain": [
       "'tooth'"
      ]
     },
     "execution_count": 45,
     "metadata": {},
     "output_type": "execute_result"
    }
   ],
   "source": [
    "word"
   ]
  },
  {
   "cell_type": "code",
   "execution_count": 46,
   "metadata": {},
   "outputs": [
    {
     "data": {
      "text/plain": [
       "'h'"
      ]
     },
     "execution_count": 46,
     "metadata": {},
     "output_type": "execute_result"
    }
   ],
   "source": [
    "word[-1]"
   ]
  },
  {
   "cell_type": "code",
   "execution_count": null,
   "metadata": {},
   "outputs": [],
   "source": []
  }
 ],
 "metadata": {
  "kernelspec": {
   "display_name": "Python 3",
   "language": "python",
   "name": "python3"
  },
  "language_info": {
   "codemirror_mode": {
    "name": "ipython",
    "version": 3
   },
   "file_extension": ".py",
   "mimetype": "text/x-python",
   "name": "python",
   "nbconvert_exporter": "python",
   "pygments_lexer": "ipython3",
   "version": "3.7.3"
  }
 },
 "nbformat": 4,
 "nbformat_minor": 2
}
